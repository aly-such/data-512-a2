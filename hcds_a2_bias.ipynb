{
  "nbformat": 4,
  "nbformat_minor": 5,
  "metadata": {
    "kernelspec": {
      "display_name": "Python 3",
      "language": "python",
      "name": "python3"
    },
    "language_info": {
      "codemirror_mode": {
        "name": "ipython",
        "version": 3
      },
      "file_extension": ".py",
      "mimetype": "text/x-python",
      "name": "python",
      "nbconvert_exporter": "python",
      "pygments_lexer": "ipython3",
      "version": "3.8.8"
    },
    "colab": {
      "name": "hcds-a2-bias.ipynb",
      "provenance": [],
      "collapsed_sections": [],
      "include_colab_link": true
    }
  },
  "cells": [
    {
      "cell_type": "markdown",
      "metadata": {
        "id": "view-in-github",
        "colab_type": "text"
      },
      "source": [
        "<a href=\"https://colab.research.google.com/github/aly-such/data-512-a2/blob/main/hcds_a2_bias.ipynb\" target=\"_parent\"><img src=\"https://colab.research.google.com/assets/colab-badge.svg\" alt=\"Open In Colab\"/></a>"
      ]
    },
    {
      "cell_type": "markdown",
      "metadata": {
        "id": "DqfxCimVeAnb"
      },
      "source": [
        "# **A2 - Bias in Data Assignment**\n",
        "**Alyson Suchodolski**\n",
        "\n",
        "\n",
        "---\n",
        "\n",
        "\n",
        "The goal of this assignment is to collect, curate, and analyze data on articles of politicians for many countries, then explore the biases that can be present in this analysis.\n",
        "We will collect article data from Wikipedia as well as population data from the Population Reference Bureau. "
      ],
      "id": "DqfxCimVeAnb"
    },
    {
      "cell_type": "markdown",
      "metadata": {
        "id": "FRDU3PTLe15V"
      },
      "source": [
        "**Import necessary packages**"
      ],
      "id": "FRDU3PTLe15V"
    },
    {
      "cell_type": "code",
      "metadata": {
        "id": "93150b29"
      },
      "source": [
        "# install ores locally\n",
        "# Will need to comment out and rerun this cell again so output isn't messy\n",
        "# When booting up notebook again, you'll have to uncomment to reinstall ores locally\n",
        "# If ores is already installed in your system, you won't need to run this\n",
        "# !pip install ores\n",
        "\n",
        "# imports\n",
        "import requests\n",
        "import json\n",
        "import pandas as pd\n",
        "import numpy as np\n",
        "from ores import api"
      ],
      "id": "93150b29",
      "execution_count": null,
      "outputs": []
    },
    {
      "cell_type": "markdown",
      "metadata": {
        "id": "HosWawNDe9zH"
      },
      "source": [
        "**Clone the github repository**"
      ],
      "id": "HosWawNDe9zH"
    },
    {
      "cell_type": "code",
      "metadata": {
        "colab": {
          "base_uri": "https://localhost:8080/"
        },
        "id": "pDQ9fHtSP8CO",
        "outputId": "ecfeb1c1-f350-4c0b-ede3-b5655d193531"
      },
      "source": [
        "!git clone https://github.com/aly-such/data-512-a2.git"
      ],
      "id": "pDQ9fHtSP8CO",
      "execution_count": null,
      "outputs": [
        {
          "output_type": "stream",
          "name": "stdout",
          "text": [
            "fatal: destination path 'data-512-a2' already exists and is not an empty directory.\n"
          ]
        }
      ]
    },
    {
      "cell_type": "markdown",
      "metadata": {
        "id": "oL6f72qFfEUx"
      },
      "source": [
        "### **Step 1: Getting the Article and Population Data**\n",
        "First we must collect the necessary data from our sources below:\n",
        "\n",
        "\n",
        "*   [Politicians by Country Dataset](https://figshare.com/articles/Untitled_Item/5513449)\n",
        "*   [World Population Data Sheet](https://docs.google.com/spreadsheets/d/1CFJO2zna2No5KqNm9rPK5PCACoXKzb-nycJFhV689Iw/edit?usp=sharing)\n",
        "\n"
      ],
      "id": "oL6f72qFfEUx"
    },
    {
      "cell_type": "code",
      "metadata": {
        "id": "d3919389"
      },
      "source": [
        "# Politicians by Country dataset - from Figshare\n",
        "wiki = pd.read_csv('https://raw.githubusercontent.com/aly-such/data-512-a2/main/page_data.csv')\n",
        "\n",
        "# Population Data - from Population Reference Bureau\n",
        "pop = pd.read_csv('https://raw.githubusercontent.com/aly-such/data-512-a2/main/WPDS_2020_data.csv')"
      ],
      "id": "d3919389",
      "execution_count": null,
      "outputs": []
    },
    {
      "cell_type": "code",
      "metadata": {
        "colab": {
          "base_uri": "https://localhost:8080/",
          "height": 203
        },
        "id": "936036ce",
        "outputId": "4e63e2ff-8fa2-45c3-ce39-399f4ada7b3b"
      },
      "source": [
        "wiki.head()"
      ],
      "id": "936036ce",
      "execution_count": null,
      "outputs": [
        {
          "output_type": "execute_result",
          "data": {
            "text/html": [
              "<div>\n",
              "<style scoped>\n",
              "    .dataframe tbody tr th:only-of-type {\n",
              "        vertical-align: middle;\n",
              "    }\n",
              "\n",
              "    .dataframe tbody tr th {\n",
              "        vertical-align: top;\n",
              "    }\n",
              "\n",
              "    .dataframe thead th {\n",
              "        text-align: right;\n",
              "    }\n",
              "</style>\n",
              "<table border=\"1\" class=\"dataframe\">\n",
              "  <thead>\n",
              "    <tr style=\"text-align: right;\">\n",
              "      <th></th>\n",
              "      <th>page</th>\n",
              "      <th>country</th>\n",
              "      <th>rev_id</th>\n",
              "    </tr>\n",
              "  </thead>\n",
              "  <tbody>\n",
              "    <tr>\n",
              "      <th>0</th>\n",
              "      <td>Template:ZambiaProvincialMinisters</td>\n",
              "      <td>Zambia</td>\n",
              "      <td>235107991</td>\n",
              "    </tr>\n",
              "    <tr>\n",
              "      <th>1</th>\n",
              "      <td>Bir I of Kanem</td>\n",
              "      <td>Chad</td>\n",
              "      <td>355319463</td>\n",
              "    </tr>\n",
              "    <tr>\n",
              "      <th>2</th>\n",
              "      <td>Template:Zimbabwe-politician-stub</td>\n",
              "      <td>Zimbabwe</td>\n",
              "      <td>391862046</td>\n",
              "    </tr>\n",
              "    <tr>\n",
              "      <th>3</th>\n",
              "      <td>Template:Uganda-politician-stub</td>\n",
              "      <td>Uganda</td>\n",
              "      <td>391862070</td>\n",
              "    </tr>\n",
              "    <tr>\n",
              "      <th>4</th>\n",
              "      <td>Template:Namibia-politician-stub</td>\n",
              "      <td>Namibia</td>\n",
              "      <td>391862409</td>\n",
              "    </tr>\n",
              "  </tbody>\n",
              "</table>\n",
              "</div>"
            ],
            "text/plain": [
              "                                 page   country     rev_id\n",
              "0  Template:ZambiaProvincialMinisters    Zambia  235107991\n",
              "1                      Bir I of Kanem      Chad  355319463\n",
              "2   Template:Zimbabwe-politician-stub  Zimbabwe  391862046\n",
              "3     Template:Uganda-politician-stub    Uganda  391862070\n",
              "4    Template:Namibia-politician-stub   Namibia  391862409"
            ]
          },
          "metadata": {},
          "execution_count": 68
        }
      ]
    },
    {
      "cell_type": "markdown",
      "metadata": {
        "id": "Aied5jFFf1Ep"
      },
      "source": [
        "### **Step 2: Cleaning the Data**\n",
        "\n",
        "Both data sets have information we do not need.  Within the wiki dataframe, you will see 'Template:...\" at the beginning of some titles in the 'page' column. These are not wikipedia articles and can be dropped from the dataframe."
      ],
      "id": "Aied5jFFf1Ep"
    },
    {
      "cell_type": "code",
      "metadata": {
        "id": "7781a885"
      },
      "source": [
        "# Template:... are not wiki articles, drop from dataframe\n",
        "wiki = wiki[~wiki.page.str.contains(\"Template:\")]"
      ],
      "id": "7781a885",
      "execution_count": null,
      "outputs": []
    },
    {
      "cell_type": "code",
      "metadata": {
        "colab": {
          "base_uri": "https://localhost:8080/",
          "height": 203
        },
        "id": "7d2e21bd",
        "outputId": "bd0ed510-2e04-445e-866b-94905b80a097"
      },
      "source": [
        "wiki.head()"
      ],
      "id": "7d2e21bd",
      "execution_count": null,
      "outputs": [
        {
          "output_type": "execute_result",
          "data": {
            "text/html": [
              "<div>\n",
              "<style scoped>\n",
              "    .dataframe tbody tr th:only-of-type {\n",
              "        vertical-align: middle;\n",
              "    }\n",
              "\n",
              "    .dataframe tbody tr th {\n",
              "        vertical-align: top;\n",
              "    }\n",
              "\n",
              "    .dataframe thead th {\n",
              "        text-align: right;\n",
              "    }\n",
              "</style>\n",
              "<table border=\"1\" class=\"dataframe\">\n",
              "  <thead>\n",
              "    <tr style=\"text-align: right;\">\n",
              "      <th></th>\n",
              "      <th>page</th>\n",
              "      <th>country</th>\n",
              "      <th>rev_id</th>\n",
              "    </tr>\n",
              "  </thead>\n",
              "  <tbody>\n",
              "    <tr>\n",
              "      <th>1</th>\n",
              "      <td>Bir I of Kanem</td>\n",
              "      <td>Chad</td>\n",
              "      <td>355319463</td>\n",
              "    </tr>\n",
              "    <tr>\n",
              "      <th>10</th>\n",
              "      <td>Information Minister of the Palestinian Nation...</td>\n",
              "      <td>Palestinian Territory</td>\n",
              "      <td>393276188</td>\n",
              "    </tr>\n",
              "    <tr>\n",
              "      <th>12</th>\n",
              "      <td>Yos Por</td>\n",
              "      <td>Cambodia</td>\n",
              "      <td>393822005</td>\n",
              "    </tr>\n",
              "    <tr>\n",
              "      <th>23</th>\n",
              "      <td>Julius Gregr</td>\n",
              "      <td>Czech Republic</td>\n",
              "      <td>395521877</td>\n",
              "    </tr>\n",
              "    <tr>\n",
              "      <th>24</th>\n",
              "      <td>Edvard Gregr</td>\n",
              "      <td>Czech Republic</td>\n",
              "      <td>395526568</td>\n",
              "    </tr>\n",
              "  </tbody>\n",
              "</table>\n",
              "</div>"
            ],
            "text/plain": [
              "                                                 page  ...     rev_id\n",
              "1                                      Bir I of Kanem  ...  355319463\n",
              "10  Information Minister of the Palestinian Nation...  ...  393276188\n",
              "12                                            Yos Por  ...  393822005\n",
              "23                                       Julius Gregr  ...  395521877\n",
              "24                                       Edvard Gregr  ...  395526568\n",
              "\n",
              "[5 rows x 3 columns]"
            ]
          },
          "metadata": {},
          "execution_count": 70
        }
      ]
    },
    {
      "cell_type": "markdown",
      "metadata": {
        "id": "7-tdc88ZgVHZ"
      },
      "source": [
        "For neatness purposes, I have dropped some fields that we will not be using."
      ],
      "id": "7-tdc88ZgVHZ"
    },
    {
      "cell_type": "code",
      "metadata": {
        "colab": {
          "base_uri": "https://localhost:8080/",
          "height": 203
        },
        "id": "e25d4b7b",
        "outputId": "aca19160-e562-4cb1-880f-c242f9d3912e"
      },
      "source": [
        "pop = pop.drop(columns= ['TimeFrame', 'FIPS', 'Data (M)'])\n",
        "pop.head()"
      ],
      "id": "e25d4b7b",
      "execution_count": null,
      "outputs": [
        {
          "output_type": "execute_result",
          "data": {
            "text/html": [
              "<div>\n",
              "<style scoped>\n",
              "    .dataframe tbody tr th:only-of-type {\n",
              "        vertical-align: middle;\n",
              "    }\n",
              "\n",
              "    .dataframe tbody tr th {\n",
              "        vertical-align: top;\n",
              "    }\n",
              "\n",
              "    .dataframe thead th {\n",
              "        text-align: right;\n",
              "    }\n",
              "</style>\n",
              "<table border=\"1\" class=\"dataframe\">\n",
              "  <thead>\n",
              "    <tr style=\"text-align: right;\">\n",
              "      <th></th>\n",
              "      <th>Name</th>\n",
              "      <th>Type</th>\n",
              "      <th>Population</th>\n",
              "    </tr>\n",
              "  </thead>\n",
              "  <tbody>\n",
              "    <tr>\n",
              "      <th>0</th>\n",
              "      <td>WORLD</td>\n",
              "      <td>World</td>\n",
              "      <td>7772850000</td>\n",
              "    </tr>\n",
              "    <tr>\n",
              "      <th>1</th>\n",
              "      <td>AFRICA</td>\n",
              "      <td>Sub-Region</td>\n",
              "      <td>1337918000</td>\n",
              "    </tr>\n",
              "    <tr>\n",
              "      <th>2</th>\n",
              "      <td>NORTHERN AFRICA</td>\n",
              "      <td>Sub-Region</td>\n",
              "      <td>244344000</td>\n",
              "    </tr>\n",
              "    <tr>\n",
              "      <th>3</th>\n",
              "      <td>Algeria</td>\n",
              "      <td>Country</td>\n",
              "      <td>44357000</td>\n",
              "    </tr>\n",
              "    <tr>\n",
              "      <th>4</th>\n",
              "      <td>Egypt</td>\n",
              "      <td>Country</td>\n",
              "      <td>100803000</td>\n",
              "    </tr>\n",
              "  </tbody>\n",
              "</table>\n",
              "</div>"
            ],
            "text/plain": [
              "              Name        Type  Population\n",
              "0            WORLD       World  7772850000\n",
              "1           AFRICA  Sub-Region  1337918000\n",
              "2  NORTHERN AFRICA  Sub-Region   244344000\n",
              "3          Algeria     Country    44357000\n",
              "4            Egypt     Country   100803000"
            ]
          },
          "metadata": {},
          "execution_count": 130
        }
      ]
    },
    {
      "cell_type": "markdown",
      "metadata": {
        "id": "8rtRU1z7gsm5"
      },
      "source": [
        "Now, we will create two separate dataframes for the population data. Because only countries exist within the wiki dataset and have a rev_id, we will want to house the sub-regional data in a separate frame. This sub-regional data can be identified with all caps (ex. SOUTHEAST ASIA), so those must be popped out from the country dataframe that we want."
      ],
      "id": "8rtRU1z7gsm5"
    },
    {
      "cell_type": "code",
      "metadata": {
        "id": "62b96234"
      },
      "source": [
        "# Separate The regional populations from the country populations\n",
        "# First, create a dataframe of the Names that are not in all caps (country-level counts)\n",
        "# These rows will match country values in paga_data.csv\n",
        "country_pop = pop[~pop.Name.str.isupper()]\n",
        "\n",
        "# Second, create a dataframe of the Names that are in all caps (regional-level counts)\n",
        "# These rows will not have a match in paga_data.csv\n",
        "region_pop = pop[pop.Name.str.isupper()]"
      ],
      "id": "62b96234",
      "execution_count": null,
      "outputs": []
    },
    {
      "cell_type": "code",
      "metadata": {
        "colab": {
          "base_uri": "https://localhost:8080/",
          "height": 788
        },
        "id": "bc734be1",
        "outputId": "3b322aff-62ae-42bc-9231-41c7ffdd1dd0"
      },
      "source": [
        "region_pop"
      ],
      "id": "bc734be1",
      "execution_count": null,
      "outputs": [
        {
          "output_type": "execute_result",
          "data": {
            "text/html": [
              "<div>\n",
              "<style scoped>\n",
              "    .dataframe tbody tr th:only-of-type {\n",
              "        vertical-align: middle;\n",
              "    }\n",
              "\n",
              "    .dataframe tbody tr th {\n",
              "        vertical-align: top;\n",
              "    }\n",
              "\n",
              "    .dataframe thead th {\n",
              "        text-align: right;\n",
              "    }\n",
              "</style>\n",
              "<table border=\"1\" class=\"dataframe\">\n",
              "  <thead>\n",
              "    <tr style=\"text-align: right;\">\n",
              "      <th></th>\n",
              "      <th>Name</th>\n",
              "      <th>Type</th>\n",
              "      <th>Population</th>\n",
              "    </tr>\n",
              "  </thead>\n",
              "  <tbody>\n",
              "    <tr>\n",
              "      <th>0</th>\n",
              "      <td>WORLD</td>\n",
              "      <td>World</td>\n",
              "      <td>7772850000</td>\n",
              "    </tr>\n",
              "    <tr>\n",
              "      <th>1</th>\n",
              "      <td>AFRICA</td>\n",
              "      <td>Sub-Region</td>\n",
              "      <td>1337918000</td>\n",
              "    </tr>\n",
              "    <tr>\n",
              "      <th>2</th>\n",
              "      <td>NORTHERN AFRICA</td>\n",
              "      <td>Sub-Region</td>\n",
              "      <td>244344000</td>\n",
              "    </tr>\n",
              "    <tr>\n",
              "      <th>10</th>\n",
              "      <td>WESTERN AFRICA</td>\n",
              "      <td>Sub-Region</td>\n",
              "      <td>401115000</td>\n",
              "    </tr>\n",
              "    <tr>\n",
              "      <th>27</th>\n",
              "      <td>EASTERN AFRICA</td>\n",
              "      <td>Sub-Region</td>\n",
              "      <td>444970000</td>\n",
              "    </tr>\n",
              "    <tr>\n",
              "      <th>48</th>\n",
              "      <td>MIDDLE AFRICA</td>\n",
              "      <td>Sub-Region</td>\n",
              "      <td>179757000</td>\n",
              "    </tr>\n",
              "    <tr>\n",
              "      <th>58</th>\n",
              "      <td>SOUTHERN AFRICA</td>\n",
              "      <td>Sub-Region</td>\n",
              "      <td>67732000</td>\n",
              "    </tr>\n",
              "    <tr>\n",
              "      <th>64</th>\n",
              "      <td>NORTHERN AMERICA</td>\n",
              "      <td>Sub-Region</td>\n",
              "      <td>368193000</td>\n",
              "    </tr>\n",
              "    <tr>\n",
              "      <th>67</th>\n",
              "      <td>LATIN AMERICA AND THE CARIBBEAN</td>\n",
              "      <td>Sub-Region</td>\n",
              "      <td>651036000</td>\n",
              "    </tr>\n",
              "    <tr>\n",
              "      <th>68</th>\n",
              "      <td>CENTRAL AMERICA</td>\n",
              "      <td>Sub-Region</td>\n",
              "      <td>178611000</td>\n",
              "    </tr>\n",
              "    <tr>\n",
              "      <th>77</th>\n",
              "      <td>CARIBBEAN</td>\n",
              "      <td>Sub-Region</td>\n",
              "      <td>43233000</td>\n",
              "    </tr>\n",
              "    <tr>\n",
              "      <th>95</th>\n",
              "      <td>SOUTH AMERICA</td>\n",
              "      <td>Sub-Region</td>\n",
              "      <td>429191000</td>\n",
              "    </tr>\n",
              "    <tr>\n",
              "      <th>109</th>\n",
              "      <td>ASIA</td>\n",
              "      <td>Sub-Region</td>\n",
              "      <td>4625927000</td>\n",
              "    </tr>\n",
              "    <tr>\n",
              "      <th>110</th>\n",
              "      <td>WESTERN ASIA</td>\n",
              "      <td>Sub-Region</td>\n",
              "      <td>280927000</td>\n",
              "    </tr>\n",
              "    <tr>\n",
              "      <th>129</th>\n",
              "      <td>CENTRAL ASIA</td>\n",
              "      <td>Sub-Region</td>\n",
              "      <td>74961000</td>\n",
              "    </tr>\n",
              "    <tr>\n",
              "      <th>135</th>\n",
              "      <td>SOUTH ASIA</td>\n",
              "      <td>Sub-Region</td>\n",
              "      <td>1967131000</td>\n",
              "    </tr>\n",
              "    <tr>\n",
              "      <th>145</th>\n",
              "      <td>SOUTHEAST ASIA</td>\n",
              "      <td>Sub-Region</td>\n",
              "      <td>661845000</td>\n",
              "    </tr>\n",
              "    <tr>\n",
              "      <th>157</th>\n",
              "      <td>EAST ASIA</td>\n",
              "      <td>Sub-Region</td>\n",
              "      <td>1641063000</td>\n",
              "    </tr>\n",
              "    <tr>\n",
              "      <th>166</th>\n",
              "      <td>EUROPE</td>\n",
              "      <td>Sub-Region</td>\n",
              "      <td>746622000</td>\n",
              "    </tr>\n",
              "    <tr>\n",
              "      <th>167</th>\n",
              "      <td>NORTHERN EUROPE</td>\n",
              "      <td>Sub-Region</td>\n",
              "      <td>105990000</td>\n",
              "    </tr>\n",
              "    <tr>\n",
              "      <th>179</th>\n",
              "      <td>WESTERN EUROPE</td>\n",
              "      <td>Sub-Region</td>\n",
              "      <td>195479000</td>\n",
              "    </tr>\n",
              "    <tr>\n",
              "      <th>189</th>\n",
              "      <td>EASTERN EUROPE</td>\n",
              "      <td>Sub-Region</td>\n",
              "      <td>291902000</td>\n",
              "    </tr>\n",
              "    <tr>\n",
              "      <th>200</th>\n",
              "      <td>SOUTHERN EUROPE</td>\n",
              "      <td>Sub-Region</td>\n",
              "      <td>153251000</td>\n",
              "    </tr>\n",
              "    <tr>\n",
              "      <th>216</th>\n",
              "      <td>OCEANIA</td>\n",
              "      <td>Sub-Region</td>\n",
              "      <td>43155000</td>\n",
              "    </tr>\n",
              "  </tbody>\n",
              "</table>\n",
              "</div>"
            ],
            "text/plain": [
              "                                Name        Type  Population\n",
              "0                              WORLD       World  7772850000\n",
              "1                             AFRICA  Sub-Region  1337918000\n",
              "2                    NORTHERN AFRICA  Sub-Region   244344000\n",
              "10                    WESTERN AFRICA  Sub-Region   401115000\n",
              "27                    EASTERN AFRICA  Sub-Region   444970000\n",
              "48                     MIDDLE AFRICA  Sub-Region   179757000\n",
              "58                   SOUTHERN AFRICA  Sub-Region    67732000\n",
              "64                  NORTHERN AMERICA  Sub-Region   368193000\n",
              "67   LATIN AMERICA AND THE CARIBBEAN  Sub-Region   651036000\n",
              "68                   CENTRAL AMERICA  Sub-Region   178611000\n",
              "77                         CARIBBEAN  Sub-Region    43233000\n",
              "95                     SOUTH AMERICA  Sub-Region   429191000\n",
              "109                             ASIA  Sub-Region  4625927000\n",
              "110                     WESTERN ASIA  Sub-Region   280927000\n",
              "129                     CENTRAL ASIA  Sub-Region    74961000\n",
              "135                       SOUTH ASIA  Sub-Region  1967131000\n",
              "145                   SOUTHEAST ASIA  Sub-Region   661845000\n",
              "157                        EAST ASIA  Sub-Region  1641063000\n",
              "166                           EUROPE  Sub-Region   746622000\n",
              "167                  NORTHERN EUROPE  Sub-Region   105990000\n",
              "179                   WESTERN EUROPE  Sub-Region   195479000\n",
              "189                   EASTERN EUROPE  Sub-Region   291902000\n",
              "200                  SOUTHERN EUROPE  Sub-Region   153251000\n",
              "216                          OCEANIA  Sub-Region    43155000"
            ]
          },
          "metadata": {},
          "execution_count": 132
        }
      ]
    },
    {
      "cell_type": "code",
      "metadata": {
        "colab": {
          "base_uri": "https://localhost:8080/",
          "height": 203
        },
        "id": "50e50b31",
        "outputId": "24df65ee-af98-4d16-c4d0-857f94084dcd"
      },
      "source": [
        "country_pop.head()"
      ],
      "id": "50e50b31",
      "execution_count": null,
      "outputs": [
        {
          "output_type": "execute_result",
          "data": {
            "text/html": [
              "<div>\n",
              "<style scoped>\n",
              "    .dataframe tbody tr th:only-of-type {\n",
              "        vertical-align: middle;\n",
              "    }\n",
              "\n",
              "    .dataframe tbody tr th {\n",
              "        vertical-align: top;\n",
              "    }\n",
              "\n",
              "    .dataframe thead th {\n",
              "        text-align: right;\n",
              "    }\n",
              "</style>\n",
              "<table border=\"1\" class=\"dataframe\">\n",
              "  <thead>\n",
              "    <tr style=\"text-align: right;\">\n",
              "      <th></th>\n",
              "      <th>Name</th>\n",
              "      <th>Type</th>\n",
              "      <th>Population</th>\n",
              "    </tr>\n",
              "  </thead>\n",
              "  <tbody>\n",
              "    <tr>\n",
              "      <th>3</th>\n",
              "      <td>Algeria</td>\n",
              "      <td>Country</td>\n",
              "      <td>44357000</td>\n",
              "    </tr>\n",
              "    <tr>\n",
              "      <th>4</th>\n",
              "      <td>Egypt</td>\n",
              "      <td>Country</td>\n",
              "      <td>100803000</td>\n",
              "    </tr>\n",
              "    <tr>\n",
              "      <th>5</th>\n",
              "      <td>Libya</td>\n",
              "      <td>Country</td>\n",
              "      <td>6891000</td>\n",
              "    </tr>\n",
              "    <tr>\n",
              "      <th>6</th>\n",
              "      <td>Morocco</td>\n",
              "      <td>Country</td>\n",
              "      <td>35952000</td>\n",
              "    </tr>\n",
              "    <tr>\n",
              "      <th>7</th>\n",
              "      <td>Sudan</td>\n",
              "      <td>Country</td>\n",
              "      <td>43849000</td>\n",
              "    </tr>\n",
              "  </tbody>\n",
              "</table>\n",
              "</div>"
            ],
            "text/plain": [
              "      Name     Type  Population\n",
              "3  Algeria  Country    44357000\n",
              "4    Egypt  Country   100803000\n",
              "5    Libya  Country     6891000\n",
              "6  Morocco  Country    35952000\n",
              "7    Sudan  Country    43849000"
            ]
          },
          "metadata": {},
          "execution_count": 133
        }
      ]
    },
    {
      "cell_type": "code",
      "metadata": {
        "colab": {
          "base_uri": "https://localhost:8080/"
        },
        "id": "TJ_K8CB4rPl4",
        "outputId": "0c261b7e-abb2-482f-9c0a-d865813375b3"
      },
      "source": [
        "region_index = pop[pop['Type'] == 'Sub-Region'].index.to_list()\n",
        "\n",
        "region_index.remove(168)\n",
        "\n",
        "rdf = pd.DataFrame(region_index)\n",
        "\n",
        "rdf.rename(columns = {0 : 'rindex'}, inplace = True)\n",
        "\n",
        "print(rdf.head())"
      ],
      "id": "TJ_K8CB4rPl4",
      "execution_count": 198,
      "outputs": [
        {
          "output_type": "stream",
          "name": "stdout",
          "text": [
            "   rindex\n",
            "0       1\n",
            "1       2\n",
            "2      10\n",
            "3      27\n",
            "4      48\n"
          ]
        }
      ]
    },
    {
      "cell_type": "code",
      "metadata": {
        "id": "XBPAjUzCfWk0"
      },
      "source": [
        "reg_copy = region_pop.copy().reset_index(drop = True)"
      ],
      "id": "XBPAjUzCfWk0",
      "execution_count": 201,
      "outputs": []
    },
    {
      "cell_type": "code",
      "metadata": {
        "colab": {
          "base_uri": "https://localhost:8080/"
        },
        "id": "qtGA79272f4G",
        "outputId": "756bffef-7361-45e0-ab4e-dcb16a460957"
      },
      "source": [
        "repeat = rdf.diff()\n",
        "\n",
        "reg_copy['repeat_index'] = repeat\n",
        "\n",
        "reg_copy['repeat_index'] = reg_copy['repeat_index'].fillna(18)\n",
        "\n",
        "reg_copy.drop([0,1], inplace = True)\n",
        "\n",
        "print(reg_copy)"
      ],
      "id": "qtGA79272f4G",
      "execution_count": 202,
      "outputs": [
        {
          "output_type": "stream",
          "name": "stdout",
          "text": [
            "                               Name        Type  Population  repeat_index\n",
            "2                   NORTHERN AFRICA  Sub-Region   244344000           8.0\n",
            "3                    WESTERN AFRICA  Sub-Region   401115000          17.0\n",
            "4                    EASTERN AFRICA  Sub-Region   444970000          21.0\n",
            "5                     MIDDLE AFRICA  Sub-Region   179757000          10.0\n",
            "6                   SOUTHERN AFRICA  Sub-Region    67732000           6.0\n",
            "7                  NORTHERN AMERICA  Sub-Region   368193000           3.0\n",
            "8   LATIN AMERICA AND THE CARIBBEAN  Sub-Region   651036000           1.0\n",
            "9                   CENTRAL AMERICA  Sub-Region   178611000           9.0\n",
            "10                        CARIBBEAN  Sub-Region    43233000          18.0\n",
            "11                    SOUTH AMERICA  Sub-Region   429191000          14.0\n",
            "12                             ASIA  Sub-Region  4625927000           1.0\n",
            "13                     WESTERN ASIA  Sub-Region   280927000          19.0\n",
            "14                     CENTRAL ASIA  Sub-Region    74961000           6.0\n",
            "15                       SOUTH ASIA  Sub-Region  1967131000          10.0\n",
            "16                   SOUTHEAST ASIA  Sub-Region   661845000          12.0\n",
            "17                        EAST ASIA  Sub-Region  1641063000           9.0\n",
            "18                           EUROPE  Sub-Region   746622000           1.0\n",
            "19                  NORTHERN EUROPE  Sub-Region   105990000          12.0\n",
            "20                   WESTERN EUROPE  Sub-Region   195479000          10.0\n",
            "21                   EASTERN EUROPE  Sub-Region   291902000          11.0\n",
            "22                  SOUTHERN EUROPE  Sub-Region   153251000          16.0\n",
            "23                          OCEANIA  Sub-Region    43155000          18.0\n"
          ]
        }
      ]
    },
    {
      "cell_type": "code",
      "metadata": {
        "colab": {
          "base_uri": "https://localhost:8080/",
          "height": 827
        },
        "id": "sKLvYQkw-BdL",
        "outputId": "125b1ba4-663b-49b8-ea5e-97648cc8e84f"
      },
      "source": [
        "reg_reps = reg_copy[['Name', 'repeat_index']]\n",
        "\n",
        "reg_reps['repeat_index'] -= 1\n",
        "\n",
        "reg_reps"
      ],
      "id": "sKLvYQkw-BdL",
      "execution_count": 203,
      "outputs": [
        {
          "output_type": "stream",
          "name": "stderr",
          "text": [
            "/usr/local/lib/python3.7/dist-packages/ipykernel_launcher.py:3: SettingWithCopyWarning: \n",
            "A value is trying to be set on a copy of a slice from a DataFrame.\n",
            "Try using .loc[row_indexer,col_indexer] = value instead\n",
            "\n",
            "See the caveats in the documentation: https://pandas.pydata.org/pandas-docs/stable/user_guide/indexing.html#returning-a-view-versus-a-copy\n",
            "  This is separate from the ipykernel package so we can avoid doing imports until\n"
          ]
        },
        {
          "output_type": "execute_result",
          "data": {
            "text/html": [
              "<div>\n",
              "<style scoped>\n",
              "    .dataframe tbody tr th:only-of-type {\n",
              "        vertical-align: middle;\n",
              "    }\n",
              "\n",
              "    .dataframe tbody tr th {\n",
              "        vertical-align: top;\n",
              "    }\n",
              "\n",
              "    .dataframe thead th {\n",
              "        text-align: right;\n",
              "    }\n",
              "</style>\n",
              "<table border=\"1\" class=\"dataframe\">\n",
              "  <thead>\n",
              "    <tr style=\"text-align: right;\">\n",
              "      <th></th>\n",
              "      <th>Name</th>\n",
              "      <th>repeat_index</th>\n",
              "    </tr>\n",
              "  </thead>\n",
              "  <tbody>\n",
              "    <tr>\n",
              "      <th>2</th>\n",
              "      <td>NORTHERN AFRICA</td>\n",
              "      <td>7.0</td>\n",
              "    </tr>\n",
              "    <tr>\n",
              "      <th>3</th>\n",
              "      <td>WESTERN AFRICA</td>\n",
              "      <td>16.0</td>\n",
              "    </tr>\n",
              "    <tr>\n",
              "      <th>4</th>\n",
              "      <td>EASTERN AFRICA</td>\n",
              "      <td>20.0</td>\n",
              "    </tr>\n",
              "    <tr>\n",
              "      <th>5</th>\n",
              "      <td>MIDDLE AFRICA</td>\n",
              "      <td>9.0</td>\n",
              "    </tr>\n",
              "    <tr>\n",
              "      <th>6</th>\n",
              "      <td>SOUTHERN AFRICA</td>\n",
              "      <td>5.0</td>\n",
              "    </tr>\n",
              "    <tr>\n",
              "      <th>7</th>\n",
              "      <td>NORTHERN AMERICA</td>\n",
              "      <td>2.0</td>\n",
              "    </tr>\n",
              "    <tr>\n",
              "      <th>8</th>\n",
              "      <td>LATIN AMERICA AND THE CARIBBEAN</td>\n",
              "      <td>0.0</td>\n",
              "    </tr>\n",
              "    <tr>\n",
              "      <th>9</th>\n",
              "      <td>CENTRAL AMERICA</td>\n",
              "      <td>8.0</td>\n",
              "    </tr>\n",
              "    <tr>\n",
              "      <th>10</th>\n",
              "      <td>CARIBBEAN</td>\n",
              "      <td>17.0</td>\n",
              "    </tr>\n",
              "    <tr>\n",
              "      <th>11</th>\n",
              "      <td>SOUTH AMERICA</td>\n",
              "      <td>13.0</td>\n",
              "    </tr>\n",
              "    <tr>\n",
              "      <th>12</th>\n",
              "      <td>ASIA</td>\n",
              "      <td>0.0</td>\n",
              "    </tr>\n",
              "    <tr>\n",
              "      <th>13</th>\n",
              "      <td>WESTERN ASIA</td>\n",
              "      <td>18.0</td>\n",
              "    </tr>\n",
              "    <tr>\n",
              "      <th>14</th>\n",
              "      <td>CENTRAL ASIA</td>\n",
              "      <td>5.0</td>\n",
              "    </tr>\n",
              "    <tr>\n",
              "      <th>15</th>\n",
              "      <td>SOUTH ASIA</td>\n",
              "      <td>9.0</td>\n",
              "    </tr>\n",
              "    <tr>\n",
              "      <th>16</th>\n",
              "      <td>SOUTHEAST ASIA</td>\n",
              "      <td>11.0</td>\n",
              "    </tr>\n",
              "    <tr>\n",
              "      <th>17</th>\n",
              "      <td>EAST ASIA</td>\n",
              "      <td>8.0</td>\n",
              "    </tr>\n",
              "    <tr>\n",
              "      <th>18</th>\n",
              "      <td>EUROPE</td>\n",
              "      <td>0.0</td>\n",
              "    </tr>\n",
              "    <tr>\n",
              "      <th>19</th>\n",
              "      <td>NORTHERN EUROPE</td>\n",
              "      <td>11.0</td>\n",
              "    </tr>\n",
              "    <tr>\n",
              "      <th>20</th>\n",
              "      <td>WESTERN EUROPE</td>\n",
              "      <td>9.0</td>\n",
              "    </tr>\n",
              "    <tr>\n",
              "      <th>21</th>\n",
              "      <td>EASTERN EUROPE</td>\n",
              "      <td>10.0</td>\n",
              "    </tr>\n",
              "    <tr>\n",
              "      <th>22</th>\n",
              "      <td>SOUTHERN EUROPE</td>\n",
              "      <td>15.0</td>\n",
              "    </tr>\n",
              "    <tr>\n",
              "      <th>23</th>\n",
              "      <td>OCEANIA</td>\n",
              "      <td>17.0</td>\n",
              "    </tr>\n",
              "  </tbody>\n",
              "</table>\n",
              "</div>"
            ],
            "text/plain": [
              "                               Name  repeat_index\n",
              "2                   NORTHERN AFRICA           7.0\n",
              "3                    WESTERN AFRICA          16.0\n",
              "4                    EASTERN AFRICA          20.0\n",
              "5                     MIDDLE AFRICA           9.0\n",
              "6                   SOUTHERN AFRICA           5.0\n",
              "7                  NORTHERN AMERICA           2.0\n",
              "8   LATIN AMERICA AND THE CARIBBEAN           0.0\n",
              "9                   CENTRAL AMERICA           8.0\n",
              "10                        CARIBBEAN          17.0\n",
              "11                    SOUTH AMERICA          13.0\n",
              "12                             ASIA           0.0\n",
              "13                     WESTERN ASIA          18.0\n",
              "14                     CENTRAL ASIA           5.0\n",
              "15                       SOUTH ASIA           9.0\n",
              "16                   SOUTHEAST ASIA          11.0\n",
              "17                        EAST ASIA           8.0\n",
              "18                           EUROPE           0.0\n",
              "19                  NORTHERN EUROPE          11.0\n",
              "20                   WESTERN EUROPE           9.0\n",
              "21                   EASTERN EUROPE          10.0\n",
              "22                  SOUTHERN EUROPE          15.0\n",
              "23                          OCEANIA          17.0"
            ]
          },
          "metadata": {},
          "execution_count": 203
        }
      ]
    },
    {
      "cell_type": "code",
      "metadata": {
        "colab": {
          "base_uri": "https://localhost:8080/"
        },
        "id": "9OtwL-Akiak0",
        "outputId": "627ab962-6883-469f-a7db-13d54d40141d"
      },
      "source": [
        "repeat = reg_reps.loc[reg_reps.index.repeat(reg_reps.repeat_index)]\n",
        "print(repeat.shape)\n",
        "\n",
        "rep = repeat['Name'].squeeze().reset_index(drop = True)\n",
        "print(rep)"
      ],
      "id": "9OtwL-Akiak0",
      "execution_count": 204,
      "outputs": [
        {
          "output_type": "stream",
          "name": "stdout",
          "text": [
            "(210, 2)\n",
            "0      NORTHERN AFRICA\n",
            "1      NORTHERN AFRICA\n",
            "2      NORTHERN AFRICA\n",
            "3      NORTHERN AFRICA\n",
            "4      NORTHERN AFRICA\n",
            "            ...       \n",
            "205            OCEANIA\n",
            "206            OCEANIA\n",
            "207            OCEANIA\n",
            "208            OCEANIA\n",
            "209            OCEANIA\n",
            "Name: Name, Length: 210, dtype: object\n"
          ]
        }
      ]
    },
    {
      "cell_type": "code",
      "metadata": {
        "colab": {
          "base_uri": "https://localhost:8080/"
        },
        "id": "x2XAA1ONjR0S",
        "outputId": "555cd26e-3523-4ed6-bb9d-5e071078386b"
      },
      "source": [
        "country_pop['Sub-Region'] = rep\n",
        "print(country_pop.head())"
      ],
      "id": "x2XAA1ONjR0S",
      "execution_count": 205,
      "outputs": [
        {
          "output_type": "stream",
          "name": "stdout",
          "text": [
            "      Name     Type  Population       Sub-Region\n",
            "3  Algeria  Country    44357000  NORTHERN AFRICA\n",
            "4    Egypt  Country   100803000  NORTHERN AFRICA\n",
            "5    Libya  Country     6891000  NORTHERN AFRICA\n",
            "6  Morocco  Country    35952000  NORTHERN AFRICA\n",
            "7    Sudan  Country    43849000   WESTERN AFRICA\n"
          ]
        },
        {
          "output_type": "stream",
          "name": "stderr",
          "text": [
            "/usr/local/lib/python3.7/dist-packages/ipykernel_launcher.py:1: SettingWithCopyWarning: \n",
            "A value is trying to be set on a copy of a slice from a DataFrame.\n",
            "Try using .loc[row_indexer,col_indexer] = value instead\n",
            "\n",
            "See the caveats in the documentation: https://pandas.pydata.org/pandas-docs/stable/user_guide/indexing.html#returning-a-view-versus-a-copy\n",
            "  \"\"\"Entry point for launching an IPython kernel.\n"
          ]
        }
      ]
    },
    {
      "cell_type": "markdown",
      "metadata": {
        "id": "CZqDG02qhPRD"
      },
      "source": [
        "### **Step 3: Getting Article Quality Predictions**\n",
        "We need to get the predicted quality scores for each article in the Wikipedia dataset. ORES can provide estimates on article quality based off this Wiki information. Article Quality is as follows:\n",
        "\n",
        "1. FA - Featured article\n",
        "2. GA - Good article\n",
        "3. B - B-class article\n",
        "4. C - C-class article\n",
        "5. Start - Start-class article\n",
        "6. Stub - Stub-class article\n",
        "\n",
        "The following will read the rev_id of each article line by line so that it can predict the quality of the article. Each rev_id will be assigned one of the rankings from above.\n"
      ],
      "id": "CZqDG02qhPRD"
    },
    {
      "cell_type": "markdown",
      "metadata": {
        "id": "-U-XnOSViG1F"
      },
      "source": [
        "First we must connect to the wikimedia API"
      ],
      "id": "-U-XnOSViG1F"
    },
    {
      "cell_type": "code",
      "metadata": {
        "id": "gFO9PyjrMdvV"
      },
      "source": [
        "# Start a ores session using api package\n",
        "ores_session = api.Session('https://ores.wikimedia.org', 'DATA512 A2 ams884@uw.edu')"
      ],
      "id": "gFO9PyjrMdvV",
      "execution_count": 206,
      "outputs": []
    },
    {
      "cell_type": "markdown",
      "metadata": {
        "id": "S4mXlEwmiQmQ"
      },
      "source": [
        "Then we can pull the results from the API endpoint"
      ],
      "id": "S4mXlEwmiQmQ"
    },
    {
      "cell_type": "code",
      "metadata": {
        "id": "yWumQe6IRgbK"
      },
      "source": [
        "# Pull the results of the session\n",
        "result = ores_session.score('enwiki', ['articlequality'], wiki['rev_id'])"
      ],
      "id": "yWumQe6IRgbK",
      "execution_count": 207,
      "outputs": []
    },
    {
      "cell_type": "markdown",
      "metadata": {
        "id": "FKk1CI1RifZI"
      },
      "source": [
        "Last, we can create a new column that will contain all the predictions found from using ORES."
      ],
      "id": "FKk1CI1RifZI"
    },
    {
      "cell_type": "code",
      "metadata": {
        "id": "Py7vgpnURgT0"
      },
      "source": [
        "# Create new column that will keep track of predicted quality\n",
        "# Create an empty list to append to\n",
        "predictions = []\n",
        "\n",
        "# Loop through the results of the session to append the scores to our empty list\n",
        "for prediction in result:\n",
        "  try:\n",
        "    predictions.append(prediction['articlequality']['score']['prediction'])\n",
        "  except:\n",
        "    predictions.append(-1) # appends -1 where there is no prediction"
      ],
      "id": "Py7vgpnURgT0",
      "execution_count": 208,
      "outputs": []
    },
    {
      "cell_type": "markdown",
      "metadata": {
        "id": "-Sjhr9ehiwZQ"
      },
      "source": [
        "### **Step 4: Combining the Datasets**\n",
        "Now that we have our predictions for article quality, we will want to combine this with our wiki data frame that has our article information. On top of this, we want to look at these scores relative to the populations of the country of origin, so we will also combine our country population dataset"
      ],
      "id": "-Sjhr9ehiwZQ"
    },
    {
      "cell_type": "markdown",
      "metadata": {
        "id": "hvjApQLGjLwi"
      },
      "source": [
        "We will add a new column to the wiki dataframe that will be our article quality. "
      ],
      "id": "hvjApQLGjLwi"
    },
    {
      "cell_type": "code",
      "metadata": {
        "colab": {
          "base_uri": "https://localhost:8080/",
          "height": 203
        },
        "id": "lhIzvgklRgNH",
        "outputId": "5f2b6d71-785d-47b8-89bc-51485bf90a83"
      },
      "source": [
        "# Create a new dataframe that includes wiki data as well as score data\n",
        "wiki_scores = wiki\n",
        "wiki_scores['article_quality'] = predictions\n",
        "\n",
        "wiki_scores.head()"
      ],
      "id": "lhIzvgklRgNH",
      "execution_count": 209,
      "outputs": [
        {
          "output_type": "execute_result",
          "data": {
            "text/html": [
              "<div>\n",
              "<style scoped>\n",
              "    .dataframe tbody tr th:only-of-type {\n",
              "        vertical-align: middle;\n",
              "    }\n",
              "\n",
              "    .dataframe tbody tr th {\n",
              "        vertical-align: top;\n",
              "    }\n",
              "\n",
              "    .dataframe thead th {\n",
              "        text-align: right;\n",
              "    }\n",
              "</style>\n",
              "<table border=\"1\" class=\"dataframe\">\n",
              "  <thead>\n",
              "    <tr style=\"text-align: right;\">\n",
              "      <th></th>\n",
              "      <th>page</th>\n",
              "      <th>country</th>\n",
              "      <th>rev_id</th>\n",
              "      <th>article_quality</th>\n",
              "    </tr>\n",
              "  </thead>\n",
              "  <tbody>\n",
              "    <tr>\n",
              "      <th>0</th>\n",
              "      <td>Template:ZambiaProvincialMinisters</td>\n",
              "      <td>Zambia</td>\n",
              "      <td>235107991</td>\n",
              "      <td>-1</td>\n",
              "    </tr>\n",
              "    <tr>\n",
              "      <th>1</th>\n",
              "      <td>Bir I of Kanem</td>\n",
              "      <td>Chad</td>\n",
              "      <td>355319463</td>\n",
              "      <td>Stub</td>\n",
              "    </tr>\n",
              "    <tr>\n",
              "      <th>2</th>\n",
              "      <td>Template:Zimbabwe-politician-stub</td>\n",
              "      <td>Zimbabwe</td>\n",
              "      <td>391862046</td>\n",
              "      <td>Stub</td>\n",
              "    </tr>\n",
              "    <tr>\n",
              "      <th>3</th>\n",
              "      <td>Template:Uganda-politician-stub</td>\n",
              "      <td>Uganda</td>\n",
              "      <td>391862070</td>\n",
              "      <td>Stub</td>\n",
              "    </tr>\n",
              "    <tr>\n",
              "      <th>4</th>\n",
              "      <td>Template:Namibia-politician-stub</td>\n",
              "      <td>Namibia</td>\n",
              "      <td>391862409</td>\n",
              "      <td>Stub</td>\n",
              "    </tr>\n",
              "  </tbody>\n",
              "</table>\n",
              "</div>"
            ],
            "text/plain": [
              "                                 page   country     rev_id article_quality\n",
              "0  Template:ZambiaProvincialMinisters    Zambia  235107991              -1\n",
              "1                      Bir I of Kanem      Chad  355319463            Stub\n",
              "2   Template:Zimbabwe-politician-stub  Zimbabwe  391862046            Stub\n",
              "3     Template:Uganda-politician-stub    Uganda  391862070            Stub\n",
              "4    Template:Namibia-politician-stub   Namibia  391862409            Stub"
            ]
          },
          "metadata": {},
          "execution_count": 209
        }
      ]
    },
    {
      "cell_type": "markdown",
      "metadata": {
        "id": "g8nOTK7Yjbag"
      },
      "source": [
        "Merge the Wiki and Scoring dataset with the country population data. This will happen as an inner join on the fields 'country' and 'Name', respectively."
      ],
      "id": "g8nOTK7Yjbag"
    },
    {
      "cell_type": "code",
      "metadata": {
        "id": "5e328e38"
      },
      "source": [
        "# Merge wiki/pred data with country population data\n",
        "merge_df = wiki_scores.merge(country_pop, left_on='country', right_on='Name', how='inner')"
      ],
      "id": "5e328e38",
      "execution_count": 210,
      "outputs": []
    },
    {
      "cell_type": "code",
      "metadata": {
        "colab": {
          "base_uri": "https://localhost:8080/",
          "height": 203
        },
        "id": "e5177355",
        "outputId": "38a2aee5-d721-4c68-fec7-5c7f85768216"
      },
      "source": [
        "merge_df.head()"
      ],
      "id": "e5177355",
      "execution_count": 211,
      "outputs": [
        {
          "output_type": "execute_result",
          "data": {
            "text/html": [
              "<div>\n",
              "<style scoped>\n",
              "    .dataframe tbody tr th:only-of-type {\n",
              "        vertical-align: middle;\n",
              "    }\n",
              "\n",
              "    .dataframe tbody tr th {\n",
              "        vertical-align: top;\n",
              "    }\n",
              "\n",
              "    .dataframe thead th {\n",
              "        text-align: right;\n",
              "    }\n",
              "</style>\n",
              "<table border=\"1\" class=\"dataframe\">\n",
              "  <thead>\n",
              "    <tr style=\"text-align: right;\">\n",
              "      <th></th>\n",
              "      <th>page</th>\n",
              "      <th>country</th>\n",
              "      <th>rev_id</th>\n",
              "      <th>article_quality</th>\n",
              "      <th>Name</th>\n",
              "      <th>Type</th>\n",
              "      <th>Population</th>\n",
              "      <th>Sub-Region</th>\n",
              "    </tr>\n",
              "  </thead>\n",
              "  <tbody>\n",
              "    <tr>\n",
              "      <th>0</th>\n",
              "      <td>Template:ZambiaProvincialMinisters</td>\n",
              "      <td>Zambia</td>\n",
              "      <td>235107991</td>\n",
              "      <td>-1</td>\n",
              "      <td>Zambia</td>\n",
              "      <td>Country</td>\n",
              "      <td>18384000</td>\n",
              "      <td>MIDDLE AFRICA</td>\n",
              "    </tr>\n",
              "    <tr>\n",
              "      <th>1</th>\n",
              "      <td>Gladys Lundwe</td>\n",
              "      <td>Zambia</td>\n",
              "      <td>757566606</td>\n",
              "      <td>Stub</td>\n",
              "      <td>Zambia</td>\n",
              "      <td>Country</td>\n",
              "      <td>18384000</td>\n",
              "      <td>MIDDLE AFRICA</td>\n",
              "    </tr>\n",
              "    <tr>\n",
              "      <th>2</th>\n",
              "      <td>Mwamba Luchembe</td>\n",
              "      <td>Zambia</td>\n",
              "      <td>764848643</td>\n",
              "      <td>Stub</td>\n",
              "      <td>Zambia</td>\n",
              "      <td>Country</td>\n",
              "      <td>18384000</td>\n",
              "      <td>MIDDLE AFRICA</td>\n",
              "    </tr>\n",
              "    <tr>\n",
              "      <th>3</th>\n",
              "      <td>Thandiwe Banda</td>\n",
              "      <td>Zambia</td>\n",
              "      <td>768166426</td>\n",
              "      <td>Start</td>\n",
              "      <td>Zambia</td>\n",
              "      <td>Country</td>\n",
              "      <td>18384000</td>\n",
              "      <td>MIDDLE AFRICA</td>\n",
              "    </tr>\n",
              "    <tr>\n",
              "      <th>4</th>\n",
              "      <td>Sylvester Chisembele</td>\n",
              "      <td>Zambia</td>\n",
              "      <td>776082926</td>\n",
              "      <td>C</td>\n",
              "      <td>Zambia</td>\n",
              "      <td>Country</td>\n",
              "      <td>18384000</td>\n",
              "      <td>MIDDLE AFRICA</td>\n",
              "    </tr>\n",
              "  </tbody>\n",
              "</table>\n",
              "</div>"
            ],
            "text/plain": [
              "                                 page country  ...  Population     Sub-Region\n",
              "0  Template:ZambiaProvincialMinisters  Zambia  ...    18384000  MIDDLE AFRICA\n",
              "1                       Gladys Lundwe  Zambia  ...    18384000  MIDDLE AFRICA\n",
              "2                     Mwamba Luchembe  Zambia  ...    18384000  MIDDLE AFRICA\n",
              "3                      Thandiwe Banda  Zambia  ...    18384000  MIDDLE AFRICA\n",
              "4                Sylvester Chisembele  Zambia  ...    18384000  MIDDLE AFRICA\n",
              "\n",
              "[5 rows x 8 columns]"
            ]
          },
          "metadata": {},
          "execution_count": 211
        }
      ]
    },
    {
      "cell_type": "markdown",
      "metadata": {
        "id": "9Lr5Ywsqjt0w"
      },
      "source": [
        "Clean up the column names to accurately reflect what we want to show (country, article name, article quality, population, etc.)"
      ],
      "id": "9Lr5Ywsqjt0w"
    },
    {
      "cell_type": "code",
      "metadata": {
        "id": "aeff076c"
      },
      "source": [
        "# Create single dataframe of wikipedia, prediction, and country population data\n",
        "# This is to simply rename all the columns to intuitive names\n",
        "\n",
        "wikipedia_df = pd.DataFrame({\n",
        "    'country' : merge_df['country'],\n",
        "    'article_name' : merge_df['page'],\n",
        "    'revision_id' : merge_df['rev_id'],\n",
        "    'article_quality_est.' : merge_df['article_quality'],\n",
        "    'population' : merge_df['Population'],\n",
        "    'Sub-Region' : merge_df['Sub-Region']\n",
        "} )"
      ],
      "id": "aeff076c",
      "execution_count": 212,
      "outputs": []
    },
    {
      "cell_type": "code",
      "metadata": {
        "colab": {
          "base_uri": "https://localhost:8080/"
        },
        "id": "ZpnZM0RZYO_y",
        "outputId": "bc2b8727-5cd5-4eb6-a331-bdf894171823"
      },
      "source": [
        "print(wikipedia_df.head())"
      ],
      "id": "ZpnZM0RZYO_y",
      "execution_count": 213,
      "outputs": [
        {
          "output_type": "stream",
          "name": "stdout",
          "text": [
            "  country                        article_name  ...  population     Sub-Region\n",
            "0  Zambia  Template:ZambiaProvincialMinisters  ...    18384000  MIDDLE AFRICA\n",
            "1  Zambia                       Gladys Lundwe  ...    18384000  MIDDLE AFRICA\n",
            "2  Zambia                     Mwamba Luchembe  ...    18384000  MIDDLE AFRICA\n",
            "3  Zambia                      Thandiwe Banda  ...    18384000  MIDDLE AFRICA\n",
            "4  Zambia                Sylvester Chisembele  ...    18384000  MIDDLE AFRICA\n",
            "\n",
            "[5 rows x 6 columns]\n"
          ]
        }
      ]
    },
    {
      "cell_type": "markdown",
      "metadata": {
        "id": "Sxx6nT6Rj2mL"
      },
      "source": [
        "Some articles might not produce a prediction score, so we will log these in a separate file."
      ],
      "id": "Sxx6nT6Rj2mL"
    },
    {
      "cell_type": "code",
      "metadata": {
        "colab": {
          "base_uri": "https://localhost:8080/",
          "height": 203
        },
        "id": "SP5Ul5X8bwu1",
        "outputId": "632e25b1-f8d0-49c7-beb6-8ba15d9b5522"
      },
      "source": [
        "# Drop the rows that did not produce a prediction score\n",
        "wikipedia_df_final = wikipedia_df.loc[wikipedia_df['article_quality_est.'] != -1]\n",
        "\n",
        "wikipedia_df_final.head()"
      ],
      "id": "SP5Ul5X8bwu1",
      "execution_count": 214,
      "outputs": [
        {
          "output_type": "execute_result",
          "data": {
            "text/html": [
              "<div>\n",
              "<style scoped>\n",
              "    .dataframe tbody tr th:only-of-type {\n",
              "        vertical-align: middle;\n",
              "    }\n",
              "\n",
              "    .dataframe tbody tr th {\n",
              "        vertical-align: top;\n",
              "    }\n",
              "\n",
              "    .dataframe thead th {\n",
              "        text-align: right;\n",
              "    }\n",
              "</style>\n",
              "<table border=\"1\" class=\"dataframe\">\n",
              "  <thead>\n",
              "    <tr style=\"text-align: right;\">\n",
              "      <th></th>\n",
              "      <th>country</th>\n",
              "      <th>article_name</th>\n",
              "      <th>revision_id</th>\n",
              "      <th>article_quality_est.</th>\n",
              "      <th>population</th>\n",
              "      <th>Sub-Region</th>\n",
              "    </tr>\n",
              "  </thead>\n",
              "  <tbody>\n",
              "    <tr>\n",
              "      <th>1</th>\n",
              "      <td>Zambia</td>\n",
              "      <td>Gladys Lundwe</td>\n",
              "      <td>757566606</td>\n",
              "      <td>Stub</td>\n",
              "      <td>18384000</td>\n",
              "      <td>MIDDLE AFRICA</td>\n",
              "    </tr>\n",
              "    <tr>\n",
              "      <th>2</th>\n",
              "      <td>Zambia</td>\n",
              "      <td>Mwamba Luchembe</td>\n",
              "      <td>764848643</td>\n",
              "      <td>Stub</td>\n",
              "      <td>18384000</td>\n",
              "      <td>MIDDLE AFRICA</td>\n",
              "    </tr>\n",
              "    <tr>\n",
              "      <th>3</th>\n",
              "      <td>Zambia</td>\n",
              "      <td>Thandiwe Banda</td>\n",
              "      <td>768166426</td>\n",
              "      <td>Start</td>\n",
              "      <td>18384000</td>\n",
              "      <td>MIDDLE AFRICA</td>\n",
              "    </tr>\n",
              "    <tr>\n",
              "      <th>4</th>\n",
              "      <td>Zambia</td>\n",
              "      <td>Sylvester Chisembele</td>\n",
              "      <td>776082926</td>\n",
              "      <td>C</td>\n",
              "      <td>18384000</td>\n",
              "      <td>MIDDLE AFRICA</td>\n",
              "    </tr>\n",
              "    <tr>\n",
              "      <th>5</th>\n",
              "      <td>Zambia</td>\n",
              "      <td>Victoria Kalima</td>\n",
              "      <td>776530837</td>\n",
              "      <td>Start</td>\n",
              "      <td>18384000</td>\n",
              "      <td>MIDDLE AFRICA</td>\n",
              "    </tr>\n",
              "  </tbody>\n",
              "</table>\n",
              "</div>"
            ],
            "text/plain": [
              "  country          article_name  ...  population     Sub-Region\n",
              "1  Zambia         Gladys Lundwe  ...    18384000  MIDDLE AFRICA\n",
              "2  Zambia       Mwamba Luchembe  ...    18384000  MIDDLE AFRICA\n",
              "3  Zambia        Thandiwe Banda  ...    18384000  MIDDLE AFRICA\n",
              "4  Zambia  Sylvester Chisembele  ...    18384000  MIDDLE AFRICA\n",
              "5  Zambia       Victoria Kalima  ...    18384000  MIDDLE AFRICA\n",
              "\n",
              "[5 rows x 6 columns]"
            ]
          },
          "metadata": {},
          "execution_count": 214
        }
      ]
    },
    {
      "cell_type": "code",
      "metadata": {
        "colab": {
          "base_uri": "https://localhost:8080/",
          "height": 203
        },
        "id": "9Xl2jlW-dc2U",
        "outputId": "93ea9549-2a99-4bc4-b19d-3d4ebb21d31a"
      },
      "source": [
        "# Save the rows that did not produce a prediction score to a separate csv\n",
        "wikipedia_no_score = wikipedia_df.loc[wikipedia_df['article_quality_est.'] == -1]\n",
        "\n",
        "wikipedia_no_score.head()"
      ],
      "id": "9Xl2jlW-dc2U",
      "execution_count": 215,
      "outputs": [
        {
          "output_type": "execute_result",
          "data": {
            "text/html": [
              "<div>\n",
              "<style scoped>\n",
              "    .dataframe tbody tr th:only-of-type {\n",
              "        vertical-align: middle;\n",
              "    }\n",
              "\n",
              "    .dataframe tbody tr th {\n",
              "        vertical-align: top;\n",
              "    }\n",
              "\n",
              "    .dataframe thead th {\n",
              "        text-align: right;\n",
              "    }\n",
              "</style>\n",
              "<table border=\"1\" class=\"dataframe\">\n",
              "  <thead>\n",
              "    <tr style=\"text-align: right;\">\n",
              "      <th></th>\n",
              "      <th>country</th>\n",
              "      <th>article_name</th>\n",
              "      <th>revision_id</th>\n",
              "      <th>article_quality_est.</th>\n",
              "      <th>population</th>\n",
              "      <th>Sub-Region</th>\n",
              "    </tr>\n",
              "  </thead>\n",
              "  <tbody>\n",
              "    <tr>\n",
              "      <th>0</th>\n",
              "      <td>Zambia</td>\n",
              "      <td>Template:ZambiaProvincialMinisters</td>\n",
              "      <td>235107991</td>\n",
              "      <td>-1</td>\n",
              "      <td>18384000</td>\n",
              "      <td>MIDDLE AFRICA</td>\n",
              "    </tr>\n",
              "    <tr>\n",
              "      <th>62</th>\n",
              "      <td>Chad</td>\n",
              "      <td>Kalthouma Nguembang</td>\n",
              "      <td>762816132</td>\n",
              "      <td>-1</td>\n",
              "      <td>16877000</td>\n",
              "      <td>SOUTHERN AFRICA</td>\n",
              "    </tr>\n",
              "    <tr>\n",
              "      <th>156</th>\n",
              "      <td>Zimbabwe</td>\n",
              "      <td>Bybit Lydia Tsomondo</td>\n",
              "      <td>723082034</td>\n",
              "      <td>-1</td>\n",
              "      <td>14863000</td>\n",
              "      <td>MIDDLE AFRICA</td>\n",
              "    </tr>\n",
              "    <tr>\n",
              "      <th>290</th>\n",
              "      <td>Zimbabwe</td>\n",
              "      <td>Guy Georgias</td>\n",
              "      <td>807196681</td>\n",
              "      <td>-1</td>\n",
              "      <td>14863000</td>\n",
              "      <td>MIDDLE AFRICA</td>\n",
              "    </tr>\n",
              "    <tr>\n",
              "      <th>721</th>\n",
              "      <td>Nigeria</td>\n",
              "      <td>Mahmud Shinkafi</td>\n",
              "      <td>726805368</td>\n",
              "      <td>-1</td>\n",
              "      <td>206140000</td>\n",
              "      <td>EASTERN AFRICA</td>\n",
              "    </tr>\n",
              "  </tbody>\n",
              "</table>\n",
              "</div>"
            ],
            "text/plain": [
              "      country                        article_name  ...  population       Sub-Region\n",
              "0      Zambia  Template:ZambiaProvincialMinisters  ...    18384000    MIDDLE AFRICA\n",
              "62       Chad                 Kalthouma Nguembang  ...    16877000  SOUTHERN AFRICA\n",
              "156  Zimbabwe                Bybit Lydia Tsomondo  ...    14863000    MIDDLE AFRICA\n",
              "290  Zimbabwe                        Guy Georgias  ...    14863000    MIDDLE AFRICA\n",
              "721   Nigeria                     Mahmud Shinkafi  ...   206140000   EASTERN AFRICA\n",
              "\n",
              "[5 rows x 6 columns]"
            ]
          },
          "metadata": {},
          "execution_count": 215
        }
      ]
    },
    {
      "cell_type": "markdown",
      "metadata": {
        "id": "I2SnsnX0kO_x"
      },
      "source": [
        "Export the two dataframes we produced to CSVs."
      ],
      "id": "I2SnsnX0kO_x"
    },
    {
      "cell_type": "code",
      "metadata": {
        "id": "06634e9e"
      },
      "source": [
        "# Turn dataframes to CSV's\n",
        "wikipedia_df_final.to_csv('wp_wpds_politicians_by_country.csv', sep = ',')\n",
        "wikipedia_no_score.to_csv('wp_wpds_countries-no_match.csv', sep = ',')"
      ],
      "id": "06634e9e",
      "execution_count": 216,
      "outputs": []
    },
    {
      "cell_type": "markdown",
      "metadata": {
        "id": "Jvb6rw2Ikl3q"
      },
      "source": [
        "### **Step 5: Analysis**\n",
        "After curating the data to our liking, we will now analyze what we have so far. There are a few different metrics we would like to look at, such as the **proportion of articles per population** of each country as well as the **proportion of high quality articles per total number of articles** for each country. We will also want to do this at a regional level (for the 'Names' from the population dataset that are **all caps**).\n",
        "\n",
        "**High quality** articles can be defined as articles that are FA, or Featured Article, and GA, or Good Article.\n",
        "\n",
        "Before we can look at results, we must capture these metrics from the dataset we have so far."
      ],
      "id": "Jvb6rw2Ikl3q"
    },
    {
      "cell_type": "markdown",
      "metadata": {
        "id": "hIRZKLjKlUTD"
      },
      "source": [
        "Below, we will count the number of articles for each country. This is simply done by the group_by() function, which is very similar to the GROUP BY function in SQL. "
      ],
      "id": "hIRZKLjKlUTD"
    },
    {
      "cell_type": "code",
      "metadata": {
        "colab": {
          "base_uri": "https://localhost:8080/",
          "height": 203
        },
        "id": "85a3360c",
        "outputId": "9573ee8d-4ba2-4602-cbd7-98cb7e5be290"
      },
      "source": [
        "# Count of Articles by Country\n",
        "art_country = wikipedia_df_final.groupby('country').count()['article_name'].astype(int).reset_index()\n",
        "art_country.rename(columns = {'article_name' : 'article_count'}, inplace = True)\n",
        "art_country.head()"
      ],
      "id": "85a3360c",
      "execution_count": 217,
      "outputs": [
        {
          "output_type": "execute_result",
          "data": {
            "text/html": [
              "<div>\n",
              "<style scoped>\n",
              "    .dataframe tbody tr th:only-of-type {\n",
              "        vertical-align: middle;\n",
              "    }\n",
              "\n",
              "    .dataframe tbody tr th {\n",
              "        vertical-align: top;\n",
              "    }\n",
              "\n",
              "    .dataframe thead th {\n",
              "        text-align: right;\n",
              "    }\n",
              "</style>\n",
              "<table border=\"1\" class=\"dataframe\">\n",
              "  <thead>\n",
              "    <tr style=\"text-align: right;\">\n",
              "      <th></th>\n",
              "      <th>country</th>\n",
              "      <th>article_count</th>\n",
              "    </tr>\n",
              "  </thead>\n",
              "  <tbody>\n",
              "    <tr>\n",
              "      <th>0</th>\n",
              "      <td>Afghanistan</td>\n",
              "      <td>324</td>\n",
              "    </tr>\n",
              "    <tr>\n",
              "      <th>1</th>\n",
              "      <td>Albania</td>\n",
              "      <td>459</td>\n",
              "    </tr>\n",
              "    <tr>\n",
              "      <th>2</th>\n",
              "      <td>Algeria</td>\n",
              "      <td>119</td>\n",
              "    </tr>\n",
              "    <tr>\n",
              "      <th>3</th>\n",
              "      <td>Andorra</td>\n",
              "      <td>34</td>\n",
              "    </tr>\n",
              "    <tr>\n",
              "      <th>4</th>\n",
              "      <td>Angola</td>\n",
              "      <td>110</td>\n",
              "    </tr>\n",
              "  </tbody>\n",
              "</table>\n",
              "</div>"
            ],
            "text/plain": [
              "       country  article_count\n",
              "0  Afghanistan            324\n",
              "1      Albania            459\n",
              "2      Algeria            119\n",
              "3      Andorra             34\n",
              "4       Angola            110"
            ]
          },
          "metadata": {},
          "execution_count": 217
        }
      ]
    },
    {
      "cell_type": "markdown",
      "metadata": {
        "id": "55gXo3NklyIz"
      },
      "source": [
        "Merge the dataset we made of count of articles by country with the country population. This will allow us to find the proportion of articles per selected country population. We will need manually formulate the proportion using:\n",
        "\n",
        "(Number of Articles/Country Population) * 100"
      ],
      "id": "55gXo3NklyIz"
    },
    {
      "cell_type": "code",
      "metadata": {
        "colab": {
          "base_uri": "https://localhost:8080/",
          "height": 203
        },
        "id": "56406da8",
        "outputId": "0617b94c-247e-4f81-e211-6d10fb6d2872"
      },
      "source": [
        "# Merge Count of Articles by Country and Country Population\n",
        "art_prop = art_country.merge(country_pop, left_on = 'country', right_on = 'Name', how = 'inner')\n",
        "\n",
        "# Create a Proportion Column of Number of Articles Per the Country's Population\n",
        "art_prop['percentage'] = (art_prop['article_count'] * 100) / art_prop['Population'] # multiply by 100 to get a percentage\n",
        "\n",
        "art_prop.head()"
      ],
      "id": "56406da8",
      "execution_count": 218,
      "outputs": [
        {
          "output_type": "execute_result",
          "data": {
            "text/html": [
              "<div>\n",
              "<style scoped>\n",
              "    .dataframe tbody tr th:only-of-type {\n",
              "        vertical-align: middle;\n",
              "    }\n",
              "\n",
              "    .dataframe tbody tr th {\n",
              "        vertical-align: top;\n",
              "    }\n",
              "\n",
              "    .dataframe thead th {\n",
              "        text-align: right;\n",
              "    }\n",
              "</style>\n",
              "<table border=\"1\" class=\"dataframe\">\n",
              "  <thead>\n",
              "    <tr style=\"text-align: right;\">\n",
              "      <th></th>\n",
              "      <th>country</th>\n",
              "      <th>article_count</th>\n",
              "      <th>Name</th>\n",
              "      <th>Type</th>\n",
              "      <th>Population</th>\n",
              "      <th>Sub-Region</th>\n",
              "      <th>percentage</th>\n",
              "    </tr>\n",
              "  </thead>\n",
              "  <tbody>\n",
              "    <tr>\n",
              "      <th>0</th>\n",
              "      <td>Afghanistan</td>\n",
              "      <td>324</td>\n",
              "      <td>Afghanistan</td>\n",
              "      <td>Country</td>\n",
              "      <td>38928000</td>\n",
              "      <td>SOUTHEAST ASIA</td>\n",
              "      <td>0.000832</td>\n",
              "    </tr>\n",
              "    <tr>\n",
              "      <th>1</th>\n",
              "      <td>Albania</td>\n",
              "      <td>459</td>\n",
              "      <td>Albania</td>\n",
              "      <td>Country</td>\n",
              "      <td>2838000</td>\n",
              "      <td>OCEANIA</td>\n",
              "      <td>0.016173</td>\n",
              "    </tr>\n",
              "    <tr>\n",
              "      <th>2</th>\n",
              "      <td>Algeria</td>\n",
              "      <td>119</td>\n",
              "      <td>Algeria</td>\n",
              "      <td>Country</td>\n",
              "      <td>44357000</td>\n",
              "      <td>NORTHERN AFRICA</td>\n",
              "      <td>0.000268</td>\n",
              "    </tr>\n",
              "    <tr>\n",
              "      <th>3</th>\n",
              "      <td>Andorra</td>\n",
              "      <td>34</td>\n",
              "      <td>Andorra</td>\n",
              "      <td>Country</td>\n",
              "      <td>82000</td>\n",
              "      <td>OCEANIA</td>\n",
              "      <td>0.041463</td>\n",
              "    </tr>\n",
              "    <tr>\n",
              "      <th>4</th>\n",
              "      <td>Angola</td>\n",
              "      <td>110</td>\n",
              "      <td>Angola</td>\n",
              "      <td>Country</td>\n",
              "      <td>32522000</td>\n",
              "      <td>MIDDLE AFRICA</td>\n",
              "      <td>0.000338</td>\n",
              "    </tr>\n",
              "  </tbody>\n",
              "</table>\n",
              "</div>"
            ],
            "text/plain": [
              "       country  article_count  ...       Sub-Region percentage\n",
              "0  Afghanistan            324  ...   SOUTHEAST ASIA   0.000832\n",
              "1      Albania            459  ...          OCEANIA   0.016173\n",
              "2      Algeria            119  ...  NORTHERN AFRICA   0.000268\n",
              "3      Andorra             34  ...          OCEANIA   0.041463\n",
              "4       Angola            110  ...    MIDDLE AFRICA   0.000338\n",
              "\n",
              "[5 rows x 7 columns]"
            ]
          },
          "metadata": {},
          "execution_count": 218
        }
      ]
    },
    {
      "cell_type": "markdown",
      "metadata": {
        "id": "jLAmnuv5mM6x"
      },
      "source": [
        "Create a dataset that will only contain articles with estimated quality of GA or FA. \n",
        "\n",
        "Find the number of high quality articles per country by grouping by country. Again use the group_by() function."
      ],
      "id": "jLAmnuv5mM6x"
    },
    {
      "cell_type": "code",
      "metadata": {
        "colab": {
          "base_uri": "https://localhost:8080/",
          "height": 203
        },
        "id": "F9WoUESqeGSw",
        "outputId": "ed7ca6fa-5dcf-48eb-e465-08ce1f1382b5"
      },
      "source": [
        "# Group high quality articles together (High Quality = 'FA' and 'GA')\n",
        "high_quality = pd.concat([wikipedia_df_final.loc[wikipedia_df_final['article_quality_est.']=='FA'], \n",
        "                           wikipedia_df_final.loc[wikipedia_df_final['article_quality_est.']=='GA']])\n",
        "\n",
        "# Obtain count of high quality articles\n",
        "high_quality_group = high_quality.groupby('country').count()['article_name'].reset_index()\n",
        "\n",
        "# Create a dataframe of country and high quality article count\n",
        "high_quality_df = pd.DataFrame({'country':high_quality_group['country'], 'high_quality_article_count':high_quality_group['article_name']})\n",
        "high_quality_df.head()"
      ],
      "id": "F9WoUESqeGSw",
      "execution_count": 219,
      "outputs": [
        {
          "output_type": "execute_result",
          "data": {
            "text/html": [
              "<div>\n",
              "<style scoped>\n",
              "    .dataframe tbody tr th:only-of-type {\n",
              "        vertical-align: middle;\n",
              "    }\n",
              "\n",
              "    .dataframe tbody tr th {\n",
              "        vertical-align: top;\n",
              "    }\n",
              "\n",
              "    .dataframe thead th {\n",
              "        text-align: right;\n",
              "    }\n",
              "</style>\n",
              "<table border=\"1\" class=\"dataframe\">\n",
              "  <thead>\n",
              "    <tr style=\"text-align: right;\">\n",
              "      <th></th>\n",
              "      <th>country</th>\n",
              "      <th>high_quality_article_count</th>\n",
              "    </tr>\n",
              "  </thead>\n",
              "  <tbody>\n",
              "    <tr>\n",
              "      <th>0</th>\n",
              "      <td>Afghanistan</td>\n",
              "      <td>13</td>\n",
              "    </tr>\n",
              "    <tr>\n",
              "      <th>1</th>\n",
              "      <td>Albania</td>\n",
              "      <td>3</td>\n",
              "    </tr>\n",
              "    <tr>\n",
              "      <th>2</th>\n",
              "      <td>Algeria</td>\n",
              "      <td>2</td>\n",
              "    </tr>\n",
              "    <tr>\n",
              "      <th>3</th>\n",
              "      <td>Argentina</td>\n",
              "      <td>16</td>\n",
              "    </tr>\n",
              "    <tr>\n",
              "      <th>4</th>\n",
              "      <td>Armenia</td>\n",
              "      <td>5</td>\n",
              "    </tr>\n",
              "  </tbody>\n",
              "</table>\n",
              "</div>"
            ],
            "text/plain": [
              "       country  high_quality_article_count\n",
              "0  Afghanistan                          13\n",
              "1      Albania                           3\n",
              "2      Algeria                           2\n",
              "3    Argentina                          16\n",
              "4      Armenia                           5"
            ]
          },
          "metadata": {},
          "execution_count": 219
        }
      ]
    },
    {
      "cell_type": "markdown",
      "metadata": {
        "id": "tNJjLCE6mmwU"
      },
      "source": [
        "Merge the dataset containing the number of high quality articles with the dataset containing the total number of articles.\n",
        "\n",
        "Find the proportion of high quality articles per total number of articles for each country by using the following formula:\n",
        "\n",
        "(Number of High Quality Articles/Total Number of Articles) * 100"
      ],
      "id": "tNJjLCE6mmwU"
    },
    {
      "cell_type": "code",
      "metadata": {
        "colab": {
          "base_uri": "https://localhost:8080/",
          "height": 203
        },
        "id": "KIS0T39Wgh_n",
        "outputId": "6b1a62ed-7183-4b3e-8fb0-50b2e98fbdec"
      },
      "source": [
        "# Merge high quality df (which has the counts) with the number of articles by country dataframe\n",
        "high_quality_prop = high_quality_df.merge(art_country, left_on = 'country', right_on = 'country', how = 'inner')\n",
        "\n",
        "# Find the proportion of high quality articles and number of total articles by country\n",
        "high_quality_prop['Percentage of Quality Articles'] = (high_quality_df['high_quality_article_count'] * 100) / high_quality_prop['article_count']\n",
        "\n",
        "high_quality_prop.head()"
      ],
      "id": "KIS0T39Wgh_n",
      "execution_count": 220,
      "outputs": [
        {
          "output_type": "execute_result",
          "data": {
            "text/html": [
              "<div>\n",
              "<style scoped>\n",
              "    .dataframe tbody tr th:only-of-type {\n",
              "        vertical-align: middle;\n",
              "    }\n",
              "\n",
              "    .dataframe tbody tr th {\n",
              "        vertical-align: top;\n",
              "    }\n",
              "\n",
              "    .dataframe thead th {\n",
              "        text-align: right;\n",
              "    }\n",
              "</style>\n",
              "<table border=\"1\" class=\"dataframe\">\n",
              "  <thead>\n",
              "    <tr style=\"text-align: right;\">\n",
              "      <th></th>\n",
              "      <th>country</th>\n",
              "      <th>high_quality_article_count</th>\n",
              "      <th>article_count</th>\n",
              "      <th>Percentage of Quality Articles</th>\n",
              "    </tr>\n",
              "  </thead>\n",
              "  <tbody>\n",
              "    <tr>\n",
              "      <th>0</th>\n",
              "      <td>Afghanistan</td>\n",
              "      <td>13</td>\n",
              "      <td>324</td>\n",
              "      <td>4.012346</td>\n",
              "    </tr>\n",
              "    <tr>\n",
              "      <th>1</th>\n",
              "      <td>Albania</td>\n",
              "      <td>3</td>\n",
              "      <td>459</td>\n",
              "      <td>0.653595</td>\n",
              "    </tr>\n",
              "    <tr>\n",
              "      <th>2</th>\n",
              "      <td>Algeria</td>\n",
              "      <td>2</td>\n",
              "      <td>119</td>\n",
              "      <td>1.680672</td>\n",
              "    </tr>\n",
              "    <tr>\n",
              "      <th>3</th>\n",
              "      <td>Argentina</td>\n",
              "      <td>16</td>\n",
              "      <td>496</td>\n",
              "      <td>3.225806</td>\n",
              "    </tr>\n",
              "    <tr>\n",
              "      <th>4</th>\n",
              "      <td>Armenia</td>\n",
              "      <td>5</td>\n",
              "      <td>196</td>\n",
              "      <td>2.551020</td>\n",
              "    </tr>\n",
              "  </tbody>\n",
              "</table>\n",
              "</div>"
            ],
            "text/plain": [
              "       country  ...  Percentage of Quality Articles\n",
              "0  Afghanistan  ...                        4.012346\n",
              "1      Albania  ...                        0.653595\n",
              "2      Algeria  ...                        1.680672\n",
              "3    Argentina  ...                        3.225806\n",
              "4      Armenia  ...                        2.551020\n",
              "\n",
              "[5 rows x 4 columns]"
            ]
          },
          "metadata": {},
          "execution_count": 220
        }
      ]
    },
    {
      "cell_type": "code",
      "metadata": {
        "colab": {
          "base_uri": "https://localhost:8080/",
          "height": 203
        },
        "id": "ApvTNcThj3c7",
        "outputId": "385e7e77-a0ee-44f1-c657-5ad73ebf4311"
      },
      "source": [
        "# Count of Articles by Sub-Region\n",
        "art_sub = wikipedia_df_final.groupby('Sub-Region').count()['article_name'].astype(int).reset_index()\n",
        "art_sub.rename(columns = {'article_name' : 'article_count'}, inplace = True)\n",
        "art_sub.head()"
      ],
      "id": "ApvTNcThj3c7",
      "execution_count": 221,
      "outputs": [
        {
          "output_type": "execute_result",
          "data": {
            "text/html": [
              "<div>\n",
              "<style scoped>\n",
              "    .dataframe tbody tr th:only-of-type {\n",
              "        vertical-align: middle;\n",
              "    }\n",
              "\n",
              "    .dataframe tbody tr th {\n",
              "        vertical-align: top;\n",
              "    }\n",
              "\n",
              "    .dataframe thead th {\n",
              "        text-align: right;\n",
              "    }\n",
              "</style>\n",
              "<table border=\"1\" class=\"dataframe\">\n",
              "  <thead>\n",
              "    <tr style=\"text-align: right;\">\n",
              "      <th></th>\n",
              "      <th>Sub-Region</th>\n",
              "      <th>article_count</th>\n",
              "    </tr>\n",
              "  </thead>\n",
              "  <tbody>\n",
              "    <tr>\n",
              "      <th>0</th>\n",
              "      <td>CARIBBEAN</td>\n",
              "      <td>1800</td>\n",
              "    </tr>\n",
              "    <tr>\n",
              "      <th>1</th>\n",
              "      <td>CENTRAL AMERICA</td>\n",
              "      <td>2555</td>\n",
              "    </tr>\n",
              "    <tr>\n",
              "      <th>2</th>\n",
              "      <td>CENTRAL ASIA</td>\n",
              "      <td>882</td>\n",
              "    </tr>\n",
              "    <tr>\n",
              "      <th>3</th>\n",
              "      <td>EAST ASIA</td>\n",
              "      <td>2967</td>\n",
              "    </tr>\n",
              "    <tr>\n",
              "      <th>4</th>\n",
              "      <td>EASTERN AFRICA</td>\n",
              "      <td>2573</td>\n",
              "    </tr>\n",
              "  </tbody>\n",
              "</table>\n",
              "</div>"
            ],
            "text/plain": [
              "        Sub-Region  article_count\n",
              "0        CARIBBEAN           1800\n",
              "1  CENTRAL AMERICA           2555\n",
              "2     CENTRAL ASIA            882\n",
              "3        EAST ASIA           2967\n",
              "4   EASTERN AFRICA           2573"
            ]
          },
          "metadata": {},
          "execution_count": 221
        }
      ]
    },
    {
      "cell_type": "code",
      "metadata": {
        "id": "QuW1UgW1kJ96",
        "colab": {
          "base_uri": "https://localhost:8080/",
          "height": 203
        },
        "outputId": "c712620d-e655-4fae-f20e-a65e09f8973c"
      },
      "source": [
        "# Merge Count of Articles by Sub-Region and Sub-Region Population\n",
        "art_reg_prop = art_sub.merge(region_pop, left_on = 'Sub-Region', right_on = 'Name', how = 'inner')\n",
        "\n",
        "# Create a Proportion Column of Number of Articles Per the Country's Population\n",
        "art_reg_prop['percentage'] = (art_reg_prop['article_count'] * 100) / art_reg_prop['Population'] # multiply by 100 to get a percentage\n",
        "\n",
        "art_reg_prop.head()"
      ],
      "id": "QuW1UgW1kJ96",
      "execution_count": 222,
      "outputs": [
        {
          "output_type": "execute_result",
          "data": {
            "text/html": [
              "<div>\n",
              "<style scoped>\n",
              "    .dataframe tbody tr th:only-of-type {\n",
              "        vertical-align: middle;\n",
              "    }\n",
              "\n",
              "    .dataframe tbody tr th {\n",
              "        vertical-align: top;\n",
              "    }\n",
              "\n",
              "    .dataframe thead th {\n",
              "        text-align: right;\n",
              "    }\n",
              "</style>\n",
              "<table border=\"1\" class=\"dataframe\">\n",
              "  <thead>\n",
              "    <tr style=\"text-align: right;\">\n",
              "      <th></th>\n",
              "      <th>Sub-Region</th>\n",
              "      <th>article_count</th>\n",
              "      <th>Name</th>\n",
              "      <th>Type</th>\n",
              "      <th>Population</th>\n",
              "      <th>percentage</th>\n",
              "    </tr>\n",
              "  </thead>\n",
              "  <tbody>\n",
              "    <tr>\n",
              "      <th>0</th>\n",
              "      <td>CARIBBEAN</td>\n",
              "      <td>1800</td>\n",
              "      <td>CARIBBEAN</td>\n",
              "      <td>Sub-Region</td>\n",
              "      <td>43233000</td>\n",
              "      <td>0.004163</td>\n",
              "    </tr>\n",
              "    <tr>\n",
              "      <th>1</th>\n",
              "      <td>CENTRAL AMERICA</td>\n",
              "      <td>2555</td>\n",
              "      <td>CENTRAL AMERICA</td>\n",
              "      <td>Sub-Region</td>\n",
              "      <td>178611000</td>\n",
              "      <td>0.001430</td>\n",
              "    </tr>\n",
              "    <tr>\n",
              "      <th>2</th>\n",
              "      <td>CENTRAL ASIA</td>\n",
              "      <td>882</td>\n",
              "      <td>CENTRAL ASIA</td>\n",
              "      <td>Sub-Region</td>\n",
              "      <td>74961000</td>\n",
              "      <td>0.001177</td>\n",
              "    </tr>\n",
              "    <tr>\n",
              "      <th>3</th>\n",
              "      <td>EAST ASIA</td>\n",
              "      <td>2967</td>\n",
              "      <td>EAST ASIA</td>\n",
              "      <td>Sub-Region</td>\n",
              "      <td>1641063000</td>\n",
              "      <td>0.000181</td>\n",
              "    </tr>\n",
              "    <tr>\n",
              "      <th>4</th>\n",
              "      <td>EASTERN AFRICA</td>\n",
              "      <td>2573</td>\n",
              "      <td>EASTERN AFRICA</td>\n",
              "      <td>Sub-Region</td>\n",
              "      <td>444970000</td>\n",
              "      <td>0.000578</td>\n",
              "    </tr>\n",
              "  </tbody>\n",
              "</table>\n",
              "</div>"
            ],
            "text/plain": [
              "        Sub-Region  article_count  ...  Population percentage\n",
              "0        CARIBBEAN           1800  ...    43233000   0.004163\n",
              "1  CENTRAL AMERICA           2555  ...   178611000   0.001430\n",
              "2     CENTRAL ASIA            882  ...    74961000   0.001177\n",
              "3        EAST ASIA           2967  ...  1641063000   0.000181\n",
              "4   EASTERN AFRICA           2573  ...   444970000   0.000578\n",
              "\n",
              "[5 rows x 6 columns]"
            ]
          },
          "metadata": {},
          "execution_count": 222
        }
      ]
    },
    {
      "cell_type": "code",
      "metadata": {
        "colab": {
          "base_uri": "https://localhost:8080/",
          "height": 203
        },
        "id": "LsCYOTSBrkV2",
        "outputId": "e27aadf7-95ae-4690-94a0-c39f56036fe5"
      },
      "source": [
        "# Group high quality articles together (High Quality = 'FA' and 'GA')\n",
        "high_quality_sub = pd.concat([wikipedia_df_final.loc[wikipedia_df_final['article_quality_est.']=='FA'], \n",
        "                           wikipedia_df_final.loc[wikipedia_df_final['article_quality_est.']=='GA']])\n",
        "\n",
        "# Obtain count of high quality articles\n",
        "high_quality_group_sub = high_quality_sub.groupby('Sub-Region').count()['article_name'].reset_index()\n",
        "\n",
        "# Create a dataframe of country and high quality article count\n",
        "high_quality_df_sub = pd.DataFrame({'Sub-Region':high_quality_group_sub['Sub-Region'], 'high_quality_article_count':high_quality_group_sub['article_name']})\n",
        "high_quality_df_sub.head()"
      ],
      "id": "LsCYOTSBrkV2",
      "execution_count": 223,
      "outputs": [
        {
          "output_type": "execute_result",
          "data": {
            "text/html": [
              "<div>\n",
              "<style scoped>\n",
              "    .dataframe tbody tr th:only-of-type {\n",
              "        vertical-align: middle;\n",
              "    }\n",
              "\n",
              "    .dataframe tbody tr th {\n",
              "        vertical-align: top;\n",
              "    }\n",
              "\n",
              "    .dataframe thead th {\n",
              "        text-align: right;\n",
              "    }\n",
              "</style>\n",
              "<table border=\"1\" class=\"dataframe\">\n",
              "  <thead>\n",
              "    <tr style=\"text-align: right;\">\n",
              "      <th></th>\n",
              "      <th>Sub-Region</th>\n",
              "      <th>high_quality_article_count</th>\n",
              "    </tr>\n",
              "  </thead>\n",
              "  <tbody>\n",
              "    <tr>\n",
              "      <th>0</th>\n",
              "      <td>CARIBBEAN</td>\n",
              "      <td>26</td>\n",
              "    </tr>\n",
              "    <tr>\n",
              "      <th>1</th>\n",
              "      <td>CENTRAL AMERICA</td>\n",
              "      <td>113</td>\n",
              "    </tr>\n",
              "    <tr>\n",
              "      <th>2</th>\n",
              "      <td>CENTRAL ASIA</td>\n",
              "      <td>31</td>\n",
              "    </tr>\n",
              "    <tr>\n",
              "      <th>3</th>\n",
              "      <td>EAST ASIA</td>\n",
              "      <td>44</td>\n",
              "    </tr>\n",
              "    <tr>\n",
              "      <th>4</th>\n",
              "      <td>EASTERN AFRICA</td>\n",
              "      <td>37</td>\n",
              "    </tr>\n",
              "  </tbody>\n",
              "</table>\n",
              "</div>"
            ],
            "text/plain": [
              "        Sub-Region  high_quality_article_count\n",
              "0        CARIBBEAN                          26\n",
              "1  CENTRAL AMERICA                         113\n",
              "2     CENTRAL ASIA                          31\n",
              "3        EAST ASIA                          44\n",
              "4   EASTERN AFRICA                          37"
            ]
          },
          "metadata": {},
          "execution_count": 223
        }
      ]
    },
    {
      "cell_type": "code",
      "metadata": {
        "colab": {
          "base_uri": "https://localhost:8080/",
          "height": 203
        },
        "id": "NKCfD6fBr9Dm",
        "outputId": "4a47877d-1f9a-4ba7-dd35-0dfb57294e65"
      },
      "source": [
        "# Merge high quality df (which has the counts) with the number of articles by country dataframe\n",
        "high_quality_prop_sub = high_quality_df_sub.merge(art_sub, left_on = 'Sub-Region', right_on = 'Sub-Region', how = 'inner')\n",
        "\n",
        "# Find the proportion of high quality articles and number of total articles by country\n",
        "high_quality_prop_sub['Percentage of Quality Articles'] = (high_quality_df_sub['high_quality_article_count'] * 100) / high_quality_prop_sub['article_count']\n",
        "\n",
        "high_quality_prop_sub.head()"
      ],
      "id": "NKCfD6fBr9Dm",
      "execution_count": 224,
      "outputs": [
        {
          "output_type": "execute_result",
          "data": {
            "text/html": [
              "<div>\n",
              "<style scoped>\n",
              "    .dataframe tbody tr th:only-of-type {\n",
              "        vertical-align: middle;\n",
              "    }\n",
              "\n",
              "    .dataframe tbody tr th {\n",
              "        vertical-align: top;\n",
              "    }\n",
              "\n",
              "    .dataframe thead th {\n",
              "        text-align: right;\n",
              "    }\n",
              "</style>\n",
              "<table border=\"1\" class=\"dataframe\">\n",
              "  <thead>\n",
              "    <tr style=\"text-align: right;\">\n",
              "      <th></th>\n",
              "      <th>Sub-Region</th>\n",
              "      <th>high_quality_article_count</th>\n",
              "      <th>article_count</th>\n",
              "      <th>Percentage of Quality Articles</th>\n",
              "    </tr>\n",
              "  </thead>\n",
              "  <tbody>\n",
              "    <tr>\n",
              "      <th>0</th>\n",
              "      <td>CARIBBEAN</td>\n",
              "      <td>26</td>\n",
              "      <td>1800</td>\n",
              "      <td>1.444444</td>\n",
              "    </tr>\n",
              "    <tr>\n",
              "      <th>1</th>\n",
              "      <td>CENTRAL AMERICA</td>\n",
              "      <td>113</td>\n",
              "      <td>2555</td>\n",
              "      <td>4.422701</td>\n",
              "    </tr>\n",
              "    <tr>\n",
              "      <th>2</th>\n",
              "      <td>CENTRAL ASIA</td>\n",
              "      <td>31</td>\n",
              "      <td>882</td>\n",
              "      <td>3.514739</td>\n",
              "    </tr>\n",
              "    <tr>\n",
              "      <th>3</th>\n",
              "      <td>EAST ASIA</td>\n",
              "      <td>44</td>\n",
              "      <td>2967</td>\n",
              "      <td>1.482979</td>\n",
              "    </tr>\n",
              "    <tr>\n",
              "      <th>4</th>\n",
              "      <td>EASTERN AFRICA</td>\n",
              "      <td>37</td>\n",
              "      <td>2573</td>\n",
              "      <td>1.438010</td>\n",
              "    </tr>\n",
              "  </tbody>\n",
              "</table>\n",
              "</div>"
            ],
            "text/plain": [
              "        Sub-Region  ...  Percentage of Quality Articles\n",
              "0        CARIBBEAN  ...                        1.444444\n",
              "1  CENTRAL AMERICA  ...                        4.422701\n",
              "2     CENTRAL ASIA  ...                        3.514739\n",
              "3        EAST ASIA  ...                        1.482979\n",
              "4   EASTERN AFRICA  ...                        1.438010\n",
              "\n",
              "[5 rows x 4 columns]"
            ]
          },
          "metadata": {},
          "execution_count": 224
        }
      ]
    },
    {
      "cell_type": "markdown",
      "metadata": {
        "id": "JA1lS25hnByW"
      },
      "source": [
        "### **Step 6: Results**\n",
        "We finally have the metrics we are looking for and now we can explore the results of our analysis.\n",
        "\n",
        "We have a few different questions to look at involving top 10s and bottom 10s. \n",
        "\n",
        "They are as follows:\n",
        "\n",
        "\n",
        "1.   Top 10 countries by coverage: 10 highest-ranked countries in terms of number of politician articles as a proportion of country population\n",
        "2.   Bottom 10 countries by coverage: 10 lowest-ranked countries in terms of number of politician articles as a proportion of country population\n",
        "3. Top 10 countries by relative quality: 10 highest-ranked countries in terms of the relative proportion of politician articles that are of GA and FA-quality\n",
        "4. Bottom 10 countries by relative quality: 10 lowest-ranked countries in terms of the relative proportion of politician articles that are of GA and FA-quality\n",
        "5. Geographic regions by coverage: Ranking of geographic regions (in descending order) in terms of the total count of politician articles from countries in each region as a proportion of total regional population\n",
        "6. Geographic regions by coverage: Ranking of geographic regions (in descending order) in terms of the relative proportion of politician articles from countries in each region that are of GA and FA-quality\n",
        "\n"
      ],
      "id": "JA1lS25hnByW"
    },
    {
      "cell_type": "markdown",
      "metadata": {
        "id": "zXCfIxfQnuDr"
      },
      "source": [
        "To get the answers to these questions, it will be easiest to sort our tables in descending order"
      ],
      "id": "zXCfIxfQnuDr"
    },
    {
      "cell_type": "code",
      "metadata": {
        "id": "qlKl5JaGh0fD"
      },
      "source": [
        "# Sort article proportion data by country in descending order\n",
        "rank_countries = art_prop.sort_values(['percentage'], ascending=[False])\n",
        "\n",
        "## Sort High Quality article proportion by country in descending order\n",
        "rank_countries_high_quality = high_quality_prop.sort_values(['Percentage of Quality Articles'], ascending=[False])\n",
        "\n",
        "# Sort article proportion data by Sub-Region in descending order\n",
        "rank_regions = art_reg_prop.sort_values(['percentage'], ascending=[False])\n",
        "\n",
        "## Sort High Quality article proportion by country in descending order\n",
        "rank_regions_high_quality = high_quality_prop_sub.sort_values(['Percentage of Quality Articles'], ascending=[False])"
      ],
      "id": "qlKl5JaGh0fD",
      "execution_count": 225,
      "outputs": []
    },
    {
      "cell_type": "markdown",
      "metadata": {
        "id": "b5SE0ydhntTw"
      },
      "source": [
        "1. Top 10 countries by coverage: 10 highest-ranked countries in terms of number of politician articles as a proportion of country population"
      ],
      "id": "b5SE0ydhntTw"
    },
    {
      "cell_type": "code",
      "metadata": {
        "id": "IS-VQPFXh0ls",
        "colab": {
          "base_uri": "https://localhost:8080/",
          "height": 357
        },
        "outputId": "43b17371-a950-4894-c796-1229bfadd497"
      },
      "source": [
        "# Top 10 countries with largest proportion of articles to country population\n",
        "rank_countries.head(10)"
      ],
      "id": "IS-VQPFXh0ls",
      "execution_count": 226,
      "outputs": [
        {
          "output_type": "execute_result",
          "data": {
            "text/html": [
              "<div>\n",
              "<style scoped>\n",
              "    .dataframe tbody tr th:only-of-type {\n",
              "        vertical-align: middle;\n",
              "    }\n",
              "\n",
              "    .dataframe tbody tr th {\n",
              "        vertical-align: top;\n",
              "    }\n",
              "\n",
              "    .dataframe thead th {\n",
              "        text-align: right;\n",
              "    }\n",
              "</style>\n",
              "<table border=\"1\" class=\"dataframe\">\n",
              "  <thead>\n",
              "    <tr style=\"text-align: right;\">\n",
              "      <th></th>\n",
              "      <th>country</th>\n",
              "      <th>article_count</th>\n",
              "      <th>Name</th>\n",
              "      <th>Type</th>\n",
              "      <th>Population</th>\n",
              "      <th>Sub-Region</th>\n",
              "      <th>percentage</th>\n",
              "    </tr>\n",
              "  </thead>\n",
              "  <tbody>\n",
              "    <tr>\n",
              "      <th>169</th>\n",
              "      <td>Tuvalu</td>\n",
              "      <td>55</td>\n",
              "      <td>Tuvalu</td>\n",
              "      <td>Country</td>\n",
              "      <td>10000</td>\n",
              "      <td>NaN</td>\n",
              "      <td>0.550000</td>\n",
              "    </tr>\n",
              "    <tr>\n",
              "      <th>117</th>\n",
              "      <td>Nauru</td>\n",
              "      <td>53</td>\n",
              "      <td>Nauru</td>\n",
              "      <td>Country</td>\n",
              "      <td>11000</td>\n",
              "      <td>NaN</td>\n",
              "      <td>0.481818</td>\n",
              "    </tr>\n",
              "    <tr>\n",
              "      <th>138</th>\n",
              "      <td>San Marino</td>\n",
              "      <td>82</td>\n",
              "      <td>San Marino</td>\n",
              "      <td>Country</td>\n",
              "      <td>34000</td>\n",
              "      <td>NaN</td>\n",
              "      <td>0.241176</td>\n",
              "    </tr>\n",
              "    <tr>\n",
              "      <th>110</th>\n",
              "      <td>Monaco</td>\n",
              "      <td>40</td>\n",
              "      <td>Monaco</td>\n",
              "      <td>Country</td>\n",
              "      <td>38000</td>\n",
              "      <td>SOUTHERN EUROPE</td>\n",
              "      <td>0.105263</td>\n",
              "    </tr>\n",
              "    <tr>\n",
              "      <th>95</th>\n",
              "      <td>Liechtenstein</td>\n",
              "      <td>29</td>\n",
              "      <td>Liechtenstein</td>\n",
              "      <td>Country</td>\n",
              "      <td>39000</td>\n",
              "      <td>SOUTHERN EUROPE</td>\n",
              "      <td>0.074359</td>\n",
              "    </tr>\n",
              "    <tr>\n",
              "      <th>104</th>\n",
              "      <td>Marshall Islands</td>\n",
              "      <td>37</td>\n",
              "      <td>Marshall Islands</td>\n",
              "      <td>Country</td>\n",
              "      <td>57000</td>\n",
              "      <td>NaN</td>\n",
              "      <td>0.064912</td>\n",
              "    </tr>\n",
              "    <tr>\n",
              "      <th>164</th>\n",
              "      <td>Tonga</td>\n",
              "      <td>63</td>\n",
              "      <td>Tonga</td>\n",
              "      <td>Country</td>\n",
              "      <td>99000</td>\n",
              "      <td>NaN</td>\n",
              "      <td>0.063636</td>\n",
              "    </tr>\n",
              "    <tr>\n",
              "      <th>70</th>\n",
              "      <td>Iceland</td>\n",
              "      <td>205</td>\n",
              "      <td>Iceland</td>\n",
              "      <td>Country</td>\n",
              "      <td>368000</td>\n",
              "      <td>EASTERN EUROPE</td>\n",
              "      <td>0.055707</td>\n",
              "    </tr>\n",
              "    <tr>\n",
              "      <th>3</th>\n",
              "      <td>Andorra</td>\n",
              "      <td>34</td>\n",
              "      <td>Andorra</td>\n",
              "      <td>Country</td>\n",
              "      <td>82000</td>\n",
              "      <td>OCEANIA</td>\n",
              "      <td>0.041463</td>\n",
              "    </tr>\n",
              "    <tr>\n",
              "      <th>52</th>\n",
              "      <td>Federated States of Micronesia</td>\n",
              "      <td>38</td>\n",
              "      <td>Federated States of Micronesia</td>\n",
              "      <td>Country</td>\n",
              "      <td>106000</td>\n",
              "      <td>NaN</td>\n",
              "      <td>0.035849</td>\n",
              "    </tr>\n",
              "  </tbody>\n",
              "</table>\n",
              "</div>"
            ],
            "text/plain": [
              "                            country  article_count  ...       Sub-Region percentage\n",
              "169                          Tuvalu             55  ...              NaN   0.550000\n",
              "117                           Nauru             53  ...              NaN   0.481818\n",
              "138                      San Marino             82  ...              NaN   0.241176\n",
              "110                          Monaco             40  ...  SOUTHERN EUROPE   0.105263\n",
              "95                    Liechtenstein             29  ...  SOUTHERN EUROPE   0.074359\n",
              "104                Marshall Islands             37  ...              NaN   0.064912\n",
              "164                           Tonga             63  ...              NaN   0.063636\n",
              "70                          Iceland            205  ...   EASTERN EUROPE   0.055707\n",
              "3                           Andorra             34  ...          OCEANIA   0.041463\n",
              "52   Federated States of Micronesia             38  ...              NaN   0.035849\n",
              "\n",
              "[10 rows x 7 columns]"
            ]
          },
          "metadata": {},
          "execution_count": 226
        }
      ]
    },
    {
      "cell_type": "markdown",
      "metadata": {
        "id": "yRpvRGoYoP89"
      },
      "source": [
        "Tuvalu is the country with the largest proportion of politician articles per citizen. Tuvalu is one of the smallest countries population-wise."
      ],
      "id": "yRpvRGoYoP89"
    },
    {
      "cell_type": "markdown",
      "metadata": {
        "id": "OY2b_74tn5gg"
      },
      "source": [
        "2. Bottom 10 countries by coverage: 10 lowest-ranked countries in terms of number of politician articles as a proportion of country population"
      ],
      "id": "OY2b_74tn5gg"
    },
    {
      "cell_type": "code",
      "metadata": {
        "id": "R-Gnr8VGh0pn",
        "colab": {
          "base_uri": "https://localhost:8080/",
          "height": 357
        },
        "outputId": "4e3be423-6ce7-4eaa-b13c-e6f88caee0c5"
      },
      "source": [
        "# Bottom 10 countries with largest proportion of articles to country population\n",
        "rank_countries.tail(10)"
      ],
      "id": "R-Gnr8VGh0pn",
      "execution_count": 227,
      "outputs": [
        {
          "output_type": "execute_result",
          "data": {
            "text/html": [
              "<div>\n",
              "<style scoped>\n",
              "    .dataframe tbody tr th:only-of-type {\n",
              "        vertical-align: middle;\n",
              "    }\n",
              "\n",
              "    .dataframe tbody tr th {\n",
              "        vertical-align: top;\n",
              "    }\n",
              "\n",
              "    .dataframe thead th {\n",
              "        text-align: right;\n",
              "    }\n",
              "</style>\n",
              "<table border=\"1\" class=\"dataframe\">\n",
              "  <thead>\n",
              "    <tr style=\"text-align: right;\">\n",
              "      <th></th>\n",
              "      <th>country</th>\n",
              "      <th>article_count</th>\n",
              "      <th>Name</th>\n",
              "      <th>Type</th>\n",
              "      <th>Population</th>\n",
              "      <th>Sub-Region</th>\n",
              "      <th>percentage</th>\n",
              "    </tr>\n",
              "  </thead>\n",
              "  <tbody>\n",
              "    <tr>\n",
              "      <th>114</th>\n",
              "      <td>Mozambique</td>\n",
              "      <td>60</td>\n",
              "      <td>Mozambique</td>\n",
              "      <td>Country</td>\n",
              "      <td>31166000</td>\n",
              "      <td>EASTERN AFRICA</td>\n",
              "      <td>0.000193</td>\n",
              "    </tr>\n",
              "    <tr>\n",
              "      <th>13</th>\n",
              "      <td>Bangladesh</td>\n",
              "      <td>320</td>\n",
              "      <td>Bangladesh</td>\n",
              "      <td>Country</td>\n",
              "      <td>169809000</td>\n",
              "      <td>SOUTHEAST ASIA</td>\n",
              "      <td>0.000188</td>\n",
              "    </tr>\n",
              "    <tr>\n",
              "      <th>162</th>\n",
              "      <td>Thailand</td>\n",
              "      <td>112</td>\n",
              "      <td>Thailand</td>\n",
              "      <td>Country</td>\n",
              "      <td>66534000</td>\n",
              "      <td>NORTHERN EUROPE</td>\n",
              "      <td>0.000168</td>\n",
              "    </tr>\n",
              "    <tr>\n",
              "      <th>84</th>\n",
              "      <td>Korea, North</td>\n",
              "      <td>39</td>\n",
              "      <td>Korea, North</td>\n",
              "      <td>Country</td>\n",
              "      <td>25779000</td>\n",
              "      <td>WESTERN EUROPE</td>\n",
              "      <td>0.000151</td>\n",
              "    </tr>\n",
              "    <tr>\n",
              "      <th>181</th>\n",
              "      <td>Zambia</td>\n",
              "      <td>25</td>\n",
              "      <td>Zambia</td>\n",
              "      <td>Country</td>\n",
              "      <td>18384000</td>\n",
              "      <td>MIDDLE AFRICA</td>\n",
              "      <td>0.000136</td>\n",
              "    </tr>\n",
              "    <tr>\n",
              "      <th>51</th>\n",
              "      <td>Ethiopia</td>\n",
              "      <td>105</td>\n",
              "      <td>Ethiopia</td>\n",
              "      <td>Country</td>\n",
              "      <td>114916000</td>\n",
              "      <td>EASTERN AFRICA</td>\n",
              "      <td>0.000091</td>\n",
              "    </tr>\n",
              "    <tr>\n",
              "      <th>176</th>\n",
              "      <td>Uzbekistan</td>\n",
              "      <td>29</td>\n",
              "      <td>Uzbekistan</td>\n",
              "      <td>Country</td>\n",
              "      <td>34174000</td>\n",
              "      <td>SOUTHEAST ASIA</td>\n",
              "      <td>0.000085</td>\n",
              "    </tr>\n",
              "    <tr>\n",
              "      <th>34</th>\n",
              "      <td>China</td>\n",
              "      <td>1134</td>\n",
              "      <td>China</td>\n",
              "      <td>Country</td>\n",
              "      <td>1402385000</td>\n",
              "      <td>NORTHERN EUROPE</td>\n",
              "      <td>0.000081</td>\n",
              "    </tr>\n",
              "    <tr>\n",
              "      <th>72</th>\n",
              "      <td>Indonesia</td>\n",
              "      <td>213</td>\n",
              "      <td>Indonesia</td>\n",
              "      <td>Country</td>\n",
              "      <td>271739000</td>\n",
              "      <td>NORTHERN EUROPE</td>\n",
              "      <td>0.000078</td>\n",
              "    </tr>\n",
              "    <tr>\n",
              "      <th>71</th>\n",
              "      <td>India</td>\n",
              "      <td>972</td>\n",
              "      <td>India</td>\n",
              "      <td>Country</td>\n",
              "      <td>1400100000</td>\n",
              "      <td>SOUTHEAST ASIA</td>\n",
              "      <td>0.000069</td>\n",
              "    </tr>\n",
              "  </tbody>\n",
              "</table>\n",
              "</div>"
            ],
            "text/plain": [
              "          country  article_count  ...       Sub-Region percentage\n",
              "114    Mozambique             60  ...   EASTERN AFRICA   0.000193\n",
              "13     Bangladesh            320  ...   SOUTHEAST ASIA   0.000188\n",
              "162      Thailand            112  ...  NORTHERN EUROPE   0.000168\n",
              "84   Korea, North             39  ...   WESTERN EUROPE   0.000151\n",
              "181        Zambia             25  ...    MIDDLE AFRICA   0.000136\n",
              "51       Ethiopia            105  ...   EASTERN AFRICA   0.000091\n",
              "176    Uzbekistan             29  ...   SOUTHEAST ASIA   0.000085\n",
              "34          China           1134  ...  NORTHERN EUROPE   0.000081\n",
              "72      Indonesia            213  ...  NORTHERN EUROPE   0.000078\n",
              "71          India            972  ...   SOUTHEAST ASIA   0.000069\n",
              "\n",
              "[10 rows x 7 columns]"
            ]
          },
          "metadata": {},
          "execution_count": 227
        }
      ]
    },
    {
      "cell_type": "markdown",
      "metadata": {
        "id": "NzgqLo2VoaqS"
      },
      "source": [
        "India is the country with the smallest proportion of politician articles per citizen. I imagine this is because the population is so large."
      ],
      "id": "NzgqLo2VoaqS"
    },
    {
      "cell_type": "markdown",
      "metadata": {
        "id": "1k6X1iNuoFYS"
      },
      "source": [
        "3. Top 10 countries by relative quality: 10 highest-ranked countries in terms of the relative proportion of politician articles that are of GA and FA-quality"
      ],
      "id": "1k6X1iNuoFYS"
    },
    {
      "cell_type": "code",
      "metadata": {
        "id": "Axjv3KkLh0su",
        "colab": {
          "base_uri": "https://localhost:8080/",
          "height": 357
        },
        "outputId": "fd028402-0921-4e30-fcae-f3e2162a8ac5"
      },
      "source": [
        "# Top 10 countries with largest proportion of high quality articles to total number of articles\n",
        "rank_countries_high_quality.head(10)"
      ],
      "id": "Axjv3KkLh0su",
      "execution_count": 231,
      "outputs": [
        {
          "output_type": "execute_result",
          "data": {
            "text/html": [
              "<div>\n",
              "<style scoped>\n",
              "    .dataframe tbody tr th:only-of-type {\n",
              "        vertical-align: middle;\n",
              "    }\n",
              "\n",
              "    .dataframe tbody tr th {\n",
              "        vertical-align: top;\n",
              "    }\n",
              "\n",
              "    .dataframe thead th {\n",
              "        text-align: right;\n",
              "    }\n",
              "</style>\n",
              "<table border=\"1\" class=\"dataframe\">\n",
              "  <thead>\n",
              "    <tr style=\"text-align: right;\">\n",
              "      <th></th>\n",
              "      <th>country</th>\n",
              "      <th>high_quality_article_count</th>\n",
              "      <th>article_count</th>\n",
              "      <th>Percentage of Quality Articles</th>\n",
              "    </tr>\n",
              "  </thead>\n",
              "  <tbody>\n",
              "    <tr>\n",
              "      <th>63</th>\n",
              "      <td>Korea, North</td>\n",
              "      <td>8</td>\n",
              "      <td>39</td>\n",
              "      <td>20.512821</td>\n",
              "    </tr>\n",
              "    <tr>\n",
              "      <th>109</th>\n",
              "      <td>Saudi Arabia</td>\n",
              "      <td>15</td>\n",
              "      <td>118</td>\n",
              "      <td>12.711864</td>\n",
              "    </tr>\n",
              "    <tr>\n",
              "      <th>106</th>\n",
              "      <td>Romania</td>\n",
              "      <td>42</td>\n",
              "      <td>348</td>\n",
              "      <td>12.068966</td>\n",
              "    </tr>\n",
              "    <tr>\n",
              "      <th>23</th>\n",
              "      <td>Central African Republic</td>\n",
              "      <td>8</td>\n",
              "      <td>68</td>\n",
              "      <td>11.764706</td>\n",
              "    </tr>\n",
              "    <tr>\n",
              "      <th>140</th>\n",
              "      <td>Uzbekistan</td>\n",
              "      <td>3</td>\n",
              "      <td>29</td>\n",
              "      <td>10.344828</td>\n",
              "    </tr>\n",
              "    <tr>\n",
              "      <th>82</th>\n",
              "      <td>Mauritania</td>\n",
              "      <td>5</td>\n",
              "      <td>52</td>\n",
              "      <td>9.615385</td>\n",
              "    </tr>\n",
              "    <tr>\n",
              "      <th>46</th>\n",
              "      <td>Guatemala</td>\n",
              "      <td>7</td>\n",
              "      <td>84</td>\n",
              "      <td>8.333333</td>\n",
              "    </tr>\n",
              "    <tr>\n",
              "      <th>33</th>\n",
              "      <td>Dominica</td>\n",
              "      <td>1</td>\n",
              "      <td>12</td>\n",
              "      <td>8.333333</td>\n",
              "    </tr>\n",
              "    <tr>\n",
              "      <th>125</th>\n",
              "      <td>Syria</td>\n",
              "      <td>10</td>\n",
              "      <td>131</td>\n",
              "      <td>7.633588</td>\n",
              "    </tr>\n",
              "    <tr>\n",
              "      <th>138</th>\n",
              "      <td>United States</td>\n",
              "      <td>80</td>\n",
              "      <td>1068</td>\n",
              "      <td>7.490637</td>\n",
              "    </tr>\n",
              "  </tbody>\n",
              "</table>\n",
              "</div>"
            ],
            "text/plain": [
              "                      country  ...  Percentage of Quality Articles\n",
              "63               Korea, North  ...                       20.512821\n",
              "109              Saudi Arabia  ...                       12.711864\n",
              "106                   Romania  ...                       12.068966\n",
              "23   Central African Republic  ...                       11.764706\n",
              "140                Uzbekistan  ...                       10.344828\n",
              "82                 Mauritania  ...                        9.615385\n",
              "46                  Guatemala  ...                        8.333333\n",
              "33                   Dominica  ...                        8.333333\n",
              "125                     Syria  ...                        7.633588\n",
              "138             United States  ...                        7.490637\n",
              "\n",
              "[10 rows x 4 columns]"
            ]
          },
          "metadata": {},
          "execution_count": 231
        }
      ]
    },
    {
      "cell_type": "markdown",
      "metadata": {
        "id": "5XGHs56loyCB"
      },
      "source": [
        "Interestingly, North Korea has the largest percentage of quality politican articles compared to any other country. I remember in class it was stated that quality is dictated based on the country/language it was written in, so based on the English wikipedia articles, North Korea has a high percentage. I imagine that the percentage could be even higher if we were to look at the Korean version of these wikipedia articles. "
      ],
      "id": "5XGHs56loyCB"
    },
    {
      "cell_type": "markdown",
      "metadata": {
        "id": "G91Qp7r4oIQv"
      },
      "source": [
        "4. Bottom 10 countries by relative quality: 10 lowest-ranked countries in terms of the relative proportion of politician articles that are of GA and FA-quality"
      ],
      "id": "G91Qp7r4oIQv"
    },
    {
      "cell_type": "code",
      "metadata": {
        "id": "ENJ_9CpQh0v8",
        "colab": {
          "base_uri": "https://localhost:8080/",
          "height": 357
        },
        "outputId": "02395e90-f394-4b1e-d097-d3a4f001f15b"
      },
      "source": [
        "# Bottom 10 countries with largest proportion of high quality articles to total number of articles\n",
        "rank_countries_high_quality.tail(10)"
      ],
      "id": "ENJ_9CpQh0v8",
      "execution_count": 229,
      "outputs": [
        {
          "output_type": "execute_result",
          "data": {
            "text/html": [
              "<div>\n",
              "<style scoped>\n",
              "    .dataframe tbody tr th:only-of-type {\n",
              "        vertical-align: middle;\n",
              "    }\n",
              "\n",
              "    .dataframe tbody tr th {\n",
              "        vertical-align: top;\n",
              "    }\n",
              "\n",
              "    .dataframe thead th {\n",
              "        text-align: right;\n",
              "    }\n",
              "</style>\n",
              "<table border=\"1\" class=\"dataframe\">\n",
              "  <thead>\n",
              "    <tr style=\"text-align: right;\">\n",
              "      <th></th>\n",
              "      <th>country</th>\n",
              "      <th>high_quality_article_count</th>\n",
              "      <th>article_count</th>\n",
              "      <th>Percentage of Quality Articles</th>\n",
              "    </tr>\n",
              "  </thead>\n",
              "  <tbody>\n",
              "    <tr>\n",
              "      <th>87</th>\n",
              "      <td>Morocco</td>\n",
              "      <td>1</td>\n",
              "      <td>208</td>\n",
              "      <td>0.480769</td>\n",
              "    </tr>\n",
              "    <tr>\n",
              "      <th>73</th>\n",
              "      <td>Lithuania</td>\n",
              "      <td>1</td>\n",
              "      <td>248</td>\n",
              "      <td>0.403226</td>\n",
              "    </tr>\n",
              "    <tr>\n",
              "      <th>27</th>\n",
              "      <td>Colombia</td>\n",
              "      <td>1</td>\n",
              "      <td>288</td>\n",
              "      <td>0.347222</td>\n",
              "    </tr>\n",
              "    <tr>\n",
              "      <th>104</th>\n",
              "      <td>Portugal</td>\n",
              "      <td>1</td>\n",
              "      <td>321</td>\n",
              "      <td>0.311526</td>\n",
              "    </tr>\n",
              "    <tr>\n",
              "      <th>94</th>\n",
              "      <td>Nigeria</td>\n",
              "      <td>2</td>\n",
              "      <td>681</td>\n",
              "      <td>0.293686</td>\n",
              "    </tr>\n",
              "    <tr>\n",
              "      <th>101</th>\n",
              "      <td>Peru</td>\n",
              "      <td>1</td>\n",
              "      <td>354</td>\n",
              "      <td>0.282486</td>\n",
              "    </tr>\n",
              "    <tr>\n",
              "      <th>89</th>\n",
              "      <td>Nepal</td>\n",
              "      <td>1</td>\n",
              "      <td>358</td>\n",
              "      <td>0.279330</td>\n",
              "    </tr>\n",
              "    <tr>\n",
              "      <th>124</th>\n",
              "      <td>Switzerland</td>\n",
              "      <td>1</td>\n",
              "      <td>406</td>\n",
              "      <td>0.246305</td>\n",
              "    </tr>\n",
              "    <tr>\n",
              "      <th>128</th>\n",
              "      <td>Tanzania</td>\n",
              "      <td>1</td>\n",
              "      <td>407</td>\n",
              "      <td>0.245700</td>\n",
              "    </tr>\n",
              "    <tr>\n",
              "      <th>10</th>\n",
              "      <td>Belgium</td>\n",
              "      <td>1</td>\n",
              "      <td>522</td>\n",
              "      <td>0.191571</td>\n",
              "    </tr>\n",
              "  </tbody>\n",
              "</table>\n",
              "</div>"
            ],
            "text/plain": [
              "         country  ...  Percentage of Quality Articles\n",
              "87       Morocco  ...                        0.480769\n",
              "73     Lithuania  ...                        0.403226\n",
              "27      Colombia  ...                        0.347222\n",
              "104     Portugal  ...                        0.311526\n",
              "94       Nigeria  ...                        0.293686\n",
              "101         Peru  ...                        0.282486\n",
              "89         Nepal  ...                        0.279330\n",
              "124  Switzerland  ...                        0.246305\n",
              "128     Tanzania  ...                        0.245700\n",
              "10       Belgium  ...                        0.191571\n",
              "\n",
              "[10 rows x 4 columns]"
            ]
          },
          "metadata": {},
          "execution_count": 229
        }
      ]
    },
    {
      "cell_type": "markdown",
      "metadata": {
        "id": "TFArY0AzpfhC"
      },
      "source": [
        "Belgium has the lowest percentage of quality articles of any country. Even if you take into consideration the total number of articles Belgium has on politicians, it still only has 1 high quality article. I wonder why that is?"
      ],
      "id": "TFArY0AzpfhC"
    },
    {
      "cell_type": "code",
      "metadata": {
        "colab": {
          "base_uri": "https://localhost:8080/",
          "height": 357
        },
        "id": "ld8cwmKTsT0u",
        "outputId": "071b8556-c6f0-43e5-e102-e9782b6b9209"
      },
      "source": [
        "# Top 10 Sub-Regions with largest proportion of articles to Sub-Region population\n",
        "rank_regions.head(10)"
      ],
      "id": "ld8cwmKTsT0u",
      "execution_count": 230,
      "outputs": [
        {
          "output_type": "execute_result",
          "data": {
            "text/html": [
              "<div>\n",
              "<style scoped>\n",
              "    .dataframe tbody tr th:only-of-type {\n",
              "        vertical-align: middle;\n",
              "    }\n",
              "\n",
              "    .dataframe tbody tr th {\n",
              "        vertical-align: top;\n",
              "    }\n",
              "\n",
              "    .dataframe thead th {\n",
              "        text-align: right;\n",
              "    }\n",
              "</style>\n",
              "<table border=\"1\" class=\"dataframe\">\n",
              "  <thead>\n",
              "    <tr style=\"text-align: right;\">\n",
              "      <th></th>\n",
              "      <th>Sub-Region</th>\n",
              "      <th>article_count</th>\n",
              "      <th>Name</th>\n",
              "      <th>Type</th>\n",
              "      <th>Population</th>\n",
              "      <th>percentage</th>\n",
              "    </tr>\n",
              "  </thead>\n",
              "  <tbody>\n",
              "    <tr>\n",
              "      <th>10</th>\n",
              "      <td>OCEANIA</td>\n",
              "      <td>5657</td>\n",
              "      <td>OCEANIA</td>\n",
              "      <td>Sub-Region</td>\n",
              "      <td>43155000</td>\n",
              "      <td>0.013109</td>\n",
              "    </tr>\n",
              "    <tr>\n",
              "      <th>0</th>\n",
              "      <td>CARIBBEAN</td>\n",
              "      <td>1800</td>\n",
              "      <td>CARIBBEAN</td>\n",
              "      <td>Sub-Region</td>\n",
              "      <td>43233000</td>\n",
              "      <td>0.004163</td>\n",
              "    </tr>\n",
              "    <tr>\n",
              "      <th>15</th>\n",
              "      <td>SOUTHERN EUROPE</td>\n",
              "      <td>5753</td>\n",
              "      <td>SOUTHERN EUROPE</td>\n",
              "      <td>Sub-Region</td>\n",
              "      <td>153251000</td>\n",
              "      <td>0.003754</td>\n",
              "    </tr>\n",
              "    <tr>\n",
              "      <th>9</th>\n",
              "      <td>NORTHERN EUROPE</td>\n",
              "      <td>2959</td>\n",
              "      <td>NORTHERN EUROPE</td>\n",
              "      <td>Sub-Region</td>\n",
              "      <td>105990000</td>\n",
              "      <td>0.002792</td>\n",
              "    </tr>\n",
              "    <tr>\n",
              "      <th>1</th>\n",
              "      <td>CENTRAL AMERICA</td>\n",
              "      <td>2555</td>\n",
              "      <td>CENTRAL AMERICA</td>\n",
              "      <td>Sub-Region</td>\n",
              "      <td>178611000</td>\n",
              "      <td>0.001430</td>\n",
              "    </tr>\n",
              "    <tr>\n",
              "      <th>2</th>\n",
              "      <td>CENTRAL ASIA</td>\n",
              "      <td>882</td>\n",
              "      <td>CENTRAL ASIA</td>\n",
              "      <td>Sub-Region</td>\n",
              "      <td>74961000</td>\n",
              "      <td>0.001177</td>\n",
              "    </tr>\n",
              "    <tr>\n",
              "      <th>17</th>\n",
              "      <td>WESTERN ASIA</td>\n",
              "      <td>3096</td>\n",
              "      <td>WESTERN ASIA</td>\n",
              "      <td>Sub-Region</td>\n",
              "      <td>280927000</td>\n",
              "      <td>0.001102</td>\n",
              "    </tr>\n",
              "    <tr>\n",
              "      <th>5</th>\n",
              "      <td>EASTERN EUROPE</td>\n",
              "      <td>2935</td>\n",
              "      <td>EASTERN EUROPE</td>\n",
              "      <td>Sub-Region</td>\n",
              "      <td>291902000</td>\n",
              "      <td>0.001005</td>\n",
              "    </tr>\n",
              "    <tr>\n",
              "      <th>18</th>\n",
              "      <td>WESTERN EUROPE</td>\n",
              "      <td>1357</td>\n",
              "      <td>WESTERN EUROPE</td>\n",
              "      <td>Sub-Region</td>\n",
              "      <td>195479000</td>\n",
              "      <td>0.000694</td>\n",
              "    </tr>\n",
              "    <tr>\n",
              "      <th>6</th>\n",
              "      <td>MIDDLE AFRICA</td>\n",
              "      <td>1200</td>\n",
              "      <td>MIDDLE AFRICA</td>\n",
              "      <td>Sub-Region</td>\n",
              "      <td>179757000</td>\n",
              "      <td>0.000668</td>\n",
              "    </tr>\n",
              "  </tbody>\n",
              "</table>\n",
              "</div>"
            ],
            "text/plain": [
              "         Sub-Region  article_count  ... Population percentage\n",
              "10          OCEANIA           5657  ...   43155000   0.013109\n",
              "0         CARIBBEAN           1800  ...   43233000   0.004163\n",
              "15  SOUTHERN EUROPE           5753  ...  153251000   0.003754\n",
              "9   NORTHERN EUROPE           2959  ...  105990000   0.002792\n",
              "1   CENTRAL AMERICA           2555  ...  178611000   0.001430\n",
              "2      CENTRAL ASIA            882  ...   74961000   0.001177\n",
              "17     WESTERN ASIA           3096  ...  280927000   0.001102\n",
              "5    EASTERN EUROPE           2935  ...  291902000   0.001005\n",
              "18   WESTERN EUROPE           1357  ...  195479000   0.000694\n",
              "6     MIDDLE AFRICA           1200  ...  179757000   0.000668\n",
              "\n",
              "[10 rows x 6 columns]"
            ]
          },
          "metadata": {},
          "execution_count": 230
        }
      ]
    },
    {
      "cell_type": "code",
      "metadata": {
        "colab": {
          "base_uri": "https://localhost:8080/",
          "height": 357
        },
        "id": "AunaktxxwXE7",
        "outputId": "6b3b535e-1ca2-449d-f000-97c4e5faa303"
      },
      "source": [
        "# Top 10 Sub-Regions with largest proportion of high quality articles to total number of articles\n",
        "rank_regions_high_quality.head(10)"
      ],
      "id": "AunaktxxwXE7",
      "execution_count": 232,
      "outputs": [
        {
          "output_type": "execute_result",
          "data": {
            "text/html": [
              "<div>\n",
              "<style scoped>\n",
              "    .dataframe tbody tr th:only-of-type {\n",
              "        vertical-align: middle;\n",
              "    }\n",
              "\n",
              "    .dataframe tbody tr th {\n",
              "        vertical-align: top;\n",
              "    }\n",
              "\n",
              "    .dataframe thead th {\n",
              "        text-align: right;\n",
              "    }\n",
              "</style>\n",
              "<table border=\"1\" class=\"dataframe\">\n",
              "  <thead>\n",
              "    <tr style=\"text-align: right;\">\n",
              "      <th></th>\n",
              "      <th>Sub-Region</th>\n",
              "      <th>high_quality_article_count</th>\n",
              "      <th>article_count</th>\n",
              "      <th>Percentage of Quality Articles</th>\n",
              "    </tr>\n",
              "  </thead>\n",
              "  <tbody>\n",
              "    <tr>\n",
              "      <th>1</th>\n",
              "      <td>CENTRAL AMERICA</td>\n",
              "      <td>113</td>\n",
              "      <td>2555</td>\n",
              "      <td>4.422701</td>\n",
              "    </tr>\n",
              "    <tr>\n",
              "      <th>11</th>\n",
              "      <td>SOUTH ASIA</td>\n",
              "      <td>50</td>\n",
              "      <td>1199</td>\n",
              "      <td>4.170142</td>\n",
              "    </tr>\n",
              "    <tr>\n",
              "      <th>8</th>\n",
              "      <td>NORTHERN EUROPE</td>\n",
              "      <td>109</td>\n",
              "      <td>2959</td>\n",
              "      <td>3.683677</td>\n",
              "    </tr>\n",
              "    <tr>\n",
              "      <th>2</th>\n",
              "      <td>CENTRAL ASIA</td>\n",
              "      <td>31</td>\n",
              "      <td>882</td>\n",
              "      <td>3.514739</td>\n",
              "    </tr>\n",
              "    <tr>\n",
              "      <th>10</th>\n",
              "      <td>SOUTH AMERICA</td>\n",
              "      <td>26</td>\n",
              "      <td>957</td>\n",
              "      <td>2.716823</td>\n",
              "    </tr>\n",
              "    <tr>\n",
              "      <th>17</th>\n",
              "      <td>WESTERN EUROPE</td>\n",
              "      <td>36</td>\n",
              "      <td>1357</td>\n",
              "      <td>2.652911</td>\n",
              "    </tr>\n",
              "    <tr>\n",
              "      <th>9</th>\n",
              "      <td>OCEANIA</td>\n",
              "      <td>143</td>\n",
              "      <td>5657</td>\n",
              "      <td>2.527842</td>\n",
              "    </tr>\n",
              "    <tr>\n",
              "      <th>7</th>\n",
              "      <td>NORTHERN AFRICA</td>\n",
              "      <td>17</td>\n",
              "      <td>674</td>\n",
              "      <td>2.522255</td>\n",
              "    </tr>\n",
              "    <tr>\n",
              "      <th>15</th>\n",
              "      <td>WESTERN AFRICA</td>\n",
              "      <td>35</td>\n",
              "      <td>1455</td>\n",
              "      <td>2.405498</td>\n",
              "    </tr>\n",
              "    <tr>\n",
              "      <th>14</th>\n",
              "      <td>SOUTHERN EUROPE</td>\n",
              "      <td>117</td>\n",
              "      <td>5753</td>\n",
              "      <td>2.033722</td>\n",
              "    </tr>\n",
              "  </tbody>\n",
              "</table>\n",
              "</div>"
            ],
            "text/plain": [
              "         Sub-Region  ...  Percentage of Quality Articles\n",
              "1   CENTRAL AMERICA  ...                        4.422701\n",
              "11       SOUTH ASIA  ...                        4.170142\n",
              "8   NORTHERN EUROPE  ...                        3.683677\n",
              "2      CENTRAL ASIA  ...                        3.514739\n",
              "10    SOUTH AMERICA  ...                        2.716823\n",
              "17   WESTERN EUROPE  ...                        2.652911\n",
              "9           OCEANIA  ...                        2.527842\n",
              "7   NORTHERN AFRICA  ...                        2.522255\n",
              "15   WESTERN AFRICA  ...                        2.405498\n",
              "14  SOUTHERN EUROPE  ...                        2.033722\n",
              "\n",
              "[10 rows x 4 columns]"
            ]
          },
          "metadata": {},
          "execution_count": 232
        }
      ]
    }
  ]
}