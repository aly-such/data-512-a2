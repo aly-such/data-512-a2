{
  "nbformat": 4,
  "nbformat_minor": 5,
  "metadata": {
    "kernelspec": {
      "display_name": "Python 3",
      "language": "python",
      "name": "python3"
    },
    "language_info": {
      "codemirror_mode": {
        "name": "ipython",
        "version": 3
      },
      "file_extension": ".py",
      "mimetype": "text/x-python",
      "name": "python",
      "nbconvert_exporter": "python",
      "pygments_lexer": "ipython3",
      "version": "3.8.8"
    },
    "colab": {
      "name": "hcds-a2-bias.ipynb",
      "provenance": [],
      "collapsed_sections": [],
      "include_colab_link": true
    }
  },
  "cells": [
    {
      "cell_type": "markdown",
      "metadata": {
        "id": "view-in-github",
        "colab_type": "text"
      },
      "source": [
        "<a href=\"https://colab.research.google.com/github/aly-such/data-512-a2/blob/main/hcds_a2_bias.ipynb\" target=\"_parent\"><img src=\"https://colab.research.google.com/assets/colab-badge.svg\" alt=\"Open In Colab\"/></a>"
      ]
    },
    {
      "cell_type": "markdown",
      "metadata": {
        "id": "DqfxCimVeAnb"
      },
      "source": [
        "# **A2 - Bias in Data Assignment**\n",
        "**Alyson Suchodolski**\n",
        "\n",
        "\n",
        "---\n",
        "\n",
        "\n",
        "The goal of this assignment is to collect, curate, and analyze data on articles of politicians for many countries, then explore the biases that can be present in this analysis.\n",
        "We will collect article data from Wikipedia as well as population data from the Population Reference Bureau. "
      ],
      "id": "DqfxCimVeAnb"
    },
    {
      "cell_type": "markdown",
      "metadata": {
        "id": "FRDU3PTLe15V"
      },
      "source": [
        "**Import necessary packages**"
      ],
      "id": "FRDU3PTLe15V"
    },
    {
      "cell_type": "code",
      "metadata": {
        "id": "93150b29"
      },
      "source": [
        "# install ores locally\n",
        "# Will need to comment out and rerun this cell again so output isn't messy\n",
        "# When booting up notebook again, you'll have to uncomment to reinstall ores locally\n",
        "# If ores is already installed in your system, you won't need to run this\n",
        "#!pip install ores\n",
        "\n",
        "# imports\n",
        "import requests\n",
        "import json\n",
        "import pandas as pd\n",
        "import numpy as np\n",
        "from ores import api"
      ],
      "id": "93150b29",
      "execution_count": 15,
      "outputs": []
    },
    {
      "cell_type": "markdown",
      "metadata": {
        "id": "HosWawNDe9zH"
      },
      "source": [
        "**Clone the github repository**"
      ],
      "id": "HosWawNDe9zH"
    },
    {
      "cell_type": "code",
      "metadata": {
        "colab": {
          "base_uri": "https://localhost:8080/"
        },
        "id": "pDQ9fHtSP8CO",
        "outputId": "1c243ce2-bfe8-491c-95d9-5b77d179f8c2"
      },
      "source": [
        "!git clone https://github.com/aly-such/data-512-a2.git"
      ],
      "id": "pDQ9fHtSP8CO",
      "execution_count": 4,
      "outputs": [
        {
          "output_type": "stream",
          "name": "stdout",
          "text": [
            "Cloning into 'data-512-a2'...\n",
            "remote: Enumerating objects: 14, done.\u001b[K\n",
            "remote: Counting objects: 100% (14/14), done.\u001b[K\n",
            "remote: Compressing objects: 100% (13/13), done.\u001b[K\n",
            "remote: Total 14 (delta 4), reused 0 (delta 0), pack-reused 0\u001b[K\n",
            "Unpacking objects: 100% (14/14), done.\n"
          ]
        }
      ]
    },
    {
      "cell_type": "markdown",
      "metadata": {
        "id": "oL6f72qFfEUx"
      },
      "source": [
        "### **Step 1: Getting the Article and Population Data**\n",
        "First we must collect the necessary data from our sources below:\n",
        "\n",
        "\n",
        "*   [Politicians by Country Dataset](https://figshare.com/articles/Untitled_Item/5513449)\n",
        "*   [World Population Data Sheet](https://docs.google.com/spreadsheets/d/1CFJO2zna2No5KqNm9rPK5PCACoXKzb-nycJFhV689Iw/edit?usp=sharing)\n",
        "\n"
      ],
      "id": "oL6f72qFfEUx"
    },
    {
      "cell_type": "code",
      "metadata": {
        "id": "d3919389"
      },
      "source": [
        "# Politicians by Country dataset - from Figshare\n",
        "wiki = pd.read_csv('https://raw.githubusercontent.com/aly-such/data-512-a2/main/page_data.csv')\n",
        "\n",
        "# Population Data - from Population Reference Bureau\n",
        "pop = pd.read_csv('https://raw.githubusercontent.com/aly-such/data-512-a2/main/WPDS_2020_data.csv')"
      ],
      "id": "d3919389",
      "execution_count": 5,
      "outputs": []
    },
    {
      "cell_type": "code",
      "metadata": {
        "colab": {
          "base_uri": "https://localhost:8080/",
          "height": 203
        },
        "id": "936036ce",
        "outputId": "183528b5-5c00-48e3-d1df-328026f290fc"
      },
      "source": [
        "wiki.head()"
      ],
      "id": "936036ce",
      "execution_count": 6,
      "outputs": [
        {
          "output_type": "execute_result",
          "data": {
            "text/html": [
              "<div>\n",
              "<style scoped>\n",
              "    .dataframe tbody tr th:only-of-type {\n",
              "        vertical-align: middle;\n",
              "    }\n",
              "\n",
              "    .dataframe tbody tr th {\n",
              "        vertical-align: top;\n",
              "    }\n",
              "\n",
              "    .dataframe thead th {\n",
              "        text-align: right;\n",
              "    }\n",
              "</style>\n",
              "<table border=\"1\" class=\"dataframe\">\n",
              "  <thead>\n",
              "    <tr style=\"text-align: right;\">\n",
              "      <th></th>\n",
              "      <th>page</th>\n",
              "      <th>country</th>\n",
              "      <th>rev_id</th>\n",
              "    </tr>\n",
              "  </thead>\n",
              "  <tbody>\n",
              "    <tr>\n",
              "      <th>0</th>\n",
              "      <td>Template:ZambiaProvincialMinisters</td>\n",
              "      <td>Zambia</td>\n",
              "      <td>235107991</td>\n",
              "    </tr>\n",
              "    <tr>\n",
              "      <th>1</th>\n",
              "      <td>Bir I of Kanem</td>\n",
              "      <td>Chad</td>\n",
              "      <td>355319463</td>\n",
              "    </tr>\n",
              "    <tr>\n",
              "      <th>2</th>\n",
              "      <td>Template:Zimbabwe-politician-stub</td>\n",
              "      <td>Zimbabwe</td>\n",
              "      <td>391862046</td>\n",
              "    </tr>\n",
              "    <tr>\n",
              "      <th>3</th>\n",
              "      <td>Template:Uganda-politician-stub</td>\n",
              "      <td>Uganda</td>\n",
              "      <td>391862070</td>\n",
              "    </tr>\n",
              "    <tr>\n",
              "      <th>4</th>\n",
              "      <td>Template:Namibia-politician-stub</td>\n",
              "      <td>Namibia</td>\n",
              "      <td>391862409</td>\n",
              "    </tr>\n",
              "  </tbody>\n",
              "</table>\n",
              "</div>"
            ],
            "text/plain": [
              "                                 page   country     rev_id\n",
              "0  Template:ZambiaProvincialMinisters    Zambia  235107991\n",
              "1                      Bir I of Kanem      Chad  355319463\n",
              "2   Template:Zimbabwe-politician-stub  Zimbabwe  391862046\n",
              "3     Template:Uganda-politician-stub    Uganda  391862070\n",
              "4    Template:Namibia-politician-stub   Namibia  391862409"
            ]
          },
          "metadata": {},
          "execution_count": 6
        }
      ]
    },
    {
      "cell_type": "markdown",
      "metadata": {
        "id": "Aied5jFFf1Ep"
      },
      "source": [
        "### **Step 2: Cleaning the Data**\n",
        "\n",
        "Both data sets have information we do not need.  Within the wiki dataframe, you will see 'Template:...\" at the beginning of some titles in the 'page' column. These are not wikipedia articles and can be dropped from the dataframe."
      ],
      "id": "Aied5jFFf1Ep"
    },
    {
      "cell_type": "code",
      "metadata": {
        "id": "7781a885"
      },
      "source": [
        "# Template:... are not wiki articles, drop from dataframe\n",
        "wiki = wiki[~wiki.page.str.contains(\"Template:\")]"
      ],
      "id": "7781a885",
      "execution_count": 7,
      "outputs": []
    },
    {
      "cell_type": "code",
      "metadata": {
        "colab": {
          "base_uri": "https://localhost:8080/",
          "height": 203
        },
        "id": "7d2e21bd",
        "outputId": "25d3d384-b888-434f-dfbd-e67395fbbdf3"
      },
      "source": [
        "wiki.head()"
      ],
      "id": "7d2e21bd",
      "execution_count": 84,
      "outputs": [
        {
          "output_type": "execute_result",
          "data": {
            "text/html": [
              "<div>\n",
              "<style scoped>\n",
              "    .dataframe tbody tr th:only-of-type {\n",
              "        vertical-align: middle;\n",
              "    }\n",
              "\n",
              "    .dataframe tbody tr th {\n",
              "        vertical-align: top;\n",
              "    }\n",
              "\n",
              "    .dataframe thead th {\n",
              "        text-align: right;\n",
              "    }\n",
              "</style>\n",
              "<table border=\"1\" class=\"dataframe\">\n",
              "  <thead>\n",
              "    <tr style=\"text-align: right;\">\n",
              "      <th></th>\n",
              "      <th>page</th>\n",
              "      <th>country</th>\n",
              "      <th>rev_id</th>\n",
              "      <th>article_quality</th>\n",
              "    </tr>\n",
              "  </thead>\n",
              "  <tbody>\n",
              "    <tr>\n",
              "      <th>1</th>\n",
              "      <td>Bir I of Kanem</td>\n",
              "      <td>Chad</td>\n",
              "      <td>355319463</td>\n",
              "      <td>Stub</td>\n",
              "    </tr>\n",
              "    <tr>\n",
              "      <th>10</th>\n",
              "      <td>Information Minister of the Palestinian Nation...</td>\n",
              "      <td>Palestinian Territory</td>\n",
              "      <td>393276188</td>\n",
              "      <td>Stub</td>\n",
              "    </tr>\n",
              "    <tr>\n",
              "      <th>12</th>\n",
              "      <td>Yos Por</td>\n",
              "      <td>Cambodia</td>\n",
              "      <td>393822005</td>\n",
              "      <td>Stub</td>\n",
              "    </tr>\n",
              "    <tr>\n",
              "      <th>23</th>\n",
              "      <td>Julius Gregr</td>\n",
              "      <td>Czech Republic</td>\n",
              "      <td>395521877</td>\n",
              "      <td>Stub</td>\n",
              "    </tr>\n",
              "    <tr>\n",
              "      <th>24</th>\n",
              "      <td>Edvard Gregr</td>\n",
              "      <td>Czech Republic</td>\n",
              "      <td>395526568</td>\n",
              "      <td>Stub</td>\n",
              "    </tr>\n",
              "  </tbody>\n",
              "</table>\n",
              "</div>"
            ],
            "text/plain": [
              "                                                 page  ... article_quality\n",
              "1                                      Bir I of Kanem  ...            Stub\n",
              "10  Information Minister of the Palestinian Nation...  ...            Stub\n",
              "12                                            Yos Por  ...            Stub\n",
              "23                                       Julius Gregr  ...            Stub\n",
              "24                                       Edvard Gregr  ...            Stub\n",
              "\n",
              "[5 rows x 4 columns]"
            ]
          },
          "metadata": {},
          "execution_count": 84
        }
      ]
    },
    {
      "cell_type": "markdown",
      "metadata": {
        "id": "7-tdc88ZgVHZ"
      },
      "source": [
        "For neatness purposes, I have dropped some fields that we will not be using."
      ],
      "id": "7-tdc88ZgVHZ"
    },
    {
      "cell_type": "code",
      "metadata": {
        "colab": {
          "base_uri": "https://localhost:8080/",
          "height": 203
        },
        "id": "e25d4b7b",
        "outputId": "5ef81f5e-faec-4204-a613-b4d7712a68e0"
      },
      "source": [
        "pop = pop.drop(columns= ['TimeFrame', 'FIPS', 'Data (M)'])\n",
        "pop.head()"
      ],
      "id": "e25d4b7b",
      "execution_count": 9,
      "outputs": [
        {
          "output_type": "execute_result",
          "data": {
            "text/html": [
              "<div>\n",
              "<style scoped>\n",
              "    .dataframe tbody tr th:only-of-type {\n",
              "        vertical-align: middle;\n",
              "    }\n",
              "\n",
              "    .dataframe tbody tr th {\n",
              "        vertical-align: top;\n",
              "    }\n",
              "\n",
              "    .dataframe thead th {\n",
              "        text-align: right;\n",
              "    }\n",
              "</style>\n",
              "<table border=\"1\" class=\"dataframe\">\n",
              "  <thead>\n",
              "    <tr style=\"text-align: right;\">\n",
              "      <th></th>\n",
              "      <th>Name</th>\n",
              "      <th>Type</th>\n",
              "      <th>Population</th>\n",
              "    </tr>\n",
              "  </thead>\n",
              "  <tbody>\n",
              "    <tr>\n",
              "      <th>0</th>\n",
              "      <td>WORLD</td>\n",
              "      <td>World</td>\n",
              "      <td>7772850000</td>\n",
              "    </tr>\n",
              "    <tr>\n",
              "      <th>1</th>\n",
              "      <td>AFRICA</td>\n",
              "      <td>Sub-Region</td>\n",
              "      <td>1337918000</td>\n",
              "    </tr>\n",
              "    <tr>\n",
              "      <th>2</th>\n",
              "      <td>NORTHERN AFRICA</td>\n",
              "      <td>Sub-Region</td>\n",
              "      <td>244344000</td>\n",
              "    </tr>\n",
              "    <tr>\n",
              "      <th>3</th>\n",
              "      <td>Algeria</td>\n",
              "      <td>Country</td>\n",
              "      <td>44357000</td>\n",
              "    </tr>\n",
              "    <tr>\n",
              "      <th>4</th>\n",
              "      <td>Egypt</td>\n",
              "      <td>Country</td>\n",
              "      <td>100803000</td>\n",
              "    </tr>\n",
              "  </tbody>\n",
              "</table>\n",
              "</div>"
            ],
            "text/plain": [
              "              Name        Type  Population\n",
              "0            WORLD       World  7772850000\n",
              "1           AFRICA  Sub-Region  1337918000\n",
              "2  NORTHERN AFRICA  Sub-Region   244344000\n",
              "3          Algeria     Country    44357000\n",
              "4            Egypt     Country   100803000"
            ]
          },
          "metadata": {},
          "execution_count": 9
        }
      ]
    },
    {
      "cell_type": "markdown",
      "metadata": {
        "id": "8rtRU1z7gsm5"
      },
      "source": [
        "Now, we will create two separate dataframes for the population data. Because only countries exist within the wiki dataset and have a rev_id, we will want to house the sub-regional data in a separate frame. This sub-regional data can be identified with all caps (ex. SOUTHEAST ASIA), so those must be popped out from the country dataframe that we want."
      ],
      "id": "8rtRU1z7gsm5"
    },
    {
      "cell_type": "code",
      "metadata": {
        "id": "62b96234"
      },
      "source": [
        "# Separate The regional populations from the country populations\n",
        "# First, create a dataframe of the Names that are not in all caps (country-level counts)\n",
        "# These rows will match country values in paga_data.csv\n",
        "country_pop = pop[~pop.Name.str.isupper()]\n",
        "\n",
        "# Second, create a dataframe of the Names that are in all caps (regional-level counts)\n",
        "# These rows will not have a match in paga_data.csv\n",
        "region_pop = pop[pop.Name.str.isupper()]"
      ],
      "id": "62b96234",
      "execution_count": 10,
      "outputs": []
    },
    {
      "cell_type": "code",
      "metadata": {
        "colab": {
          "base_uri": "https://localhost:8080/",
          "height": 203
        },
        "id": "bc734be1",
        "outputId": "c0a28426-b6e5-4015-cc5a-6eb9512f7e86"
      },
      "source": [
        "region_pop.head()"
      ],
      "id": "bc734be1",
      "execution_count": 11,
      "outputs": [
        {
          "output_type": "execute_result",
          "data": {
            "text/html": [
              "<div>\n",
              "<style scoped>\n",
              "    .dataframe tbody tr th:only-of-type {\n",
              "        vertical-align: middle;\n",
              "    }\n",
              "\n",
              "    .dataframe tbody tr th {\n",
              "        vertical-align: top;\n",
              "    }\n",
              "\n",
              "    .dataframe thead th {\n",
              "        text-align: right;\n",
              "    }\n",
              "</style>\n",
              "<table border=\"1\" class=\"dataframe\">\n",
              "  <thead>\n",
              "    <tr style=\"text-align: right;\">\n",
              "      <th></th>\n",
              "      <th>Name</th>\n",
              "      <th>Type</th>\n",
              "      <th>Population</th>\n",
              "    </tr>\n",
              "  </thead>\n",
              "  <tbody>\n",
              "    <tr>\n",
              "      <th>0</th>\n",
              "      <td>WORLD</td>\n",
              "      <td>World</td>\n",
              "      <td>7772850000</td>\n",
              "    </tr>\n",
              "    <tr>\n",
              "      <th>1</th>\n",
              "      <td>AFRICA</td>\n",
              "      <td>Sub-Region</td>\n",
              "      <td>1337918000</td>\n",
              "    </tr>\n",
              "    <tr>\n",
              "      <th>2</th>\n",
              "      <td>NORTHERN AFRICA</td>\n",
              "      <td>Sub-Region</td>\n",
              "      <td>244344000</td>\n",
              "    </tr>\n",
              "    <tr>\n",
              "      <th>10</th>\n",
              "      <td>WESTERN AFRICA</td>\n",
              "      <td>Sub-Region</td>\n",
              "      <td>401115000</td>\n",
              "    </tr>\n",
              "    <tr>\n",
              "      <th>27</th>\n",
              "      <td>EASTERN AFRICA</td>\n",
              "      <td>Sub-Region</td>\n",
              "      <td>444970000</td>\n",
              "    </tr>\n",
              "  </tbody>\n",
              "</table>\n",
              "</div>"
            ],
            "text/plain": [
              "               Name        Type  Population\n",
              "0             WORLD       World  7772850000\n",
              "1            AFRICA  Sub-Region  1337918000\n",
              "2   NORTHERN AFRICA  Sub-Region   244344000\n",
              "10   WESTERN AFRICA  Sub-Region   401115000\n",
              "27   EASTERN AFRICA  Sub-Region   444970000"
            ]
          },
          "metadata": {},
          "execution_count": 11
        }
      ]
    },
    {
      "cell_type": "code",
      "metadata": {
        "colab": {
          "base_uri": "https://localhost:8080/",
          "height": 203
        },
        "id": "50e50b31",
        "outputId": "cf50535d-14d4-4918-8be8-3da481f83479"
      },
      "source": [
        "country_pop.head()"
      ],
      "id": "50e50b31",
      "execution_count": 12,
      "outputs": [
        {
          "output_type": "execute_result",
          "data": {
            "text/html": [
              "<div>\n",
              "<style scoped>\n",
              "    .dataframe tbody tr th:only-of-type {\n",
              "        vertical-align: middle;\n",
              "    }\n",
              "\n",
              "    .dataframe tbody tr th {\n",
              "        vertical-align: top;\n",
              "    }\n",
              "\n",
              "    .dataframe thead th {\n",
              "        text-align: right;\n",
              "    }\n",
              "</style>\n",
              "<table border=\"1\" class=\"dataframe\">\n",
              "  <thead>\n",
              "    <tr style=\"text-align: right;\">\n",
              "      <th></th>\n",
              "      <th>Name</th>\n",
              "      <th>Type</th>\n",
              "      <th>Population</th>\n",
              "    </tr>\n",
              "  </thead>\n",
              "  <tbody>\n",
              "    <tr>\n",
              "      <th>3</th>\n",
              "      <td>Algeria</td>\n",
              "      <td>Country</td>\n",
              "      <td>44357000</td>\n",
              "    </tr>\n",
              "    <tr>\n",
              "      <th>4</th>\n",
              "      <td>Egypt</td>\n",
              "      <td>Country</td>\n",
              "      <td>100803000</td>\n",
              "    </tr>\n",
              "    <tr>\n",
              "      <th>5</th>\n",
              "      <td>Libya</td>\n",
              "      <td>Country</td>\n",
              "      <td>6891000</td>\n",
              "    </tr>\n",
              "    <tr>\n",
              "      <th>6</th>\n",
              "      <td>Morocco</td>\n",
              "      <td>Country</td>\n",
              "      <td>35952000</td>\n",
              "    </tr>\n",
              "    <tr>\n",
              "      <th>7</th>\n",
              "      <td>Sudan</td>\n",
              "      <td>Country</td>\n",
              "      <td>43849000</td>\n",
              "    </tr>\n",
              "  </tbody>\n",
              "</table>\n",
              "</div>"
            ],
            "text/plain": [
              "      Name     Type  Population\n",
              "3  Algeria  Country    44357000\n",
              "4    Egypt  Country   100803000\n",
              "5    Libya  Country     6891000\n",
              "6  Morocco  Country    35952000\n",
              "7    Sudan  Country    43849000"
            ]
          },
          "metadata": {},
          "execution_count": 12
        }
      ]
    },
    {
      "cell_type": "markdown",
      "metadata": {
        "id": "CZqDG02qhPRD"
      },
      "source": [
        "### **Step 3: Getting Article Quality Predictions**\n",
        "We need to get the predicted quality scores for each article in the Wikipedia dataset. ORES can provide estimates on article quality based off this Wiki information. Article Quality is as follows:\n",
        "\n",
        "1. FA - Featured article\n",
        "2. GA - Good article\n",
        "3. B - B-class article\n",
        "4. C - C-class article\n",
        "5. Start - Start-class article\n",
        "6. Stub - Stub-class article\n",
        "\n",
        "The following will read the rev_id of each article line by line so that it can predict the quality of the article. Each rev_id will be assigned one of the rankings from above.\n"
      ],
      "id": "CZqDG02qhPRD"
    },
    {
      "cell_type": "markdown",
      "metadata": {
        "id": "-U-XnOSViG1F"
      },
      "source": [
        "First we must connect to the wikimedia API"
      ],
      "id": "-U-XnOSViG1F"
    },
    {
      "cell_type": "code",
      "metadata": {
        "id": "gFO9PyjrMdvV"
      },
      "source": [
        "# Start a ores session using api package\n",
        "ores_session = api.Session('https://ores.wikimedia.org', 'DATA512 A2 ams884@uw.edu')"
      ],
      "id": "gFO9PyjrMdvV",
      "execution_count": 13,
      "outputs": []
    },
    {
      "cell_type": "markdown",
      "metadata": {
        "id": "S4mXlEwmiQmQ"
      },
      "source": [
        "Then we can pull the results from the API endpoint"
      ],
      "id": "S4mXlEwmiQmQ"
    },
    {
      "cell_type": "code",
      "metadata": {
        "id": "yWumQe6IRgbK"
      },
      "source": [
        "# Pull the results of the session\n",
        "result = ores_session.score('enwiki', ['articlequality'], wiki['rev_id'])"
      ],
      "id": "yWumQe6IRgbK",
      "execution_count": 14,
      "outputs": []
    },
    {
      "cell_type": "markdown",
      "metadata": {
        "id": "FKk1CI1RifZI"
      },
      "source": [
        "Last, we can create a new column that will contain all the predictions found from using ORES."
      ],
      "id": "FKk1CI1RifZI"
    },
    {
      "cell_type": "code",
      "metadata": {
        "id": "Py7vgpnURgT0"
      },
      "source": [
        "# Create new column that will keep track of predicted quality\n",
        "# Create an empty list to append to\n",
        "predictions = []\n",
        "\n",
        "# Loop through the results of the session to append the scores to our empty list\n",
        "for prediction in result:\n",
        "  try:\n",
        "    predictions.append(prediction['articlequality']['score']['prediction'])\n",
        "  except:\n",
        "    predictions.append(-1) # appends -1 where there is no prediction"
      ],
      "id": "Py7vgpnURgT0",
      "execution_count": 16,
      "outputs": []
    },
    {
      "cell_type": "markdown",
      "metadata": {
        "id": "-Sjhr9ehiwZQ"
      },
      "source": [
        "### **Step 4: Combining the Datasets**\n",
        "Now that we have our predictions for article quality, we will want to combine this with our wiki data frame that has our article information. On top of this, we want to look at these scores relative to the populations of the country of origin, so we will also combine our country population dataset"
      ],
      "id": "-Sjhr9ehiwZQ"
    },
    {
      "cell_type": "markdown",
      "metadata": {
        "id": "hvjApQLGjLwi"
      },
      "source": [
        "We will add a new column to the wiki dataframe that will be our article quality. "
      ],
      "id": "hvjApQLGjLwi"
    },
    {
      "cell_type": "code",
      "metadata": {
        "colab": {
          "base_uri": "https://localhost:8080/",
          "height": 203
        },
        "id": "lhIzvgklRgNH",
        "outputId": "c98ebe20-4ef4-4020-d6f6-b6874b45d0bc"
      },
      "source": [
        "# Create a new dataframe that includes wiki data as well as score data\n",
        "wiki_scores = wiki\n",
        "wiki_scores['article_quality'] = predictions\n",
        "\n",
        "wiki_scores.head()"
      ],
      "id": "lhIzvgklRgNH",
      "execution_count": 17,
      "outputs": [
        {
          "output_type": "execute_result",
          "data": {
            "text/html": [
              "<div>\n",
              "<style scoped>\n",
              "    .dataframe tbody tr th:only-of-type {\n",
              "        vertical-align: middle;\n",
              "    }\n",
              "\n",
              "    .dataframe tbody tr th {\n",
              "        vertical-align: top;\n",
              "    }\n",
              "\n",
              "    .dataframe thead th {\n",
              "        text-align: right;\n",
              "    }\n",
              "</style>\n",
              "<table border=\"1\" class=\"dataframe\">\n",
              "  <thead>\n",
              "    <tr style=\"text-align: right;\">\n",
              "      <th></th>\n",
              "      <th>page</th>\n",
              "      <th>country</th>\n",
              "      <th>rev_id</th>\n",
              "      <th>article_quality</th>\n",
              "    </tr>\n",
              "  </thead>\n",
              "  <tbody>\n",
              "    <tr>\n",
              "      <th>1</th>\n",
              "      <td>Bir I of Kanem</td>\n",
              "      <td>Chad</td>\n",
              "      <td>355319463</td>\n",
              "      <td>Stub</td>\n",
              "    </tr>\n",
              "    <tr>\n",
              "      <th>10</th>\n",
              "      <td>Information Minister of the Palestinian Nation...</td>\n",
              "      <td>Palestinian Territory</td>\n",
              "      <td>393276188</td>\n",
              "      <td>Stub</td>\n",
              "    </tr>\n",
              "    <tr>\n",
              "      <th>12</th>\n",
              "      <td>Yos Por</td>\n",
              "      <td>Cambodia</td>\n",
              "      <td>393822005</td>\n",
              "      <td>Stub</td>\n",
              "    </tr>\n",
              "    <tr>\n",
              "      <th>23</th>\n",
              "      <td>Julius Gregr</td>\n",
              "      <td>Czech Republic</td>\n",
              "      <td>395521877</td>\n",
              "      <td>Stub</td>\n",
              "    </tr>\n",
              "    <tr>\n",
              "      <th>24</th>\n",
              "      <td>Edvard Gregr</td>\n",
              "      <td>Czech Republic</td>\n",
              "      <td>395526568</td>\n",
              "      <td>Stub</td>\n",
              "    </tr>\n",
              "  </tbody>\n",
              "</table>\n",
              "</div>"
            ],
            "text/plain": [
              "                                                 page  ... article_quality\n",
              "1                                      Bir I of Kanem  ...            Stub\n",
              "10  Information Minister of the Palestinian Nation...  ...            Stub\n",
              "12                                            Yos Por  ...            Stub\n",
              "23                                       Julius Gregr  ...            Stub\n",
              "24                                       Edvard Gregr  ...            Stub\n",
              "\n",
              "[5 rows x 4 columns]"
            ]
          },
          "metadata": {},
          "execution_count": 17
        }
      ]
    },
    {
      "cell_type": "markdown",
      "metadata": {
        "id": "g8nOTK7Yjbag"
      },
      "source": [
        "Merge the Wiki and Scoring dataset with the country population data. This will happen as an inner join on the fields 'country' and 'Name', respectively."
      ],
      "id": "g8nOTK7Yjbag"
    },
    {
      "cell_type": "code",
      "metadata": {
        "id": "5e328e38"
      },
      "source": [
        "# Merge wiki/pred data with country population data\n",
        "merge_df = wiki_scores.merge(country_pop, left_on='country', right_on='Name', how='inner')"
      ],
      "id": "5e328e38",
      "execution_count": 18,
      "outputs": []
    },
    {
      "cell_type": "code",
      "metadata": {
        "colab": {
          "base_uri": "https://localhost:8080/",
          "height": 203
        },
        "id": "e5177355",
        "outputId": "594ee8bd-5c6a-4513-a2a4-e63e45ae7d91"
      },
      "source": [
        "merge_df.head()"
      ],
      "id": "e5177355",
      "execution_count": 19,
      "outputs": [
        {
          "output_type": "execute_result",
          "data": {
            "text/html": [
              "<div>\n",
              "<style scoped>\n",
              "    .dataframe tbody tr th:only-of-type {\n",
              "        vertical-align: middle;\n",
              "    }\n",
              "\n",
              "    .dataframe tbody tr th {\n",
              "        vertical-align: top;\n",
              "    }\n",
              "\n",
              "    .dataframe thead th {\n",
              "        text-align: right;\n",
              "    }\n",
              "</style>\n",
              "<table border=\"1\" class=\"dataframe\">\n",
              "  <thead>\n",
              "    <tr style=\"text-align: right;\">\n",
              "      <th></th>\n",
              "      <th>page</th>\n",
              "      <th>country</th>\n",
              "      <th>rev_id</th>\n",
              "      <th>article_quality</th>\n",
              "      <th>Name</th>\n",
              "      <th>Type</th>\n",
              "      <th>Population</th>\n",
              "    </tr>\n",
              "  </thead>\n",
              "  <tbody>\n",
              "    <tr>\n",
              "      <th>0</th>\n",
              "      <td>Bir I of Kanem</td>\n",
              "      <td>Chad</td>\n",
              "      <td>355319463</td>\n",
              "      <td>Stub</td>\n",
              "      <td>Chad</td>\n",
              "      <td>Country</td>\n",
              "      <td>16877000</td>\n",
              "    </tr>\n",
              "    <tr>\n",
              "      <th>1</th>\n",
              "      <td>Abdullah II of Kanem</td>\n",
              "      <td>Chad</td>\n",
              "      <td>498683267</td>\n",
              "      <td>Stub</td>\n",
              "      <td>Chad</td>\n",
              "      <td>Country</td>\n",
              "      <td>16877000</td>\n",
              "    </tr>\n",
              "    <tr>\n",
              "      <th>2</th>\n",
              "      <td>Salmama II of Kanem</td>\n",
              "      <td>Chad</td>\n",
              "      <td>565745353</td>\n",
              "      <td>Stub</td>\n",
              "      <td>Chad</td>\n",
              "      <td>Country</td>\n",
              "      <td>16877000</td>\n",
              "    </tr>\n",
              "    <tr>\n",
              "      <th>3</th>\n",
              "      <td>Kuri I of Kanem</td>\n",
              "      <td>Chad</td>\n",
              "      <td>565745365</td>\n",
              "      <td>Stub</td>\n",
              "      <td>Chad</td>\n",
              "      <td>Country</td>\n",
              "      <td>16877000</td>\n",
              "    </tr>\n",
              "    <tr>\n",
              "      <th>4</th>\n",
              "      <td>Mohammed I of Kanem</td>\n",
              "      <td>Chad</td>\n",
              "      <td>565745375</td>\n",
              "      <td>Stub</td>\n",
              "      <td>Chad</td>\n",
              "      <td>Country</td>\n",
              "      <td>16877000</td>\n",
              "    </tr>\n",
              "  </tbody>\n",
              "</table>\n",
              "</div>"
            ],
            "text/plain": [
              "                   page country     rev_id  ...  Name     Type Population\n",
              "0        Bir I of Kanem    Chad  355319463  ...  Chad  Country   16877000\n",
              "1  Abdullah II of Kanem    Chad  498683267  ...  Chad  Country   16877000\n",
              "2   Salmama II of Kanem    Chad  565745353  ...  Chad  Country   16877000\n",
              "3       Kuri I of Kanem    Chad  565745365  ...  Chad  Country   16877000\n",
              "4   Mohammed I of Kanem    Chad  565745375  ...  Chad  Country   16877000\n",
              "\n",
              "[5 rows x 7 columns]"
            ]
          },
          "metadata": {},
          "execution_count": 19
        }
      ]
    },
    {
      "cell_type": "markdown",
      "metadata": {
        "id": "9Lr5Ywsqjt0w"
      },
      "source": [
        "Clean up the column names to accurately reflect what we want to show (country, article name, article quality, population, etc.)"
      ],
      "id": "9Lr5Ywsqjt0w"
    },
    {
      "cell_type": "code",
      "metadata": {
        "id": "aeff076c"
      },
      "source": [
        "# Create single dataframe of wikipedia, prediction, and country population data\n",
        "# This is to simply rename all the columns to intuitive names\n",
        "\n",
        "wikipedia_df = pd.DataFrame({\n",
        "    'country' : merge_df['country'],\n",
        "    'article_name' : merge_df['page'],\n",
        "    'revision_id' : merge_df['rev_id'],\n",
        "    'article_quality_est.' : merge_df['article_quality'],\n",
        "    'population' : merge_df['Population']\n",
        "} )"
      ],
      "id": "aeff076c",
      "execution_count": 20,
      "outputs": []
    },
    {
      "cell_type": "code",
      "metadata": {
        "colab": {
          "base_uri": "https://localhost:8080/"
        },
        "id": "ZpnZM0RZYO_y",
        "outputId": "3194340e-bdda-44bc-e312-5f7e5df47625"
      },
      "source": [
        "print(wikipedia_df.head())"
      ],
      "id": "ZpnZM0RZYO_y",
      "execution_count": 21,
      "outputs": [
        {
          "output_type": "stream",
          "name": "stdout",
          "text": [
            "  country          article_name  revision_id article_quality_est.  population\n",
            "0    Chad        Bir I of Kanem    355319463                 Stub    16877000\n",
            "1    Chad  Abdullah II of Kanem    498683267                 Stub    16877000\n",
            "2    Chad   Salmama II of Kanem    565745353                 Stub    16877000\n",
            "3    Chad       Kuri I of Kanem    565745365                 Stub    16877000\n",
            "4    Chad   Mohammed I of Kanem    565745375                 Stub    16877000\n"
          ]
        }
      ]
    },
    {
      "cell_type": "markdown",
      "metadata": {
        "id": "Sxx6nT6Rj2mL"
      },
      "source": [
        "Some articles might not produce a prediction score, so we will log these in a separate file."
      ],
      "id": "Sxx6nT6Rj2mL"
    },
    {
      "cell_type": "code",
      "metadata": {
        "colab": {
          "base_uri": "https://localhost:8080/",
          "height": 203
        },
        "id": "SP5Ul5X8bwu1",
        "outputId": "a8492d36-80b5-45c8-8f44-7156d760788c"
      },
      "source": [
        "# Drop the rows that did not produce a prediction score\n",
        "wikipedia_df_final = wikipedia_df.loc[wikipedia_df['article_quality_est.'] != -1]\n",
        "\n",
        "wikipedia_df_final.head()"
      ],
      "id": "SP5Ul5X8bwu1",
      "execution_count": 22,
      "outputs": [
        {
          "output_type": "execute_result",
          "data": {
            "text/html": [
              "<div>\n",
              "<style scoped>\n",
              "    .dataframe tbody tr th:only-of-type {\n",
              "        vertical-align: middle;\n",
              "    }\n",
              "\n",
              "    .dataframe tbody tr th {\n",
              "        vertical-align: top;\n",
              "    }\n",
              "\n",
              "    .dataframe thead th {\n",
              "        text-align: right;\n",
              "    }\n",
              "</style>\n",
              "<table border=\"1\" class=\"dataframe\">\n",
              "  <thead>\n",
              "    <tr style=\"text-align: right;\">\n",
              "      <th></th>\n",
              "      <th>country</th>\n",
              "      <th>article_name</th>\n",
              "      <th>revision_id</th>\n",
              "      <th>article_quality_est.</th>\n",
              "      <th>population</th>\n",
              "    </tr>\n",
              "  </thead>\n",
              "  <tbody>\n",
              "    <tr>\n",
              "      <th>0</th>\n",
              "      <td>Chad</td>\n",
              "      <td>Bir I of Kanem</td>\n",
              "      <td>355319463</td>\n",
              "      <td>Stub</td>\n",
              "      <td>16877000</td>\n",
              "    </tr>\n",
              "    <tr>\n",
              "      <th>1</th>\n",
              "      <td>Chad</td>\n",
              "      <td>Abdullah II of Kanem</td>\n",
              "      <td>498683267</td>\n",
              "      <td>Stub</td>\n",
              "      <td>16877000</td>\n",
              "    </tr>\n",
              "    <tr>\n",
              "      <th>2</th>\n",
              "      <td>Chad</td>\n",
              "      <td>Salmama II of Kanem</td>\n",
              "      <td>565745353</td>\n",
              "      <td>Stub</td>\n",
              "      <td>16877000</td>\n",
              "    </tr>\n",
              "    <tr>\n",
              "      <th>3</th>\n",
              "      <td>Chad</td>\n",
              "      <td>Kuri I of Kanem</td>\n",
              "      <td>565745365</td>\n",
              "      <td>Stub</td>\n",
              "      <td>16877000</td>\n",
              "    </tr>\n",
              "    <tr>\n",
              "      <th>4</th>\n",
              "      <td>Chad</td>\n",
              "      <td>Mohammed I of Kanem</td>\n",
              "      <td>565745375</td>\n",
              "      <td>Stub</td>\n",
              "      <td>16877000</td>\n",
              "    </tr>\n",
              "  </tbody>\n",
              "</table>\n",
              "</div>"
            ],
            "text/plain": [
              "  country          article_name  revision_id article_quality_est.  population\n",
              "0    Chad        Bir I of Kanem    355319463                 Stub    16877000\n",
              "1    Chad  Abdullah II of Kanem    498683267                 Stub    16877000\n",
              "2    Chad   Salmama II of Kanem    565745353                 Stub    16877000\n",
              "3    Chad       Kuri I of Kanem    565745365                 Stub    16877000\n",
              "4    Chad   Mohammed I of Kanem    565745375                 Stub    16877000"
            ]
          },
          "metadata": {},
          "execution_count": 22
        }
      ]
    },
    {
      "cell_type": "code",
      "metadata": {
        "colab": {
          "base_uri": "https://localhost:8080/",
          "height": 203
        },
        "id": "9Xl2jlW-dc2U",
        "outputId": "04a895b1-a784-40fe-fa6a-26f42c4033c9"
      },
      "source": [
        "# Save the rows that did not produce a prediction score to a separate csv\n",
        "wikipedia_no_score = wikipedia_df.loc[wikipedia_df['article_quality_est.'] == -1]\n",
        "\n",
        "wikipedia_no_score.head()"
      ],
      "id": "9Xl2jlW-dc2U",
      "execution_count": 23,
      "outputs": [
        {
          "output_type": "execute_result",
          "data": {
            "text/html": [
              "<div>\n",
              "<style scoped>\n",
              "    .dataframe tbody tr th:only-of-type {\n",
              "        vertical-align: middle;\n",
              "    }\n",
              "\n",
              "    .dataframe tbody tr th {\n",
              "        vertical-align: top;\n",
              "    }\n",
              "\n",
              "    .dataframe thead th {\n",
              "        text-align: right;\n",
              "    }\n",
              "</style>\n",
              "<table border=\"1\" class=\"dataframe\">\n",
              "  <thead>\n",
              "    <tr style=\"text-align: right;\">\n",
              "      <th></th>\n",
              "      <th>country</th>\n",
              "      <th>article_name</th>\n",
              "      <th>revision_id</th>\n",
              "      <th>article_quality_est.</th>\n",
              "      <th>population</th>\n",
              "    </tr>\n",
              "  </thead>\n",
              "  <tbody>\n",
              "    <tr>\n",
              "      <th>36</th>\n",
              "      <td>Chad</td>\n",
              "      <td>Kalthouma Nguembang</td>\n",
              "      <td>762816132</td>\n",
              "      <td>-1</td>\n",
              "      <td>16877000</td>\n",
              "    </tr>\n",
              "    <tr>\n",
              "      <th>534</th>\n",
              "      <td>Canada</td>\n",
              "      <td>Pierre-Luc Paquette</td>\n",
              "      <td>708813010</td>\n",
              "      <td>-1</td>\n",
              "      <td>38190000</td>\n",
              "    </tr>\n",
              "    <tr>\n",
              "      <th>568</th>\n",
              "      <td>Canada</td>\n",
              "      <td>James H. Stuart</td>\n",
              "      <td>715457941</td>\n",
              "      <td>-1</td>\n",
              "      <td>38190000</td>\n",
              "    </tr>\n",
              "    <tr>\n",
              "      <th>598</th>\n",
              "      <td>Canada</td>\n",
              "      <td>René Matteau</td>\n",
              "      <td>723308478</td>\n",
              "      <td>-1</td>\n",
              "      <td>38190000</td>\n",
              "    </tr>\n",
              "    <tr>\n",
              "      <th>602</th>\n",
              "      <td>Canada</td>\n",
              "      <td>David J. Reimer</td>\n",
              "      <td>724052271</td>\n",
              "      <td>-1</td>\n",
              "      <td>38190000</td>\n",
              "    </tr>\n",
              "  </tbody>\n",
              "</table>\n",
              "</div>"
            ],
            "text/plain": [
              "    country         article_name  revision_id article_quality_est.  population\n",
              "36     Chad  Kalthouma Nguembang    762816132                   -1    16877000\n",
              "534  Canada  Pierre-Luc Paquette    708813010                   -1    38190000\n",
              "568  Canada      James H. Stuart    715457941                   -1    38190000\n",
              "598  Canada         René Matteau    723308478                   -1    38190000\n",
              "602  Canada      David J. Reimer    724052271                   -1    38190000"
            ]
          },
          "metadata": {},
          "execution_count": 23
        }
      ]
    },
    {
      "cell_type": "markdown",
      "metadata": {
        "id": "I2SnsnX0kO_x"
      },
      "source": [
        "Export the two dataframes we produced to CSVs."
      ],
      "id": "I2SnsnX0kO_x"
    },
    {
      "cell_type": "code",
      "metadata": {
        "id": "06634e9e"
      },
      "source": [
        "# Turn dataframes to CSV's\n",
        "wikipedia_df_final.to_csv('wp_wpds_politicians_by_country.csv', sep = ',')\n",
        "wikipedia_no_score.to_csv('wp_wpds_countries-no_match.csv', sep = ',')"
      ],
      "id": "06634e9e",
      "execution_count": 47,
      "outputs": []
    },
    {
      "cell_type": "markdown",
      "metadata": {
        "id": "Jvb6rw2Ikl3q"
      },
      "source": [
        "### **Step 5: Analysis**\n",
        "After curating the data to our liking, we will now analyze what we have so far. There are a few different metrics we would like to look at, such as the **proportion of articles per population** of each country as well as the **proportion of high quality articles per total number of articles** for each country. We will also want to do this at a regional level (for the 'Names' from the population dataset that are **all caps**).\n",
        "\n",
        "**High quality** articles can be defined as articles that are FA, or Featured Article, and GA, or Good Article.\n",
        "\n",
        "Before we can look at results, we must capture these metrics from the dataset we have so far."
      ],
      "id": "Jvb6rw2Ikl3q"
    },
    {
      "cell_type": "markdown",
      "metadata": {
        "id": "hIRZKLjKlUTD"
      },
      "source": [
        "Below, we will count the number of articles for each country. This is simply done by the group_by() function, which is very similar to the GROUP BY function in SQL. "
      ],
      "id": "hIRZKLjKlUTD"
    },
    {
      "cell_type": "code",
      "metadata": {
        "colab": {
          "base_uri": "https://localhost:8080/",
          "height": 203
        },
        "id": "85a3360c",
        "outputId": "7cdb5038-7b06-41fd-e08f-9e87bf63124b"
      },
      "source": [
        "# Count of Articles by Country\n",
        "art_country = wikipedia_df_final.groupby('country').count()['article_name'].astype(int).reset_index()\n",
        "art_country.rename(columns = {'article_name' : 'article_count'}, inplace = True)\n",
        "art_country.head()"
      ],
      "id": "85a3360c",
      "execution_count": 25,
      "outputs": [
        {
          "output_type": "execute_result",
          "data": {
            "text/html": [
              "<div>\n",
              "<style scoped>\n",
              "    .dataframe tbody tr th:only-of-type {\n",
              "        vertical-align: middle;\n",
              "    }\n",
              "\n",
              "    .dataframe tbody tr th {\n",
              "        vertical-align: top;\n",
              "    }\n",
              "\n",
              "    .dataframe thead th {\n",
              "        text-align: right;\n",
              "    }\n",
              "</style>\n",
              "<table border=\"1\" class=\"dataframe\">\n",
              "  <thead>\n",
              "    <tr style=\"text-align: right;\">\n",
              "      <th></th>\n",
              "      <th>country</th>\n",
              "      <th>article_count</th>\n",
              "    </tr>\n",
              "  </thead>\n",
              "  <tbody>\n",
              "    <tr>\n",
              "      <th>0</th>\n",
              "      <td>Afghanistan</td>\n",
              "      <td>319</td>\n",
              "    </tr>\n",
              "    <tr>\n",
              "      <th>1</th>\n",
              "      <td>Albania</td>\n",
              "      <td>456</td>\n",
              "    </tr>\n",
              "    <tr>\n",
              "      <th>2</th>\n",
              "      <td>Algeria</td>\n",
              "      <td>116</td>\n",
              "    </tr>\n",
              "    <tr>\n",
              "      <th>3</th>\n",
              "      <td>Andorra</td>\n",
              "      <td>34</td>\n",
              "    </tr>\n",
              "    <tr>\n",
              "      <th>4</th>\n",
              "      <td>Angola</td>\n",
              "      <td>106</td>\n",
              "    </tr>\n",
              "  </tbody>\n",
              "</table>\n",
              "</div>"
            ],
            "text/plain": [
              "       country  article_count\n",
              "0  Afghanistan            319\n",
              "1      Albania            456\n",
              "2      Algeria            116\n",
              "3      Andorra             34\n",
              "4       Angola            106"
            ]
          },
          "metadata": {},
          "execution_count": 25
        }
      ]
    },
    {
      "cell_type": "markdown",
      "metadata": {
        "id": "55gXo3NklyIz"
      },
      "source": [
        "Merge the dataset we made of count of articles by country with the country population. This will allow us to find the proportion of articles per selected country population. We will need manually formulate the proportion using:\n",
        "\n",
        "(Number of Articles/Country Population) * 100"
      ],
      "id": "55gXo3NklyIz"
    },
    {
      "cell_type": "code",
      "metadata": {
        "colab": {
          "base_uri": "https://localhost:8080/",
          "height": 203
        },
        "id": "56406da8",
        "outputId": "e52743d1-5311-4118-d3fc-fdeaf6b470db"
      },
      "source": [
        "# Merge Count of Articles by Country and Country Population\n",
        "art_prop = art_country.merge(country_pop, left_on = 'country', right_on = 'Name', how = 'inner')\n",
        "\n",
        "# Create a Proportion Column of Number of Articles Per the Country's Population\n",
        "art_prop['percentage'] = (art_prop['article_count'] * 100) / art_prop['Population'] # multiply by 100 to get a percentage\n",
        "\n",
        "art_prop.head()"
      ],
      "id": "56406da8",
      "execution_count": 26,
      "outputs": [
        {
          "output_type": "execute_result",
          "data": {
            "text/html": [
              "<div>\n",
              "<style scoped>\n",
              "    .dataframe tbody tr th:only-of-type {\n",
              "        vertical-align: middle;\n",
              "    }\n",
              "\n",
              "    .dataframe tbody tr th {\n",
              "        vertical-align: top;\n",
              "    }\n",
              "\n",
              "    .dataframe thead th {\n",
              "        text-align: right;\n",
              "    }\n",
              "</style>\n",
              "<table border=\"1\" class=\"dataframe\">\n",
              "  <thead>\n",
              "    <tr style=\"text-align: right;\">\n",
              "      <th></th>\n",
              "      <th>country</th>\n",
              "      <th>article_count</th>\n",
              "      <th>Name</th>\n",
              "      <th>Type</th>\n",
              "      <th>Population</th>\n",
              "      <th>percentage</th>\n",
              "    </tr>\n",
              "  </thead>\n",
              "  <tbody>\n",
              "    <tr>\n",
              "      <th>0</th>\n",
              "      <td>Afghanistan</td>\n",
              "      <td>319</td>\n",
              "      <td>Afghanistan</td>\n",
              "      <td>Country</td>\n",
              "      <td>38928000</td>\n",
              "      <td>0.000819</td>\n",
              "    </tr>\n",
              "    <tr>\n",
              "      <th>1</th>\n",
              "      <td>Albania</td>\n",
              "      <td>456</td>\n",
              "      <td>Albania</td>\n",
              "      <td>Country</td>\n",
              "      <td>2838000</td>\n",
              "      <td>0.016068</td>\n",
              "    </tr>\n",
              "    <tr>\n",
              "      <th>2</th>\n",
              "      <td>Algeria</td>\n",
              "      <td>116</td>\n",
              "      <td>Algeria</td>\n",
              "      <td>Country</td>\n",
              "      <td>44357000</td>\n",
              "      <td>0.000262</td>\n",
              "    </tr>\n",
              "    <tr>\n",
              "      <th>3</th>\n",
              "      <td>Andorra</td>\n",
              "      <td>34</td>\n",
              "      <td>Andorra</td>\n",
              "      <td>Country</td>\n",
              "      <td>82000</td>\n",
              "      <td>0.041463</td>\n",
              "    </tr>\n",
              "    <tr>\n",
              "      <th>4</th>\n",
              "      <td>Angola</td>\n",
              "      <td>106</td>\n",
              "      <td>Angola</td>\n",
              "      <td>Country</td>\n",
              "      <td>32522000</td>\n",
              "      <td>0.000326</td>\n",
              "    </tr>\n",
              "  </tbody>\n",
              "</table>\n",
              "</div>"
            ],
            "text/plain": [
              "       country  article_count         Name     Type  Population  percentage\n",
              "0  Afghanistan            319  Afghanistan  Country    38928000    0.000819\n",
              "1      Albania            456      Albania  Country     2838000    0.016068\n",
              "2      Algeria            116      Algeria  Country    44357000    0.000262\n",
              "3      Andorra             34      Andorra  Country       82000    0.041463\n",
              "4       Angola            106       Angola  Country    32522000    0.000326"
            ]
          },
          "metadata": {},
          "execution_count": 26
        }
      ]
    },
    {
      "cell_type": "markdown",
      "metadata": {
        "id": "jLAmnuv5mM6x"
      },
      "source": [
        "Create a dataset that will only contain articles with estimated quality of GA or FA. \n",
        "\n",
        "Find the number of high quality articles per country by grouping by country. Again use the group_by() function."
      ],
      "id": "jLAmnuv5mM6x"
    },
    {
      "cell_type": "code",
      "metadata": {
        "colab": {
          "base_uri": "https://localhost:8080/",
          "height": 203
        },
        "id": "F9WoUESqeGSw",
        "outputId": "d81c8b71-d984-4da5-b0f2-2f8b8bddeea7"
      },
      "source": [
        "# Group high quality articles together (High Quality = 'FA' and 'GA')\n",
        "high_quality = pd.concat([wikipedia_df_final.loc[wikipedia_df_final['article_quality_est.']=='FA'], \n",
        "                           wikipedia_df_final.loc[wikipedia_df_final['article_quality_est.']=='GA']])\n",
        "\n",
        "# Obtain count of high quality articles\n",
        "high_quality_group = high_quality.groupby('country').count()['article_name'].reset_index()\n",
        "\n",
        "# Create a dataframe of country and high quality article count\n",
        "high_quality_df = pd.DataFrame({'country':high_quality_group['country'], 'high_quality_article_count':high_quality_group['article_name']})\n",
        "high_quality_df.head()"
      ],
      "id": "F9WoUESqeGSw",
      "execution_count": 27,
      "outputs": [
        {
          "output_type": "execute_result",
          "data": {
            "text/html": [
              "<div>\n",
              "<style scoped>\n",
              "    .dataframe tbody tr th:only-of-type {\n",
              "        vertical-align: middle;\n",
              "    }\n",
              "\n",
              "    .dataframe tbody tr th {\n",
              "        vertical-align: top;\n",
              "    }\n",
              "\n",
              "    .dataframe thead th {\n",
              "        text-align: right;\n",
              "    }\n",
              "</style>\n",
              "<table border=\"1\" class=\"dataframe\">\n",
              "  <thead>\n",
              "    <tr style=\"text-align: right;\">\n",
              "      <th></th>\n",
              "      <th>country</th>\n",
              "      <th>high_quality_article_count</th>\n",
              "    </tr>\n",
              "  </thead>\n",
              "  <tbody>\n",
              "    <tr>\n",
              "      <th>0</th>\n",
              "      <td>Afghanistan</td>\n",
              "      <td>13</td>\n",
              "    </tr>\n",
              "    <tr>\n",
              "      <th>1</th>\n",
              "      <td>Albania</td>\n",
              "      <td>3</td>\n",
              "    </tr>\n",
              "    <tr>\n",
              "      <th>2</th>\n",
              "      <td>Algeria</td>\n",
              "      <td>2</td>\n",
              "    </tr>\n",
              "    <tr>\n",
              "      <th>3</th>\n",
              "      <td>Argentina</td>\n",
              "      <td>16</td>\n",
              "    </tr>\n",
              "    <tr>\n",
              "      <th>4</th>\n",
              "      <td>Armenia</td>\n",
              "      <td>5</td>\n",
              "    </tr>\n",
              "  </tbody>\n",
              "</table>\n",
              "</div>"
            ],
            "text/plain": [
              "       country  high_quality_article_count\n",
              "0  Afghanistan                          13\n",
              "1      Albania                           3\n",
              "2      Algeria                           2\n",
              "3    Argentina                          16\n",
              "4      Armenia                           5"
            ]
          },
          "metadata": {},
          "execution_count": 27
        }
      ]
    },
    {
      "cell_type": "markdown",
      "metadata": {
        "id": "tNJjLCE6mmwU"
      },
      "source": [
        "Merge the dataset containing the number of high quality articles with the dataset containing the total number of articles.\n",
        "\n",
        "Find the proportion of high quality articles per total number of articles for each country by using the following formula:\n",
        "\n",
        "(Number of High Quality Articles/Total Number of Articles) * 100"
      ],
      "id": "tNJjLCE6mmwU"
    },
    {
      "cell_type": "code",
      "metadata": {
        "colab": {
          "base_uri": "https://localhost:8080/",
          "height": 203
        },
        "id": "KIS0T39Wgh_n",
        "outputId": "c27fdbf9-4c1a-488c-b47d-12977c1be59e"
      },
      "source": [
        "# Merge high quality df (which has the counts) with the number of articles by country dataframe\n",
        "high_quality_prop = high_quality_df.merge(art_country, left_on = 'country', right_on = 'country', how = 'inner')\n",
        "\n",
        "# Find the proportion of high quality articles and number of total articles by country\n",
        "high_quality_prop['Percentage of Quality Articles'] = (high_quality_df['high_quality_article_count'] * 100) / high_quality_prop['article_count']\n",
        "\n",
        "high_quality_prop.head()"
      ],
      "id": "KIS0T39Wgh_n",
      "execution_count": 28,
      "outputs": [
        {
          "output_type": "execute_result",
          "data": {
            "text/html": [
              "<div>\n",
              "<style scoped>\n",
              "    .dataframe tbody tr th:only-of-type {\n",
              "        vertical-align: middle;\n",
              "    }\n",
              "\n",
              "    .dataframe tbody tr th {\n",
              "        vertical-align: top;\n",
              "    }\n",
              "\n",
              "    .dataframe thead th {\n",
              "        text-align: right;\n",
              "    }\n",
              "</style>\n",
              "<table border=\"1\" class=\"dataframe\">\n",
              "  <thead>\n",
              "    <tr style=\"text-align: right;\">\n",
              "      <th></th>\n",
              "      <th>country</th>\n",
              "      <th>high_quality_article_count</th>\n",
              "      <th>article_count</th>\n",
              "      <th>Percentage of Quality Articles</th>\n",
              "    </tr>\n",
              "  </thead>\n",
              "  <tbody>\n",
              "    <tr>\n",
              "      <th>0</th>\n",
              "      <td>Afghanistan</td>\n",
              "      <td>13</td>\n",
              "      <td>319</td>\n",
              "      <td>4.075235</td>\n",
              "    </tr>\n",
              "    <tr>\n",
              "      <th>1</th>\n",
              "      <td>Albania</td>\n",
              "      <td>3</td>\n",
              "      <td>456</td>\n",
              "      <td>0.657895</td>\n",
              "    </tr>\n",
              "    <tr>\n",
              "      <th>2</th>\n",
              "      <td>Algeria</td>\n",
              "      <td>2</td>\n",
              "      <td>116</td>\n",
              "      <td>1.724138</td>\n",
              "    </tr>\n",
              "    <tr>\n",
              "      <th>3</th>\n",
              "      <td>Argentina</td>\n",
              "      <td>16</td>\n",
              "      <td>491</td>\n",
              "      <td>3.258656</td>\n",
              "    </tr>\n",
              "    <tr>\n",
              "      <th>4</th>\n",
              "      <td>Armenia</td>\n",
              "      <td>5</td>\n",
              "      <td>193</td>\n",
              "      <td>2.590674</td>\n",
              "    </tr>\n",
              "  </tbody>\n",
              "</table>\n",
              "</div>"
            ],
            "text/plain": [
              "       country  ...  Percentage of Quality Articles\n",
              "0  Afghanistan  ...                        4.075235\n",
              "1      Albania  ...                        0.657895\n",
              "2      Algeria  ...                        1.724138\n",
              "3    Argentina  ...                        3.258656\n",
              "4      Armenia  ...                        2.590674\n",
              "\n",
              "[5 rows x 4 columns]"
            ]
          },
          "metadata": {},
          "execution_count": 28
        }
      ]
    },
    {
      "cell_type": "markdown",
      "metadata": {
        "id": "JA1lS25hnByW"
      },
      "source": [
        "### **Step 6: Results**\n",
        "We finally have the metrics we are looking for and now we can explore the results of our analysis.\n",
        "\n",
        "We have a few different questions to look at involving top 10s and bottom 10s. \n",
        "\n",
        "They are as follows:\n",
        "\n",
        "\n",
        "1.   Top 10 countries by coverage: 10 highest-ranked countries in terms of number of politician articles as a proportion of country population\n",
        "2.   Bottom 10 countries by coverage: 10 lowest-ranked countries in terms of number of politician articles as a proportion of country population\n",
        "3. Top 10 countries by relative quality: 10 highest-ranked countries in terms of the relative proportion of politician articles that are of GA and FA-quality\n",
        "4. Bottom 10 countries by relative quality: 10 lowest-ranked countries in terms of the relative proportion of politician articles that are of GA and FA-quality\n",
        "5. Geographic regions by coverage: Ranking of geographic regions (in descending order) in terms of the total count of politician articles from countries in each region as a proportion of total regional population\n",
        "6. Geographic regions by coverage: Ranking of geographic regions (in descending order) in terms of the relative proportion of politician articles from countries in each region that are of GA and FA-quality\n",
        "\n"
      ],
      "id": "JA1lS25hnByW"
    },
    {
      "cell_type": "markdown",
      "metadata": {
        "id": "zXCfIxfQnuDr"
      },
      "source": [
        "To get the answers to these questions, it will be easiest to sort our tables in descending order"
      ],
      "id": "zXCfIxfQnuDr"
    },
    {
      "cell_type": "code",
      "metadata": {
        "id": "qlKl5JaGh0fD"
      },
      "source": [
        "# Sort article proportion data by country in descending order\n",
        "rank_countries = art_prop.sort_values(['percentage'], ascending=[False])\n",
        "\n",
        "## Sort High Quality article proportion by country in descending order\n",
        "rank__countries_high_quality = high_quality_prop.sort_values(['Percentage of Quality Articles'], ascending=[False])"
      ],
      "id": "qlKl5JaGh0fD",
      "execution_count": 29,
      "outputs": []
    },
    {
      "cell_type": "markdown",
      "metadata": {
        "id": "b5SE0ydhntTw"
      },
      "source": [
        "1. Top 10 countries by coverage: 10 highest-ranked countries in terms of number of politician articles as a proportion of country population"
      ],
      "id": "b5SE0ydhntTw"
    },
    {
      "cell_type": "code",
      "metadata": {
        "colab": {
          "base_uri": "https://localhost:8080/",
          "height": 357
        },
        "id": "IS-VQPFXh0ls",
        "outputId": "ac7c383f-3905-4d6a-bc66-e1fc301aa9e1"
      },
      "source": [
        "# Top 10 countries with largest proportion of articles to country population\n",
        "rank_countries.head(10)"
      ],
      "id": "IS-VQPFXh0ls",
      "execution_count": 30,
      "outputs": [
        {
          "output_type": "execute_result",
          "data": {
            "text/html": [
              "<div>\n",
              "<style scoped>\n",
              "    .dataframe tbody tr th:only-of-type {\n",
              "        vertical-align: middle;\n",
              "    }\n",
              "\n",
              "    .dataframe tbody tr th {\n",
              "        vertical-align: top;\n",
              "    }\n",
              "\n",
              "    .dataframe thead th {\n",
              "        text-align: right;\n",
              "    }\n",
              "</style>\n",
              "<table border=\"1\" class=\"dataframe\">\n",
              "  <thead>\n",
              "    <tr style=\"text-align: right;\">\n",
              "      <th></th>\n",
              "      <th>country</th>\n",
              "      <th>article_count</th>\n",
              "      <th>Name</th>\n",
              "      <th>Type</th>\n",
              "      <th>Population</th>\n",
              "      <th>percentage</th>\n",
              "    </tr>\n",
              "  </thead>\n",
              "  <tbody>\n",
              "    <tr>\n",
              "      <th>169</th>\n",
              "      <td>Tuvalu</td>\n",
              "      <td>54</td>\n",
              "      <td>Tuvalu</td>\n",
              "      <td>Country</td>\n",
              "      <td>10000</td>\n",
              "      <td>0.540000</td>\n",
              "    </tr>\n",
              "    <tr>\n",
              "      <th>117</th>\n",
              "      <td>Nauru</td>\n",
              "      <td>52</td>\n",
              "      <td>Nauru</td>\n",
              "      <td>Country</td>\n",
              "      <td>11000</td>\n",
              "      <td>0.472727</td>\n",
              "    </tr>\n",
              "    <tr>\n",
              "      <th>138</th>\n",
              "      <td>San Marino</td>\n",
              "      <td>81</td>\n",
              "      <td>San Marino</td>\n",
              "      <td>Country</td>\n",
              "      <td>34000</td>\n",
              "      <td>0.238235</td>\n",
              "    </tr>\n",
              "    <tr>\n",
              "      <th>110</th>\n",
              "      <td>Monaco</td>\n",
              "      <td>40</td>\n",
              "      <td>Monaco</td>\n",
              "      <td>Country</td>\n",
              "      <td>38000</td>\n",
              "      <td>0.105263</td>\n",
              "    </tr>\n",
              "    <tr>\n",
              "      <th>95</th>\n",
              "      <td>Liechtenstein</td>\n",
              "      <td>28</td>\n",
              "      <td>Liechtenstein</td>\n",
              "      <td>Country</td>\n",
              "      <td>39000</td>\n",
              "      <td>0.071795</td>\n",
              "    </tr>\n",
              "    <tr>\n",
              "      <th>104</th>\n",
              "      <td>Marshall Islands</td>\n",
              "      <td>37</td>\n",
              "      <td>Marshall Islands</td>\n",
              "      <td>Country</td>\n",
              "      <td>57000</td>\n",
              "      <td>0.064912</td>\n",
              "    </tr>\n",
              "    <tr>\n",
              "      <th>164</th>\n",
              "      <td>Tonga</td>\n",
              "      <td>63</td>\n",
              "      <td>Tonga</td>\n",
              "      <td>Country</td>\n",
              "      <td>99000</td>\n",
              "      <td>0.063636</td>\n",
              "    </tr>\n",
              "    <tr>\n",
              "      <th>70</th>\n",
              "      <td>Iceland</td>\n",
              "      <td>201</td>\n",
              "      <td>Iceland</td>\n",
              "      <td>Country</td>\n",
              "      <td>368000</td>\n",
              "      <td>0.054620</td>\n",
              "    </tr>\n",
              "    <tr>\n",
              "      <th>3</th>\n",
              "      <td>Andorra</td>\n",
              "      <td>34</td>\n",
              "      <td>Andorra</td>\n",
              "      <td>Country</td>\n",
              "      <td>82000</td>\n",
              "      <td>0.041463</td>\n",
              "    </tr>\n",
              "    <tr>\n",
              "      <th>52</th>\n",
              "      <td>Federated States of Micronesia</td>\n",
              "      <td>36</td>\n",
              "      <td>Federated States of Micronesia</td>\n",
              "      <td>Country</td>\n",
              "      <td>106000</td>\n",
              "      <td>0.033962</td>\n",
              "    </tr>\n",
              "  </tbody>\n",
              "</table>\n",
              "</div>"
            ],
            "text/plain": [
              "                            country  article_count  ... Population percentage\n",
              "169                          Tuvalu             54  ...      10000   0.540000\n",
              "117                           Nauru             52  ...      11000   0.472727\n",
              "138                      San Marino             81  ...      34000   0.238235\n",
              "110                          Monaco             40  ...      38000   0.105263\n",
              "95                    Liechtenstein             28  ...      39000   0.071795\n",
              "104                Marshall Islands             37  ...      57000   0.064912\n",
              "164                           Tonga             63  ...      99000   0.063636\n",
              "70                          Iceland            201  ...     368000   0.054620\n",
              "3                           Andorra             34  ...      82000   0.041463\n",
              "52   Federated States of Micronesia             36  ...     106000   0.033962\n",
              "\n",
              "[10 rows x 6 columns]"
            ]
          },
          "metadata": {},
          "execution_count": 30
        }
      ]
    },
    {
      "cell_type": "markdown",
      "metadata": {
        "id": "yRpvRGoYoP89"
      },
      "source": [
        "Tuvalu is the country with the largest proportion of politician articles per citizen. Tuvalu is one of the smallest countries population-wise."
      ],
      "id": "yRpvRGoYoP89"
    },
    {
      "cell_type": "markdown",
      "metadata": {
        "id": "OY2b_74tn5gg"
      },
      "source": [
        "2. Bottom 10 countries by coverage: 10 lowest-ranked countries in terms of number of politician articles as a proportion of country population"
      ],
      "id": "OY2b_74tn5gg"
    },
    {
      "cell_type": "code",
      "metadata": {
        "colab": {
          "base_uri": "https://localhost:8080/",
          "height": 357
        },
        "id": "R-Gnr8VGh0pn",
        "outputId": "249a4cb9-51c2-4d98-ee80-927e68749074"
      },
      "source": [
        "# Bottom 10 countries with largest proportion of articles to country population\n",
        "rank_countries.tail(10)"
      ],
      "id": "R-Gnr8VGh0pn",
      "execution_count": 31,
      "outputs": [
        {
          "output_type": "execute_result",
          "data": {
            "text/html": [
              "<div>\n",
              "<style scoped>\n",
              "    .dataframe tbody tr th:only-of-type {\n",
              "        vertical-align: middle;\n",
              "    }\n",
              "\n",
              "    .dataframe tbody tr th {\n",
              "        vertical-align: top;\n",
              "    }\n",
              "\n",
              "    .dataframe thead th {\n",
              "        text-align: right;\n",
              "    }\n",
              "</style>\n",
              "<table border=\"1\" class=\"dataframe\">\n",
              "  <thead>\n",
              "    <tr style=\"text-align: right;\">\n",
              "      <th></th>\n",
              "      <th>country</th>\n",
              "      <th>article_count</th>\n",
              "      <th>Name</th>\n",
              "      <th>Type</th>\n",
              "      <th>Population</th>\n",
              "      <th>percentage</th>\n",
              "    </tr>\n",
              "  </thead>\n",
              "  <tbody>\n",
              "    <tr>\n",
              "      <th>13</th>\n",
              "      <td>Bangladesh</td>\n",
              "      <td>317</td>\n",
              "      <td>Bangladesh</td>\n",
              "      <td>Country</td>\n",
              "      <td>169809000</td>\n",
              "      <td>0.000187</td>\n",
              "    </tr>\n",
              "    <tr>\n",
              "      <th>114</th>\n",
              "      <td>Mozambique</td>\n",
              "      <td>58</td>\n",
              "      <td>Mozambique</td>\n",
              "      <td>Country</td>\n",
              "      <td>31166000</td>\n",
              "      <td>0.000186</td>\n",
              "    </tr>\n",
              "    <tr>\n",
              "      <th>162</th>\n",
              "      <td>Thailand</td>\n",
              "      <td>112</td>\n",
              "      <td>Thailand</td>\n",
              "      <td>Country</td>\n",
              "      <td>66534000</td>\n",
              "      <td>0.000168</td>\n",
              "    </tr>\n",
              "    <tr>\n",
              "      <th>84</th>\n",
              "      <td>Korea, North</td>\n",
              "      <td>36</td>\n",
              "      <td>Korea, North</td>\n",
              "      <td>Country</td>\n",
              "      <td>25779000</td>\n",
              "      <td>0.000140</td>\n",
              "    </tr>\n",
              "    <tr>\n",
              "      <th>181</th>\n",
              "      <td>Zambia</td>\n",
              "      <td>25</td>\n",
              "      <td>Zambia</td>\n",
              "      <td>Country</td>\n",
              "      <td>18384000</td>\n",
              "      <td>0.000136</td>\n",
              "    </tr>\n",
              "    <tr>\n",
              "      <th>51</th>\n",
              "      <td>Ethiopia</td>\n",
              "      <td>101</td>\n",
              "      <td>Ethiopia</td>\n",
              "      <td>Country</td>\n",
              "      <td>114916000</td>\n",
              "      <td>0.000088</td>\n",
              "    </tr>\n",
              "    <tr>\n",
              "      <th>176</th>\n",
              "      <td>Uzbekistan</td>\n",
              "      <td>28</td>\n",
              "      <td>Uzbekistan</td>\n",
              "      <td>Country</td>\n",
              "      <td>34174000</td>\n",
              "      <td>0.000082</td>\n",
              "    </tr>\n",
              "    <tr>\n",
              "      <th>34</th>\n",
              "      <td>China</td>\n",
              "      <td>1129</td>\n",
              "      <td>China</td>\n",
              "      <td>Country</td>\n",
              "      <td>1402385000</td>\n",
              "      <td>0.000081</td>\n",
              "    </tr>\n",
              "    <tr>\n",
              "      <th>72</th>\n",
              "      <td>Indonesia</td>\n",
              "      <td>209</td>\n",
              "      <td>Indonesia</td>\n",
              "      <td>Country</td>\n",
              "      <td>271739000</td>\n",
              "      <td>0.000077</td>\n",
              "    </tr>\n",
              "    <tr>\n",
              "      <th>71</th>\n",
              "      <td>India</td>\n",
              "      <td>968</td>\n",
              "      <td>India</td>\n",
              "      <td>Country</td>\n",
              "      <td>1400100000</td>\n",
              "      <td>0.000069</td>\n",
              "    </tr>\n",
              "  </tbody>\n",
              "</table>\n",
              "</div>"
            ],
            "text/plain": [
              "          country  article_count          Name     Type  Population  percentage\n",
              "13     Bangladesh            317    Bangladesh  Country   169809000    0.000187\n",
              "114    Mozambique             58    Mozambique  Country    31166000    0.000186\n",
              "162      Thailand            112      Thailand  Country    66534000    0.000168\n",
              "84   Korea, North             36  Korea, North  Country    25779000    0.000140\n",
              "181        Zambia             25        Zambia  Country    18384000    0.000136\n",
              "51       Ethiopia            101      Ethiopia  Country   114916000    0.000088\n",
              "176    Uzbekistan             28    Uzbekistan  Country    34174000    0.000082\n",
              "34          China           1129         China  Country  1402385000    0.000081\n",
              "72      Indonesia            209     Indonesia  Country   271739000    0.000077\n",
              "71          India            968         India  Country  1400100000    0.000069"
            ]
          },
          "metadata": {},
          "execution_count": 31
        }
      ]
    },
    {
      "cell_type": "markdown",
      "metadata": {
        "id": "NzgqLo2VoaqS"
      },
      "source": [
        "India is the country with the smallest proportion of politician articles per citizen. I imagine this is because the population is so large."
      ],
      "id": "NzgqLo2VoaqS"
    },
    {
      "cell_type": "markdown",
      "metadata": {
        "id": "1k6X1iNuoFYS"
      },
      "source": [
        "3. Top 10 countries by relative quality: 10 highest-ranked countries in terms of the relative proportion of politician articles that are of GA and FA-quality"
      ],
      "id": "1k6X1iNuoFYS"
    },
    {
      "cell_type": "code",
      "metadata": {
        "colab": {
          "base_uri": "https://localhost:8080/",
          "height": 357
        },
        "id": "Axjv3KkLh0su",
        "outputId": "a12bd334-b40a-4272-c0d8-58d9069ba512"
      },
      "source": [
        "# Top 10 countries with largest proportion of high quality articles to total number of articles\n",
        "rank__countries_high_quality.head(10)"
      ],
      "id": "Axjv3KkLh0su",
      "execution_count": 32,
      "outputs": [
        {
          "output_type": "execute_result",
          "data": {
            "text/html": [
              "<div>\n",
              "<style scoped>\n",
              "    .dataframe tbody tr th:only-of-type {\n",
              "        vertical-align: middle;\n",
              "    }\n",
              "\n",
              "    .dataframe tbody tr th {\n",
              "        vertical-align: top;\n",
              "    }\n",
              "\n",
              "    .dataframe thead th {\n",
              "        text-align: right;\n",
              "    }\n",
              "</style>\n",
              "<table border=\"1\" class=\"dataframe\">\n",
              "  <thead>\n",
              "    <tr style=\"text-align: right;\">\n",
              "      <th></th>\n",
              "      <th>country</th>\n",
              "      <th>high_quality_article_count</th>\n",
              "      <th>article_count</th>\n",
              "      <th>Percentage of Quality Articles</th>\n",
              "    </tr>\n",
              "  </thead>\n",
              "  <tbody>\n",
              "    <tr>\n",
              "      <th>63</th>\n",
              "      <td>Korea, North</td>\n",
              "      <td>8</td>\n",
              "      <td>36</td>\n",
              "      <td>22.222222</td>\n",
              "    </tr>\n",
              "    <tr>\n",
              "      <th>109</th>\n",
              "      <td>Saudi Arabia</td>\n",
              "      <td>15</td>\n",
              "      <td>117</td>\n",
              "      <td>12.820513</td>\n",
              "    </tr>\n",
              "    <tr>\n",
              "      <th>106</th>\n",
              "      <td>Romania</td>\n",
              "      <td>42</td>\n",
              "      <td>343</td>\n",
              "      <td>12.244898</td>\n",
              "    </tr>\n",
              "    <tr>\n",
              "      <th>23</th>\n",
              "      <td>Central African Republic</td>\n",
              "      <td>8</td>\n",
              "      <td>66</td>\n",
              "      <td>12.121212</td>\n",
              "    </tr>\n",
              "    <tr>\n",
              "      <th>140</th>\n",
              "      <td>Uzbekistan</td>\n",
              "      <td>3</td>\n",
              "      <td>28</td>\n",
              "      <td>10.714286</td>\n",
              "    </tr>\n",
              "    <tr>\n",
              "      <th>82</th>\n",
              "      <td>Mauritania</td>\n",
              "      <td>5</td>\n",
              "      <td>48</td>\n",
              "      <td>10.416667</td>\n",
              "    </tr>\n",
              "    <tr>\n",
              "      <th>46</th>\n",
              "      <td>Guatemala</td>\n",
              "      <td>7</td>\n",
              "      <td>83</td>\n",
              "      <td>8.433735</td>\n",
              "    </tr>\n",
              "    <tr>\n",
              "      <th>33</th>\n",
              "      <td>Dominica</td>\n",
              "      <td>1</td>\n",
              "      <td>12</td>\n",
              "      <td>8.333333</td>\n",
              "    </tr>\n",
              "    <tr>\n",
              "      <th>125</th>\n",
              "      <td>Syria</td>\n",
              "      <td>10</td>\n",
              "      <td>128</td>\n",
              "      <td>7.812500</td>\n",
              "    </tr>\n",
              "    <tr>\n",
              "      <th>11</th>\n",
              "      <td>Benin</td>\n",
              "      <td>7</td>\n",
              "      <td>91</td>\n",
              "      <td>7.692308</td>\n",
              "    </tr>\n",
              "  </tbody>\n",
              "</table>\n",
              "</div>"
            ],
            "text/plain": [
              "                      country  ...  Percentage of Quality Articles\n",
              "63               Korea, North  ...                       22.222222\n",
              "109              Saudi Arabia  ...                       12.820513\n",
              "106                   Romania  ...                       12.244898\n",
              "23   Central African Republic  ...                       12.121212\n",
              "140                Uzbekistan  ...                       10.714286\n",
              "82                 Mauritania  ...                       10.416667\n",
              "46                  Guatemala  ...                        8.433735\n",
              "33                   Dominica  ...                        8.333333\n",
              "125                     Syria  ...                        7.812500\n",
              "11                      Benin  ...                        7.692308\n",
              "\n",
              "[10 rows x 4 columns]"
            ]
          },
          "metadata": {},
          "execution_count": 32
        }
      ]
    },
    {
      "cell_type": "markdown",
      "metadata": {
        "id": "5XGHs56loyCB"
      },
      "source": [
        "Interestingly, North Korea has the largest percentage of quality politican articles compared to any other country. I remember in class it was stated that quality is dictated based on the country/language it was written in, so based on the English wikipedia articles, North Korea has a high percentage. I imagine that the percentage could be even higher if we were to look at the Korean version of these wikipedia articles. "
      ],
      "id": "5XGHs56loyCB"
    },
    {
      "cell_type": "markdown",
      "metadata": {
        "id": "G91Qp7r4oIQv"
      },
      "source": [
        "4. Bottom 10 countries by relative quality: 10 lowest-ranked countries in terms of the relative proportion of politician articles that are of GA and FA-quality"
      ],
      "id": "G91Qp7r4oIQv"
    },
    {
      "cell_type": "code",
      "metadata": {
        "colab": {
          "base_uri": "https://localhost:8080/",
          "height": 357
        },
        "id": "ENJ_9CpQh0v8",
        "outputId": "8888a525-f73a-4a37-9887-b9cc032e4b04"
      },
      "source": [
        "# Bottom 10 countries with largest proportion of high quality articles to total number of articles\n",
        "rank__countries_high_quality.tail(10)"
      ],
      "id": "ENJ_9CpQh0v8",
      "execution_count": 33,
      "outputs": [
        {
          "output_type": "execute_result",
          "data": {
            "text/html": [
              "<div>\n",
              "<style scoped>\n",
              "    .dataframe tbody tr th:only-of-type {\n",
              "        vertical-align: middle;\n",
              "    }\n",
              "\n",
              "    .dataframe tbody tr th {\n",
              "        vertical-align: top;\n",
              "    }\n",
              "\n",
              "    .dataframe thead th {\n",
              "        text-align: right;\n",
              "    }\n",
              "</style>\n",
              "<table border=\"1\" class=\"dataframe\">\n",
              "  <thead>\n",
              "    <tr style=\"text-align: right;\">\n",
              "      <th></th>\n",
              "      <th>country</th>\n",
              "      <th>high_quality_article_count</th>\n",
              "      <th>article_count</th>\n",
              "      <th>Percentage of Quality Articles</th>\n",
              "    </tr>\n",
              "  </thead>\n",
              "  <tbody>\n",
              "    <tr>\n",
              "      <th>87</th>\n",
              "      <td>Morocco</td>\n",
              "      <td>1</td>\n",
              "      <td>206</td>\n",
              "      <td>0.485437</td>\n",
              "    </tr>\n",
              "    <tr>\n",
              "      <th>73</th>\n",
              "      <td>Lithuania</td>\n",
              "      <td>1</td>\n",
              "      <td>244</td>\n",
              "      <td>0.409836</td>\n",
              "    </tr>\n",
              "    <tr>\n",
              "      <th>27</th>\n",
              "      <td>Colombia</td>\n",
              "      <td>1</td>\n",
              "      <td>285</td>\n",
              "      <td>0.350877</td>\n",
              "    </tr>\n",
              "    <tr>\n",
              "      <th>104</th>\n",
              "      <td>Portugal</td>\n",
              "      <td>1</td>\n",
              "      <td>318</td>\n",
              "      <td>0.314465</td>\n",
              "    </tr>\n",
              "    <tr>\n",
              "      <th>94</th>\n",
              "      <td>Nigeria</td>\n",
              "      <td>2</td>\n",
              "      <td>676</td>\n",
              "      <td>0.295858</td>\n",
              "    </tr>\n",
              "    <tr>\n",
              "      <th>101</th>\n",
              "      <td>Peru</td>\n",
              "      <td>1</td>\n",
              "      <td>350</td>\n",
              "      <td>0.285714</td>\n",
              "    </tr>\n",
              "    <tr>\n",
              "      <th>89</th>\n",
              "      <td>Nepal</td>\n",
              "      <td>1</td>\n",
              "      <td>356</td>\n",
              "      <td>0.280899</td>\n",
              "    </tr>\n",
              "    <tr>\n",
              "      <th>124</th>\n",
              "      <td>Switzerland</td>\n",
              "      <td>1</td>\n",
              "      <td>402</td>\n",
              "      <td>0.248756</td>\n",
              "    </tr>\n",
              "    <tr>\n",
              "      <th>128</th>\n",
              "      <td>Tanzania</td>\n",
              "      <td>1</td>\n",
              "      <td>404</td>\n",
              "      <td>0.247525</td>\n",
              "    </tr>\n",
              "    <tr>\n",
              "      <th>10</th>\n",
              "      <td>Belgium</td>\n",
              "      <td>1</td>\n",
              "      <td>519</td>\n",
              "      <td>0.192678</td>\n",
              "    </tr>\n",
              "  </tbody>\n",
              "</table>\n",
              "</div>"
            ],
            "text/plain": [
              "         country  ...  Percentage of Quality Articles\n",
              "87       Morocco  ...                        0.485437\n",
              "73     Lithuania  ...                        0.409836\n",
              "27      Colombia  ...                        0.350877\n",
              "104     Portugal  ...                        0.314465\n",
              "94       Nigeria  ...                        0.295858\n",
              "101         Peru  ...                        0.285714\n",
              "89         Nepal  ...                        0.280899\n",
              "124  Switzerland  ...                        0.248756\n",
              "128     Tanzania  ...                        0.247525\n",
              "10       Belgium  ...                        0.192678\n",
              "\n",
              "[10 rows x 4 columns]"
            ]
          },
          "metadata": {},
          "execution_count": 33
        }
      ]
    },
    {
      "cell_type": "markdown",
      "metadata": {
        "id": "TFArY0AzpfhC"
      },
      "source": [
        "Belgium has the lowest percentage of quality articles of any country. Even if you take into consideration the total number of articles Belgium has on politicians, it still only has 1 high quality article. I wonder why that is?"
      ],
      "id": "TFArY0AzpfhC"
    }
  ]
}